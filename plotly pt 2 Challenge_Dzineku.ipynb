{
 "cells": [
  {
   "cell_type": "code",
   "execution_count": 12,
   "id": "f6908096-1515-4a61-b982-ccba260a0cc5",
   "metadata": {},
   "outputs": [],
   "source": [
    "import pandas as pd\n",
    "import plotly.graph_objects as go"
   ]
  },
  {
   "cell_type": "code",
   "execution_count": 13,
   "id": "f8c0f62d-acd4-4d17-b702-7ac1429ec941",
   "metadata": {},
   "outputs": [
    {
     "data": {
      "text/html": [
       "<div>\n",
       "<style scoped>\n",
       "    .dataframe tbody tr th:only-of-type {\n",
       "        vertical-align: middle;\n",
       "    }\n",
       "\n",
       "    .dataframe tbody tr th {\n",
       "        vertical-align: top;\n",
       "    }\n",
       "\n",
       "    .dataframe thead th {\n",
       "        text-align: right;\n",
       "    }\n",
       "</style>\n",
       "<table border=\"1\" class=\"dataframe\">\n",
       "  <thead>\n",
       "    <tr style=\"text-align: right;\">\n",
       "      <th></th>\n",
       "      <th>name</th>\n",
       "      <th>id</th>\n",
       "      <th>nametype</th>\n",
       "      <th>recclass</th>\n",
       "      <th>mass (g)</th>\n",
       "      <th>fall</th>\n",
       "      <th>year</th>\n",
       "      <th>reclat</th>\n",
       "      <th>reclong</th>\n",
       "      <th>GeoLocation</th>\n",
       "      <th>log_mass</th>\n",
       "    </tr>\n",
       "  </thead>\n",
       "  <tbody>\n",
       "    <tr>\n",
       "      <th>0</th>\n",
       "      <td>Northwest Africa 3126</td>\n",
       "      <td>31254</td>\n",
       "      <td>Valid</td>\n",
       "      <td>LL3.7</td>\n",
       "      <td>173.000</td>\n",
       "      <td>Found</td>\n",
       "      <td>2001.0</td>\n",
       "      <td>NaN</td>\n",
       "      <td>NaN</td>\n",
       "      <td>NaN</td>\n",
       "      <td>5.153292</td>\n",
       "    </tr>\n",
       "    <tr>\n",
       "      <th>1</th>\n",
       "      <td>LaPaz Icefield 04605</td>\n",
       "      <td>45163</td>\n",
       "      <td>Valid</td>\n",
       "      <td>L5</td>\n",
       "      <td>63.000</td>\n",
       "      <td>Found</td>\n",
       "      <td>2004.0</td>\n",
       "      <td>NaN</td>\n",
       "      <td>NaN</td>\n",
       "      <td>NaN</td>\n",
       "      <td>4.143135</td>\n",
       "    </tr>\n",
       "    <tr>\n",
       "      <th>2</th>\n",
       "      <td>Yamato 980593</td>\n",
       "      <td>37216</td>\n",
       "      <td>Valid</td>\n",
       "      <td>L3</td>\n",
       "      <td>10.913</td>\n",
       "      <td>Found</td>\n",
       "      <td>1998.0</td>\n",
       "      <td>NaN</td>\n",
       "      <td>NaN</td>\n",
       "      <td>NaN</td>\n",
       "      <td>2.389955</td>\n",
       "    </tr>\n",
       "    <tr>\n",
       "      <th>3</th>\n",
       "      <td>Queen Alexandra Range 97279</td>\n",
       "      <td>20737</td>\n",
       "      <td>Valid</td>\n",
       "      <td>LL5</td>\n",
       "      <td>27.300</td>\n",
       "      <td>Found</td>\n",
       "      <td>1997.0</td>\n",
       "      <td>-84.00000</td>\n",
       "      <td>168.00000</td>\n",
       "      <td>(-84.0, 168.0)</td>\n",
       "      <td>3.306887</td>\n",
       "    </tr>\n",
       "    <tr>\n",
       "      <th>4</th>\n",
       "      <td>Elephant Moraine 90798</td>\n",
       "      <td>9207</td>\n",
       "      <td>Valid</td>\n",
       "      <td>L6</td>\n",
       "      <td>20.900</td>\n",
       "      <td>Found</td>\n",
       "      <td>1990.0</td>\n",
       "      <td>-76.28535</td>\n",
       "      <td>156.44404</td>\n",
       "      <td>(-76.28535, 156.44404)</td>\n",
       "      <td>3.039749</td>\n",
       "    </tr>\n",
       "  </tbody>\n",
       "</table>\n",
       "</div>"
      ],
      "text/plain": [
       "                          name     id nametype recclass  mass (g)   fall  \\\n",
       "0        Northwest Africa 3126  31254    Valid    LL3.7   173.000  Found   \n",
       "1         LaPaz Icefield 04605  45163    Valid       L5    63.000  Found   \n",
       "2                Yamato 980593  37216    Valid       L3    10.913  Found   \n",
       "3  Queen Alexandra Range 97279  20737    Valid      LL5    27.300  Found   \n",
       "4       Elephant Moraine 90798   9207    Valid       L6    20.900  Found   \n",
       "\n",
       "     year    reclat    reclong             GeoLocation  log_mass  \n",
       "0  2001.0       NaN        NaN                     NaN  5.153292  \n",
       "1  2004.0       NaN        NaN                     NaN  4.143135  \n",
       "2  1998.0       NaN        NaN                     NaN  2.389955  \n",
       "3  1997.0 -84.00000  168.00000          (-84.0, 168.0)  3.306887  \n",
       "4  1990.0 -76.28535  156.44404  (-76.28535, 156.44404)  3.039749  "
      ]
     },
     "execution_count": 13,
     "metadata": {},
     "output_type": "execute_result"
    }
   ],
   "source": [
    "df = pd.read_csv('Meteorite_Landings_Sample.csv')\n",
    "met.head()"
   ]
  },
  {
   "cell_type": "code",
   "execution_count": 14,
   "id": "f0443b69-d8d1-4d30-a245-b39008605b1a",
   "metadata": {},
   "outputs": [
    {
     "data": {
      "text/plain": [
       "RangeIndex(start=0, stop=200, step=1)"
      ]
     },
     "execution_count": 14,
     "metadata": {},
     "output_type": "execute_result"
    }
   ],
   "source": [
    "df.index"
   ]
  },
  {
   "cell_type": "code",
   "execution_count": 15,
   "id": "a772d389-9081-42ee-8a47-d0872519de93",
   "metadata": {},
   "outputs": [
    {
     "data": {
      "text/plain": [
       "<bound method NDFrame.tail of                             name     id nametype recclass   mass (g)   fall  \\\n",
       "0          Northwest Africa 3126  31254    Valid    LL3.7    173.000  Found   \n",
       "1           LaPaz Icefield 04605  45163    Valid       L5     63.000  Found   \n",
       "2                  Yamato 980593  37216    Valid       L3     10.913  Found   \n",
       "3    Queen Alexandra Range 97279  20737    Valid      LL5     27.300  Found   \n",
       "4         Elephant Moraine 90798   9207    Valid       L6     20.900  Found   \n",
       "..                           ...    ...      ...      ...        ...    ...   \n",
       "195                     Wooramel  24335    Valid       L5  71000.000  Found   \n",
       "196                 Bluewing 031  51575    Valid       H5    170.000  Found   \n",
       "197                 Yamato 86011  29517    Valid       H5      9.130  Found   \n",
       "198  Queen Alexandra Range 94454  20086    Valid       L6      5.000  Found   \n",
       "199          Miller Range 090893  54416    Valid      LL6      4.200  Found   \n",
       "\n",
       "       year    reclat    reclong             GeoLocation  \n",
       "0    2001.0       NaN        NaN                     NaN  \n",
       "1    2004.0       NaN        NaN                     NaN  \n",
       "2    1998.0       NaN        NaN                     NaN  \n",
       "3    1997.0 -84.00000  168.00000          (-84.0, 168.0)  \n",
       "4    1990.0 -76.28535  156.44404  (-76.28535, 156.44404)  \n",
       "..      ...       ...        ...                     ...  \n",
       "195  1969.0 -25.65000  114.21667     (-25.65, 114.21667)  \n",
       "196  1999.0  40.26667 -118.93333  (40.26667, -118.93333)  \n",
       "197  1986.0 -71.50000   35.66667       (-71.5, 35.66667)  \n",
       "198  1994.0 -84.00000  168.00000          (-84.0, 168.0)  \n",
       "199  2009.0   0.00000    0.00000              (0.0, 0.0)  \n",
       "\n",
       "[200 rows x 10 columns]>"
      ]
     },
     "execution_count": 15,
     "metadata": {},
     "output_type": "execute_result"
    }
   ],
   "source": [
    "df.tail"
   ]
  },
  {
   "cell_type": "code",
   "execution_count": 16,
   "id": "e0a556f1-d0c6-40f1-831d-7598f18cd09d",
   "metadata": {},
   "outputs": [
    {
     "data": {
      "application/vnd.plotly.v1+json": {
       "config": {
        "plotlyServerURL": "https://plot.ly"
       },
       "data": [
        {
         "lat": [
          null,
          null,
          null,
          -84,
          -76.28535,
          -71.5,
          -86.51027,
          null,
          -72,
          -71.5,
          -71.5,
          -84.27378,
          null,
          34.2,
          -84.357,
          -84,
          -84,
          -72,
          -84,
          -72.77917,
          -80.25,
          null,
          -85.691,
          -84,
          null,
          null,
          -76.71667,
          null,
          null,
          -71.82806,
          0,
          0,
          -72.99889,
          -72.7769,
          20.5052,
          36.21667,
          -72.76944,
          33.01667,
          -86.36667,
          -71.5,
          -86.36667,
          -30.99311,
          20.60837,
          -72.95488,
          -76.31222,
          -71.5,
          -72.95222,
          0,
          null,
          null,
          35.71667,
          -86.45,
          null,
          -71.5,
          -71.5,
          -76.18333,
          0,
          0,
          -71.5,
          18.90573,
          null,
          -84,
          27.71667,
          18.741611,
          19.14611,
          48.45,
          -25.23333,
          -71.5,
          -85.66787,
          null,
          18.70115,
          33.275,
          null,
          -76.27512,
          -86.52222,
          -76.77389,
          -76.18333,
          0,
          -84.25231,
          -76.71667,
          null,
          -84,
          null,
          -85.68006,
          -84,
          -76.28565,
          -71.5,
          27.17717,
          -71.5,
          -72.95108,
          -79.68333,
          -79.68333,
          -84.25909,
          38.85,
          0,
          18.67917,
          null,
          -84.28986,
          -84,
          -71.5,
          null,
          null,
          null,
          0,
          -86.36667,
          null,
          0,
          -72.99889,
          -84,
          27.2265,
          null,
          -72.95457,
          18.50755,
          -84.25499,
          -84.27385,
          -71.5,
          -72.7775,
          55.7,
          0,
          -84,
          -71.5,
          -76.68944,
          -85.65807,
          21.37107,
          -24.85,
          -84.27639,
          0,
          18.625,
          -76.31028,
          -85.68404,
          0,
          37.5,
          20.35833,
          0,
          0,
          0,
          0,
          0,
          null,
          -72.9822,
          null,
          0,
          27.03333,
          -71.5,
          -84,
          -84,
          -79.68333,
          -76.18333,
          null,
          -72.77889,
          -84,
          null,
          -84,
          -76.2858,
          -76.27972,
          -72.77472,
          -86.56667,
          0,
          -76.18333,
          null,
          -71.5,
          -71.5,
          23.98611,
          -76.7574,
          19.190417,
          0,
          0,
          -72,
          -71.5,
          -72.998889,
          -72.77306,
          20.41437,
          null,
          39.33333,
          0,
          -84.24623,
          18.7247,
          -31.53333,
          -71.5,
          null,
          -71.5,
          33.03333,
          0,
          null,
          37.28333,
          -84.27985,
          20.7827,
          -72.77944,
          18.59083,
          -79.68333,
          -77.01706,
          null,
          -84,
          19.97933,
          null,
          -25.65,
          40.26667,
          -71.5,
          -84,
          0
         ],
         "lon": [
          null,
          null,
          null,
          168,
          156.44404,
          35.66667,
          -122.9522,
          null,
          26,
          35.66667,
          35.66667,
          161.68545,
          null,
          -86.48333,
          161.36443,
          168,
          168,
          26,
          168,
          75.31056,
          153.5,
          null,
          -68.96836,
          168,
          null,
          null,
          159.66667,
          null,
          null,
          36.20556,
          0,
          0,
          75.18722,
          75.3264,
          56.48438,
          -103.4,
          75.3375,
          -83.96667,
          -70,
          35.66667,
          -70,
          131.33253,
          57.16007,
          160.47328,
          157.39528,
          35.66667,
          160.50161,
          0,
          null,
          null,
          -81.86667,
          -165.43333,
          null,
          35.66667,
          35.66667,
          157.16667,
          0,
          0,
          35.66667,
          54.50885,
          null,
          168,
          4.13333,
          54.26175,
          54.40111,
          3.93333,
          -69.71667,
          35.66667,
          -68.25751,
          null,
          54.36907,
          -102.96,
          null,
          156.36181,
          -123.79341,
          159.275,
          157.16667,
          0,
          161.45413,
          159.66667,
          null,
          168,
          null,
          -68.68107,
          168,
          156.48143,
          35.66667,
          16.26683,
          35.66667,
          160.51425,
          159.75,
          159.75,
          161.41026,
          -96.58333,
          0,
          54.58783,
          null,
          161.28593,
          168,
          35.66667,
          null,
          null,
          null,
          0,
          -70,
          null,
          0,
          75.18722,
          168,
          -9.74117,
          null,
          160.50374,
          53.99325,
          161.40492,
          161.68603,
          35.66667,
          75.334167,
          24.4,
          0,
          168,
          35.66667,
          159.36889,
          -68.17227,
          58.41415,
          -70.53333,
          161.34562,
          0,
          54.43,
          157.1975,
          -68.87777,
          0,
          -79.75,
          11.85,
          0,
          0,
          0,
          0,
          0,
          null,
          75.2489,
          null,
          0,
          16.35,
          35.66667,
          168,
          168,
          155.75,
          157.16667,
          null,
          75.31111,
          168,
          null,
          168,
          156.46845,
          156.47219,
          75.32361,
          -165.11667,
          0,
          157.16667,
          null,
          35.66667,
          35.66667,
          32.62361,
          158.90775,
          54.957194,
          0,
          0,
          26,
          35.66667,
          75.187222,
          75.33806,
          57.06578,
          null,
          -98.16667,
          0,
          161.41018,
          54.39503,
          127.01667,
          35.66667,
          null,
          35.66667,
          -102.33333,
          0,
          null,
          -102.2,
          161.34894,
          55.42668,
          75.27,
          54.543,
          159.75,
          156.96282,
          null,
          168,
          55.95507,
          null,
          114.21667,
          -118.93333,
          35.66667,
          168,
          0
         ],
         "mode": "markers",
         "type": "scattergeo"
        }
       ],
       "layout": {
        "autosize": true,
        "geo": {
         "scope": "world"
        },
        "template": {
         "data": {
          "bar": [
           {
            "error_x": {
             "color": "#2a3f5f"
            },
            "error_y": {
             "color": "#2a3f5f"
            },
            "marker": {
             "line": {
              "color": "#E5ECF6",
              "width": 0.5
             },
             "pattern": {
              "fillmode": "overlay",
              "size": 10,
              "solidity": 0.2
             }
            },
            "type": "bar"
           }
          ],
          "barpolar": [
           {
            "marker": {
             "line": {
              "color": "#E5ECF6",
              "width": 0.5
             },
             "pattern": {
              "fillmode": "overlay",
              "size": 10,
              "solidity": 0.2
             }
            },
            "type": "barpolar"
           }
          ],
          "carpet": [
           {
            "aaxis": {
             "endlinecolor": "#2a3f5f",
             "gridcolor": "white",
             "linecolor": "white",
             "minorgridcolor": "white",
             "startlinecolor": "#2a3f5f"
            },
            "baxis": {
             "endlinecolor": "#2a3f5f",
             "gridcolor": "white",
             "linecolor": "white",
             "minorgridcolor": "white",
             "startlinecolor": "#2a3f5f"
            },
            "type": "carpet"
           }
          ],
          "choropleth": [
           {
            "colorbar": {
             "outlinewidth": 0,
             "ticks": ""
            },
            "type": "choropleth"
           }
          ],
          "contour": [
           {
            "colorbar": {
             "outlinewidth": 0,
             "ticks": ""
            },
            "colorscale": [
             [
              0,
              "#0d0887"
             ],
             [
              0.1111111111111111,
              "#46039f"
             ],
             [
              0.2222222222222222,
              "#7201a8"
             ],
             [
              0.3333333333333333,
              "#9c179e"
             ],
             [
              0.4444444444444444,
              "#bd3786"
             ],
             [
              0.5555555555555556,
              "#d8576b"
             ],
             [
              0.6666666666666666,
              "#ed7953"
             ],
             [
              0.7777777777777778,
              "#fb9f3a"
             ],
             [
              0.8888888888888888,
              "#fdca26"
             ],
             [
              1,
              "#f0f921"
             ]
            ],
            "type": "contour"
           }
          ],
          "contourcarpet": [
           {
            "colorbar": {
             "outlinewidth": 0,
             "ticks": ""
            },
            "type": "contourcarpet"
           }
          ],
          "heatmap": [
           {
            "colorbar": {
             "outlinewidth": 0,
             "ticks": ""
            },
            "colorscale": [
             [
              0,
              "#0d0887"
             ],
             [
              0.1111111111111111,
              "#46039f"
             ],
             [
              0.2222222222222222,
              "#7201a8"
             ],
             [
              0.3333333333333333,
              "#9c179e"
             ],
             [
              0.4444444444444444,
              "#bd3786"
             ],
             [
              0.5555555555555556,
              "#d8576b"
             ],
             [
              0.6666666666666666,
              "#ed7953"
             ],
             [
              0.7777777777777778,
              "#fb9f3a"
             ],
             [
              0.8888888888888888,
              "#fdca26"
             ],
             [
              1,
              "#f0f921"
             ]
            ],
            "type": "heatmap"
           }
          ],
          "heatmapgl": [
           {
            "colorbar": {
             "outlinewidth": 0,
             "ticks": ""
            },
            "colorscale": [
             [
              0,
              "#0d0887"
             ],
             [
              0.1111111111111111,
              "#46039f"
             ],
             [
              0.2222222222222222,
              "#7201a8"
             ],
             [
              0.3333333333333333,
              "#9c179e"
             ],
             [
              0.4444444444444444,
              "#bd3786"
             ],
             [
              0.5555555555555556,
              "#d8576b"
             ],
             [
              0.6666666666666666,
              "#ed7953"
             ],
             [
              0.7777777777777778,
              "#fb9f3a"
             ],
             [
              0.8888888888888888,
              "#fdca26"
             ],
             [
              1,
              "#f0f921"
             ]
            ],
            "type": "heatmapgl"
           }
          ],
          "histogram": [
           {
            "marker": {
             "pattern": {
              "fillmode": "overlay",
              "size": 10,
              "solidity": 0.2
             }
            },
            "type": "histogram"
           }
          ],
          "histogram2d": [
           {
            "colorbar": {
             "outlinewidth": 0,
             "ticks": ""
            },
            "colorscale": [
             [
              0,
              "#0d0887"
             ],
             [
              0.1111111111111111,
              "#46039f"
             ],
             [
              0.2222222222222222,
              "#7201a8"
             ],
             [
              0.3333333333333333,
              "#9c179e"
             ],
             [
              0.4444444444444444,
              "#bd3786"
             ],
             [
              0.5555555555555556,
              "#d8576b"
             ],
             [
              0.6666666666666666,
              "#ed7953"
             ],
             [
              0.7777777777777778,
              "#fb9f3a"
             ],
             [
              0.8888888888888888,
              "#fdca26"
             ],
             [
              1,
              "#f0f921"
             ]
            ],
            "type": "histogram2d"
           }
          ],
          "histogram2dcontour": [
           {
            "colorbar": {
             "outlinewidth": 0,
             "ticks": ""
            },
            "colorscale": [
             [
              0,
              "#0d0887"
             ],
             [
              0.1111111111111111,
              "#46039f"
             ],
             [
              0.2222222222222222,
              "#7201a8"
             ],
             [
              0.3333333333333333,
              "#9c179e"
             ],
             [
              0.4444444444444444,
              "#bd3786"
             ],
             [
              0.5555555555555556,
              "#d8576b"
             ],
             [
              0.6666666666666666,
              "#ed7953"
             ],
             [
              0.7777777777777778,
              "#fb9f3a"
             ],
             [
              0.8888888888888888,
              "#fdca26"
             ],
             [
              1,
              "#f0f921"
             ]
            ],
            "type": "histogram2dcontour"
           }
          ],
          "mesh3d": [
           {
            "colorbar": {
             "outlinewidth": 0,
             "ticks": ""
            },
            "type": "mesh3d"
           }
          ],
          "parcoords": [
           {
            "line": {
             "colorbar": {
              "outlinewidth": 0,
              "ticks": ""
             }
            },
            "type": "parcoords"
           }
          ],
          "pie": [
           {
            "automargin": true,
            "type": "pie"
           }
          ],
          "scatter": [
           {
            "fillpattern": {
             "fillmode": "overlay",
             "size": 10,
             "solidity": 0.2
            },
            "type": "scatter"
           }
          ],
          "scatter3d": [
           {
            "line": {
             "colorbar": {
              "outlinewidth": 0,
              "ticks": ""
             }
            },
            "marker": {
             "colorbar": {
              "outlinewidth": 0,
              "ticks": ""
             }
            },
            "type": "scatter3d"
           }
          ],
          "scattercarpet": [
           {
            "marker": {
             "colorbar": {
              "outlinewidth": 0,
              "ticks": ""
             }
            },
            "type": "scattercarpet"
           }
          ],
          "scattergeo": [
           {
            "marker": {
             "colorbar": {
              "outlinewidth": 0,
              "ticks": ""
             }
            },
            "type": "scattergeo"
           }
          ],
          "scattergl": [
           {
            "marker": {
             "colorbar": {
              "outlinewidth": 0,
              "ticks": ""
             }
            },
            "type": "scattergl"
           }
          ],
          "scattermapbox": [
           {
            "marker": {
             "colorbar": {
              "outlinewidth": 0,
              "ticks": ""
             }
            },
            "type": "scattermapbox"
           }
          ],
          "scatterpolar": [
           {
            "marker": {
             "colorbar": {
              "outlinewidth": 0,
              "ticks": ""
             }
            },
            "type": "scatterpolar"
           }
          ],
          "scatterpolargl": [
           {
            "marker": {
             "colorbar": {
              "outlinewidth": 0,
              "ticks": ""
             }
            },
            "type": "scatterpolargl"
           }
          ],
          "scatterternary": [
           {
            "marker": {
             "colorbar": {
              "outlinewidth": 0,
              "ticks": ""
             }
            },
            "type": "scatterternary"
           }
          ],
          "surface": [
           {
            "colorbar": {
             "outlinewidth": 0,
             "ticks": ""
            },
            "colorscale": [
             [
              0,
              "#0d0887"
             ],
             [
              0.1111111111111111,
              "#46039f"
             ],
             [
              0.2222222222222222,
              "#7201a8"
             ],
             [
              0.3333333333333333,
              "#9c179e"
             ],
             [
              0.4444444444444444,
              "#bd3786"
             ],
             [
              0.5555555555555556,
              "#d8576b"
             ],
             [
              0.6666666666666666,
              "#ed7953"
             ],
             [
              0.7777777777777778,
              "#fb9f3a"
             ],
             [
              0.8888888888888888,
              "#fdca26"
             ],
             [
              1,
              "#f0f921"
             ]
            ],
            "type": "surface"
           }
          ],
          "table": [
           {
            "cells": {
             "fill": {
              "color": "#EBF0F8"
             },
             "line": {
              "color": "white"
             }
            },
            "header": {
             "fill": {
              "color": "#C8D4E3"
             },
             "line": {
              "color": "white"
             }
            },
            "type": "table"
           }
          ]
         },
         "layout": {
          "annotationdefaults": {
           "arrowcolor": "#2a3f5f",
           "arrowhead": 0,
           "arrowwidth": 1
          },
          "autotypenumbers": "strict",
          "coloraxis": {
           "colorbar": {
            "outlinewidth": 0,
            "ticks": ""
           }
          },
          "colorscale": {
           "diverging": [
            [
             0,
             "#8e0152"
            ],
            [
             0.1,
             "#c51b7d"
            ],
            [
             0.2,
             "#de77ae"
            ],
            [
             0.3,
             "#f1b6da"
            ],
            [
             0.4,
             "#fde0ef"
            ],
            [
             0.5,
             "#f7f7f7"
            ],
            [
             0.6,
             "#e6f5d0"
            ],
            [
             0.7,
             "#b8e186"
            ],
            [
             0.8,
             "#7fbc41"
            ],
            [
             0.9,
             "#4d9221"
            ],
            [
             1,
             "#276419"
            ]
           ],
           "sequential": [
            [
             0,
             "#0d0887"
            ],
            [
             0.1111111111111111,
             "#46039f"
            ],
            [
             0.2222222222222222,
             "#7201a8"
            ],
            [
             0.3333333333333333,
             "#9c179e"
            ],
            [
             0.4444444444444444,
             "#bd3786"
            ],
            [
             0.5555555555555556,
             "#d8576b"
            ],
            [
             0.6666666666666666,
             "#ed7953"
            ],
            [
             0.7777777777777778,
             "#fb9f3a"
            ],
            [
             0.8888888888888888,
             "#fdca26"
            ],
            [
             1,
             "#f0f921"
            ]
           ],
           "sequentialminus": [
            [
             0,
             "#0d0887"
            ],
            [
             0.1111111111111111,
             "#46039f"
            ],
            [
             0.2222222222222222,
             "#7201a8"
            ],
            [
             0.3333333333333333,
             "#9c179e"
            ],
            [
             0.4444444444444444,
             "#bd3786"
            ],
            [
             0.5555555555555556,
             "#d8576b"
            ],
            [
             0.6666666666666666,
             "#ed7953"
            ],
            [
             0.7777777777777778,
             "#fb9f3a"
            ],
            [
             0.8888888888888888,
             "#fdca26"
            ],
            [
             1,
             "#f0f921"
            ]
           ]
          },
          "colorway": [
           "#636efa",
           "#EF553B",
           "#00cc96",
           "#ab63fa",
           "#FFA15A",
           "#19d3f3",
           "#FF6692",
           "#B6E880",
           "#FF97FF",
           "#FECB52"
          ],
          "font": {
           "color": "#2a3f5f"
          },
          "geo": {
           "bgcolor": "white",
           "lakecolor": "white",
           "landcolor": "#E5ECF6",
           "showlakes": true,
           "showland": true,
           "subunitcolor": "white"
          },
          "hoverlabel": {
           "align": "left"
          },
          "hovermode": "closest",
          "mapbox": {
           "style": "light"
          },
          "paper_bgcolor": "white",
          "plot_bgcolor": "#E5ECF6",
          "polar": {
           "angularaxis": {
            "gridcolor": "white",
            "linecolor": "white",
            "ticks": ""
           },
           "bgcolor": "#E5ECF6",
           "radialaxis": {
            "gridcolor": "white",
            "linecolor": "white",
            "ticks": ""
           }
          },
          "scene": {
           "xaxis": {
            "backgroundcolor": "#E5ECF6",
            "gridcolor": "white",
            "gridwidth": 2,
            "linecolor": "white",
            "showbackground": true,
            "ticks": "",
            "zerolinecolor": "white"
           },
           "yaxis": {
            "backgroundcolor": "#E5ECF6",
            "gridcolor": "white",
            "gridwidth": 2,
            "linecolor": "white",
            "showbackground": true,
            "ticks": "",
            "zerolinecolor": "white"
           },
           "zaxis": {
            "backgroundcolor": "#E5ECF6",
            "gridcolor": "white",
            "gridwidth": 2,
            "linecolor": "white",
            "showbackground": true,
            "ticks": "",
            "zerolinecolor": "white"
           }
          },
          "shapedefaults": {
           "line": {
            "color": "#2a3f5f"
           }
          },
          "ternary": {
           "aaxis": {
            "gridcolor": "white",
            "linecolor": "white",
            "ticks": ""
           },
           "baxis": {
            "gridcolor": "white",
            "linecolor": "white",
            "ticks": ""
           },
           "bgcolor": "#E5ECF6",
           "caxis": {
            "gridcolor": "white",
            "linecolor": "white",
            "ticks": ""
           }
          },
          "title": {
           "x": 0.05
          },
          "xaxis": {
           "automargin": true,
           "gridcolor": "white",
           "linecolor": "white",
           "ticks": "",
           "title": {
            "standoff": 15
           },
           "zerolinecolor": "white",
           "zerolinewidth": 2
          },
          "yaxis": {
           "automargin": true,
           "gridcolor": "white",
           "linecolor": "white",
           "ticks": "",
           "title": {
            "standoff": 15
           },
           "zerolinecolor": "white",
           "zerolinewidth": 2
          }
         }
        },
        "title": {
         "text": "Meteorite_Landings"
        }
       }
      },
      "image/png": "[encoded data removed]",
      "text/html": [
       "<div>                            <div id=\"3d559814-b812-4e78-b16d-36db5e0a36be\" class=\"plotly-graph-div\" style=\"height:525px; width:100%;\"></div>            <script type=\"text/javascript\">                require([\"plotly\"], function(Plotly) {                    window.PLOTLYENV=window.PLOTLYENV || {};                                    if (document.getElementById(\"3d559814-b812-4e78-b16d-36db5e0a36be\")) {                    Plotly.newPlot(                        \"3d559814-b812-4e78-b16d-36db5e0a36be\",                        [{\"lat\":[null,null,null,-84.0,-76.28535,-71.5,-86.51027,null,-72.0,-71.5,-71.5,-84.27378,null,34.2,-84.357,-84.0,-84.0,-72.0,-84.0,-72.77917,-80.25,null,-85.691,-84.0,null,null,-76.71667,null,null,-71.82806,0.0,0.0,-72.99889,-72.7769,20.5052,36.21667,-72.76944,33.01667,-86.36667,-71.5,-86.36667,-30.99311,20.60837,-72.95488,-76.31222,-71.5,-72.95222,0.0,null,null,35.71667,-86.45,null,-71.5,-71.5,-76.18333,0.0,0.0,-71.5,18.90573,null,-84.0,27.71667,18.741611,19.14611,48.45,-25.23333,-71.5,-85.66787,null,18.70115,33.275,null,-76.27512,-86.52222,-76.77389,-76.18333,0.0,-84.25231,-76.71667,null,-84.0,null,-85.68006,-84.0,-76.28565,-71.5,27.17717,-71.5,-72.95108,-79.68333,-79.68333,-84.25909,38.85,0.0,18.67917,null,-84.28986,-84.0,-71.5,null,null,null,0.0,-86.36667,null,0.0,-72.99889,-84.0,27.2265,null,-72.95457,18.50755,-84.25499,-84.27385,-71.5,-72.7775,55.7,0.0,-84.0,-71.5,-76.68944,-85.65807,21.37107,-24.85,-84.27639,0.0,18.625,-76.31028,-85.68404,0.0,37.5,20.35833,0.0,0.0,0.0,0.0,0.0,null,-72.9822,null,0.0,27.03333,-71.5,-84.0,-84.0,-79.68333,-76.18333,null,-72.77889,-84.0,null,-84.0,-76.2858,-76.27972,-72.77472,-86.56667,0.0,-76.18333,null,-71.5,-71.5,23.98611,-76.7574,19.190417,0.0,0.0,-72.0,-71.5,-72.998889,-72.77306,20.41437,null,39.33333,0.0,-84.24623,18.7247,-31.53333,-71.5,null,-71.5,33.03333,0.0,null,37.28333,-84.27985,20.7827,-72.77944,18.59083,-79.68333,-77.01706,null,-84.0,19.97933,null,-25.65,40.26667,-71.5,-84.0,0.0],\"lon\":[null,null,null,168.0,156.44404,35.66667,-122.9522,null,26.0,35.66667,35.66667,161.68545,null,-86.48333,161.36443,168.0,168.0,26.0,168.0,75.31056,153.5,null,-68.96836,168.0,null,null,159.66667,null,null,36.20556,0.0,0.0,75.18722,75.3264,56.48438,-103.4,75.3375,-83.96667,-70.0,35.66667,-70.0,131.33253,57.16007,160.47328,157.39528,35.66667,160.50161,0.0,null,null,-81.86667,-165.43333,null,35.66667,35.66667,157.16667,0.0,0.0,35.66667,54.50885,null,168.0,4.13333,54.26175,54.40111,3.93333,-69.71667,35.66667,-68.25751,null,54.36907,-102.96,null,156.36181,-123.79341,159.275,157.16667,0.0,161.45413,159.66667,null,168.0,null,-68.68107,168.0,156.48143,35.66667,16.26683,35.66667,160.51425,159.75,159.75,161.41026,-96.58333,0.0,54.58783,null,161.28593,168.0,35.66667,null,null,null,0.0,-70.0,null,0.0,75.18722,168.0,-9.74117,null,160.50374,53.99325,161.40492,161.68603,35.66667,75.334167,24.4,0.0,168.0,35.66667,159.36889,-68.17227,58.41415,-70.53333,161.34562,0.0,54.43,157.1975,-68.87777,0.0,-79.75,11.85,0.0,0.0,0.0,0.0,0.0,null,75.2489,null,0.0,16.35,35.66667,168.0,168.0,155.75,157.16667,null,75.31111,168.0,null,168.0,156.46845,156.47219,75.32361,-165.11667,0.0,157.16667,null,35.66667,35.66667,32.62361,158.90775,54.957194,0.0,0.0,26.0,35.66667,75.187222,75.33806,57.06578,null,-98.16667,0.0,161.41018,54.39503,127.01667,35.66667,null,35.66667,-102.33333,0.0,null,-102.2,161.34894,55.42668,75.27,54.543,159.75,156.96282,null,168.0,55.95507,null,114.21667,-118.93333,35.66667,168.0,0.0],\"mode\":\"markers\",\"type\":\"scattergeo\"}],                        {\"template\":{\"data\":{\"histogram2dcontour\":[{\"type\":\"histogram2dcontour\",\"colorbar\":{\"outlinewidth\":0,\"ticks\":\"\"},\"colorscale\":[[0.0,\"#0d0887\"],[0.1111111111111111,\"#46039f\"],[0.2222222222222222,\"#7201a8\"],[0.3333333333333333,\"#9c179e\"],[0.4444444444444444,\"#bd3786\"],[0.5555555555555556,\"#d8576b\"],[0.6666666666666666,\"#ed7953\"],[0.7777777777777778,\"#fb9f3a\"],[0.8888888888888888,\"#fdca26\"],[1.0,\"#f0f921\"]]}],\"choropleth\":[{\"type\":\"choropleth\",\"colorbar\":{\"outlinewidth\":0,\"ticks\":\"\"}}],\"histogram2d\":[{\"type\":\"histogram2d\",\"colorbar\":{\"outlinewidth\":0,\"ticks\":\"\"},\"colorscale\":[[0.0,\"#0d0887\"],[0.1111111111111111,\"#46039f\"],[0.2222222222222222,\"#7201a8\"],[0.3333333333333333,\"#9c179e\"],[0.4444444444444444,\"#bd3786\"],[0.5555555555555556,\"#d8576b\"],[0.6666666666666666,\"#ed7953\"],[0.7777777777777778,\"#fb9f3a\"],[0.8888888888888888,\"#fdca26\"],[1.0,\"#f0f921\"]]}],\"heatmap\":[{\"type\":\"heatmap\",\"colorbar\":{\"outlinewidth\":0,\"ticks\":\"\"},\"colorscale\":[[0.0,\"#0d0887\"],[0.1111111111111111,\"#46039f\"],[0.2222222222222222,\"#7201a8\"],[0.3333333333333333,\"#9c179e\"],[0.4444444444444444,\"#bd3786\"],[0.5555555555555556,\"#d8576b\"],[0.6666666666666666,\"#ed7953\"],[0.7777777777777778,\"#fb9f3a\"],[0.8888888888888888,\"#fdca26\"],[1.0,\"#f0f921\"]]}],\"heatmapgl\":[{\"type\":\"heatmapgl\",\"colorbar\":{\"outlinewidth\":0,\"ticks\":\"\"},\"colorscale\":[[0.0,\"#0d0887\"],[0.1111111111111111,\"#46039f\"],[0.2222222222222222,\"#7201a8\"],[0.3333333333333333,\"#9c179e\"],[0.4444444444444444,\"#bd3786\"],[0.5555555555555556,\"#d8576b\"],[0.6666666666666666,\"#ed7953\"],[0.7777777777777778,\"#fb9f3a\"],[0.8888888888888888,\"#fdca26\"],[1.0,\"#f0f921\"]]}],\"contourcarpet\":[{\"type\":\"contourcarpet\",\"colorbar\":{\"outlinewidth\":0,\"ticks\":\"\"}}],\"contour\":[{\"type\":\"contour\",\"colorbar\":{\"outlinewidth\":0,\"ticks\":\"\"},\"colorscale\":[[0.0,\"#0d0887\"],[0.1111111111111111,\"#46039f\"],[0.2222222222222222,\"#7201a8\"],[0.3333333333333333,\"#9c179e\"],[0.4444444444444444,\"#bd3786\"],[0.5555555555555556,\"#d8576b\"],[0.6666666666666666,\"#ed7953\"],[0.7777777777777778,\"#fb9f3a\"],[0.8888888888888888,\"#fdca26\"],[1.0,\"#f0f921\"]]}],\"surface\":[{\"type\":\"surface\",\"colorbar\":{\"outlinewidth\":0,\"ticks\":\"\"},\"colorscale\":[[0.0,\"#0d0887\"],[0.1111111111111111,\"#46039f\"],[0.2222222222222222,\"#7201a8\"],[0.3333333333333333,\"#9c179e\"],[0.4444444444444444,\"#bd3786\"],[0.5555555555555556,\"#d8576b\"],[0.6666666666666666,\"#ed7953\"],[0.7777777777777778,\"#fb9f3a\"],[0.8888888888888888,\"#fdca26\"],[1.0,\"#f0f921\"]]}],\"mesh3d\":[{\"type\":\"mesh3d\",\"colorbar\":{\"outlinewidth\":0,\"ticks\":\"\"}}],\"scatter\":[{\"fillpattern\":{\"fillmode\":\"overlay\",\"size\":10,\"solidity\":0.2},\"type\":\"scatter\"}],\"parcoords\":[{\"type\":\"parcoords\",\"line\":{\"colorbar\":{\"outlinewidth\":0,\"ticks\":\"\"}}}],\"scatterpolargl\":[{\"type\":\"scatterpolargl\",\"marker\":{\"colorbar\":{\"outlinewidth\":0,\"ticks\":\"\"}}}],\"bar\":[{\"error_x\":{\"color\":\"#2a3f5f\"},\"error_y\":{\"color\":\"#2a3f5f\"},\"marker\":{\"line\":{\"color\":\"#E5ECF6\",\"width\":0.5},\"pattern\":{\"fillmode\":\"overlay\",\"size\":10,\"solidity\":0.2}},\"type\":\"bar\"}],\"scattergeo\":[{\"type\":\"scattergeo\",\"marker\":{\"colorbar\":{\"outlinewidth\":0,\"ticks\":\"\"}}}],\"scatterpolar\":[{\"type\":\"scatterpolar\",\"marker\":{\"colorbar\":{\"outlinewidth\":0,\"ticks\":\"\"}}}],\"histogram\":[{\"marker\":{\"pattern\":{\"fillmode\":\"overlay\",\"size\":10,\"solidity\":0.2}},\"type\":\"histogram\"}],\"scattergl\":[{\"type\":\"scattergl\",\"marker\":{\"colorbar\":{\"outlinewidth\":0,\"ticks\":\"\"}}}],\"scatter3d\":[{\"type\":\"scatter3d\",\"line\":{\"colorbar\":{\"outlinewidth\":0,\"ticks\":\"\"}},\"marker\":{\"colorbar\":{\"outlinewidth\":0,\"ticks\":\"\"}}}],\"scattermapbox\":[{\"type\":\"scattermapbox\",\"marker\":{\"colorbar\":{\"outlinewidth\":0,\"ticks\":\"\"}}}],\"scatterternary\":[{\"type\":\"scatterternary\",\"marker\":{\"colorbar\":{\"outlinewidth\":0,\"ticks\":\"\"}}}],\"scattercarpet\":[{\"type\":\"scattercarpet\",\"marker\":{\"colorbar\":{\"outlinewidth\":0,\"ticks\":\"\"}}}],\"carpet\":[{\"aaxis\":{\"endlinecolor\":\"#2a3f5f\",\"gridcolor\":\"white\",\"linecolor\":\"white\",\"minorgridcolor\":\"white\",\"startlinecolor\":\"#2a3f5f\"},\"baxis\":{\"endlinecolor\":\"#2a3f5f\",\"gridcolor\":\"white\",\"linecolor\":\"white\",\"minorgridcolor\":\"white\",\"startlinecolor\":\"#2a3f5f\"},\"type\":\"carpet\"}],\"table\":[{\"cells\":{\"fill\":{\"color\":\"#EBF0F8\"},\"line\":{\"color\":\"white\"}},\"header\":{\"fill\":{\"color\":\"#C8D4E3\"},\"line\":{\"color\":\"white\"}},\"type\":\"table\"}],\"barpolar\":[{\"marker\":{\"line\":{\"color\":\"#E5ECF6\",\"width\":0.5},\"pattern\":{\"fillmode\":\"overlay\",\"size\":10,\"solidity\":0.2}},\"type\":\"barpolar\"}],\"pie\":[{\"automargin\":true,\"type\":\"pie\"}]},\"layout\":{\"autotypenumbers\":\"strict\",\"colorway\":[\"#636efa\",\"#EF553B\",\"#00cc96\",\"#ab63fa\",\"#FFA15A\",\"#19d3f3\",\"#FF6692\",\"#B6E880\",\"#FF97FF\",\"#FECB52\"],\"font\":{\"color\":\"#2a3f5f\"},\"hovermode\":\"closest\",\"hoverlabel\":{\"align\":\"left\"},\"paper_bgcolor\":\"white\",\"plot_bgcolor\":\"#E5ECF6\",\"polar\":{\"bgcolor\":\"#E5ECF6\",\"angularaxis\":{\"gridcolor\":\"white\",\"linecolor\":\"white\",\"ticks\":\"\"},\"radialaxis\":{\"gridcolor\":\"white\",\"linecolor\":\"white\",\"ticks\":\"\"}},\"ternary\":{\"bgcolor\":\"#E5ECF6\",\"aaxis\":{\"gridcolor\":\"white\",\"linecolor\":\"white\",\"ticks\":\"\"},\"baxis\":{\"gridcolor\":\"white\",\"linecolor\":\"white\",\"ticks\":\"\"},\"caxis\":{\"gridcolor\":\"white\",\"linecolor\":\"white\",\"ticks\":\"\"}},\"coloraxis\":{\"colorbar\":{\"outlinewidth\":0,\"ticks\":\"\"}},\"colorscale\":{\"sequential\":[[0.0,\"#0d0887\"],[0.1111111111111111,\"#46039f\"],[0.2222222222222222,\"#7201a8\"],[0.3333333333333333,\"#9c179e\"],[0.4444444444444444,\"#bd3786\"],[0.5555555555555556,\"#d8576b\"],[0.6666666666666666,\"#ed7953\"],[0.7777777777777778,\"#fb9f3a\"],[0.8888888888888888,\"#fdca26\"],[1.0,\"#f0f921\"]],\"sequentialminus\":[[0.0,\"#0d0887\"],[0.1111111111111111,\"#46039f\"],[0.2222222222222222,\"#7201a8\"],[0.3333333333333333,\"#9c179e\"],[0.4444444444444444,\"#bd3786\"],[0.5555555555555556,\"#d8576b\"],[0.6666666666666666,\"#ed7953\"],[0.7777777777777778,\"#fb9f3a\"],[0.8888888888888888,\"#fdca26\"],[1.0,\"#f0f921\"]],\"diverging\":[[0,\"#8e0152\"],[0.1,\"#c51b7d\"],[0.2,\"#de77ae\"],[0.3,\"#f1b6da\"],[0.4,\"#fde0ef\"],[0.5,\"#f7f7f7\"],[0.6,\"#e6f5d0\"],[0.7,\"#b8e186\"],[0.8,\"#7fbc41\"],[0.9,\"#4d9221\"],[1,\"#276419\"]]},\"xaxis\":{\"gridcolor\":\"white\",\"linecolor\":\"white\",\"ticks\":\"\",\"title\":{\"standoff\":15},\"zerolinecolor\":\"white\",\"automargin\":true,\"zerolinewidth\":2},\"yaxis\":{\"gridcolor\":\"white\",\"linecolor\":\"white\",\"ticks\":\"\",\"title\":{\"standoff\":15},\"zerolinecolor\":\"white\",\"automargin\":true,\"zerolinewidth\":2},\"scene\":{\"xaxis\":{\"backgroundcolor\":\"#E5ECF6\",\"gridcolor\":\"white\",\"linecolor\":\"white\",\"showbackground\":true,\"ticks\":\"\",\"zerolinecolor\":\"white\",\"gridwidth\":2},\"yaxis\":{\"backgroundcolor\":\"#E5ECF6\",\"gridcolor\":\"white\",\"linecolor\":\"white\",\"showbackground\":true,\"ticks\":\"\",\"zerolinecolor\":\"white\",\"gridwidth\":2},\"zaxis\":{\"backgroundcolor\":\"#E5ECF6\",\"gridcolor\":\"white\",\"linecolor\":\"white\",\"showbackground\":true,\"ticks\":\"\",\"zerolinecolor\":\"white\",\"gridwidth\":2}},\"shapedefaults\":{\"line\":{\"color\":\"#2a3f5f\"}},\"annotationdefaults\":{\"arrowcolor\":\"#2a3f5f\",\"arrowhead\":0,\"arrowwidth\":1},\"geo\":{\"bgcolor\":\"white\",\"landcolor\":\"#E5ECF6\",\"subunitcolor\":\"white\",\"showland\":true,\"showlakes\":true,\"lakecolor\":\"white\"},\"title\":{\"x\":0.05},\"mapbox\":{\"style\":\"light\"}}},\"geo\":{\"scope\":\"world\"},\"title\":{\"text\":\"Meteorite_Landings\"}},                        {\"responsive\": true}                    ).then(function(){\n",
       "                            \n",
       "var gd = document.getElementById('3d559814-b812-4e78-b16d-36db5e0a36be');\n",
       "var x = new MutationObserver(function (mutations, observer) {{\n",
       "        var display = window.getComputedStyle(gd).display;\n",
       "        if (!display || display === 'none') {{\n",
       "            console.log([gd, 'removed!']);\n",
       "            Plotly.purge(gd);\n",
       "            observer.disconnect();\n",
       "        }}\n",
       "}});\n",
       "\n",
       "// Listen for the removal of the full notebook cells\n",
       "var notebookContainer = gd.closest('#notebook-container');\n",
       "if (notebookContainer) {{\n",
       "    x.observe(notebookContainer, {childList: true});\n",
       "}}\n",
       "\n",
       "// Listen for the clearing of the current output cell\n",
       "var outputEl = gd.closest('.output');\n",
       "if (outputEl) {{\n",
       "    x.observe(outputEl, {childList: true});\n",
       "}}\n",
       "\n",
       "                        })                };                });            </script>        </div>"
      ]
     },
     "metadata": {},
     "output_type": "display_data"
    }
   ],
   "source": [
    "fig1 = go.Figure(data=go.Scattergeo(\n",
    "    lon = df['reclong'],\n",
    "    lat = df['reclat'],\n",
    "    mode = 'markers'\n",
    "))\n",
    "\n",
    "fig1.update_layout(\n",
    "    title = 'Meteorite_Landings',\n",
    "    geo_scope = 'world',\n",
    ")\n",
    "\n",
    "fig1.show()"
   ]
  },
  {
   "cell_type": "code",
   "execution_count": 17,
   "id": "d7bf597f-8ef1-4922-9172-f25ded3dfda3",
   "metadata": {},
   "outputs": [
    {
     "data": {
      "application/vnd.plotly.v1+json": {
       "config": {
        "plotlyServerURL": "https://plot.ly"
       },
       "data": [
        {
         "lat": [
          null,
          null,
          null,
          -84,
          -76.28535,
          -71.5,
          -86.51027,
          null,
          -72,
          -71.5,
          -71.5,
          -84.27378,
          null,
          34.2,
          -84.357,
          -84,
          -84,
          -72,
          -84,
          -72.77917,
          -80.25,
          null,
          -85.691,
          -84,
          null,
          null,
          -76.71667,
          null,
          null,
          -71.82806,
          0,
          0,
          -72.99889,
          -72.7769,
          20.5052,
          36.21667,
          -72.76944,
          33.01667,
          -86.36667,
          -71.5,
          -86.36667,
          -30.99311,
          20.60837,
          -72.95488,
          -76.31222,
          -71.5,
          -72.95222,
          0,
          null,
          null,
          35.71667,
          -86.45,
          null,
          -71.5,
          -71.5,
          -76.18333,
          0,
          0,
          -71.5,
          18.90573,
          null,
          -84,
          27.71667,
          18.741611,
          19.14611,
          48.45,
          -25.23333,
          -71.5,
          -85.66787,
          null,
          18.70115,
          33.275,
          null,
          -76.27512,
          -86.52222,
          -76.77389,
          -76.18333,
          0,
          -84.25231,
          -76.71667,
          null,
          -84,
          null,
          -85.68006,
          -84,
          -76.28565,
          -71.5,
          27.17717,
          -71.5,
          -72.95108,
          -79.68333,
          -79.68333,
          -84.25909,
          38.85,
          0,
          18.67917,
          null,
          -84.28986,
          -84,
          -71.5,
          null,
          null,
          null,
          0,
          -86.36667,
          null,
          0,
          -72.99889,
          -84,
          27.2265,
          null,
          -72.95457,
          18.50755,
          -84.25499,
          -84.27385,
          -71.5,
          -72.7775,
          55.7,
          0,
          -84,
          -71.5,
          -76.68944,
          -85.65807,
          21.37107,
          -24.85,
          -84.27639,
          0,
          18.625,
          -76.31028,
          -85.68404,
          0,
          37.5,
          20.35833,
          0,
          0,
          0,
          0,
          0,
          null,
          -72.9822,
          null,
          0,
          27.03333,
          -71.5,
          -84,
          -84,
          -79.68333,
          -76.18333,
          null,
          -72.77889,
          -84,
          null,
          -84,
          -76.2858,
          -76.27972,
          -72.77472,
          -86.56667,
          0,
          -76.18333,
          null,
          -71.5,
          -71.5,
          23.98611,
          -76.7574,
          19.190417,
          0,
          0,
          -72,
          -71.5,
          -72.998889,
          -72.77306,
          20.41437,
          null,
          39.33333,
          0,
          -84.24623,
          18.7247,
          -31.53333,
          -71.5,
          null,
          -71.5,
          33.03333,
          0,
          null,
          37.28333,
          -84.27985,
          20.7827,
          -72.77944,
          18.59083,
          -79.68333,
          -77.01706,
          null,
          -84,
          19.97933,
          null,
          -25.65,
          40.26667,
          -71.5,
          -84,
          0
         ],
         "lon": [
          null,
          null,
          null,
          168,
          156.44404,
          35.66667,
          -122.9522,
          null,
          26,
          35.66667,
          35.66667,
          161.68545,
          null,
          -86.48333,
          161.36443,
          168,
          168,
          26,
          168,
          75.31056,
          153.5,
          null,
          -68.96836,
          168,
          null,
          null,
          159.66667,
          null,
          null,
          36.20556,
          0,
          0,
          75.18722,
          75.3264,
          56.48438,
          -103.4,
          75.3375,
          -83.96667,
          -70,
          35.66667,
          -70,
          131.33253,
          57.16007,
          160.47328,
          157.39528,
          35.66667,
          160.50161,
          0,
          null,
          null,
          -81.86667,
          -165.43333,
          null,
          35.66667,
          35.66667,
          157.16667,
          0,
          0,
          35.66667,
          54.50885,
          null,
          168,
          4.13333,
          54.26175,
          54.40111,
          3.93333,
          -69.71667,
          35.66667,
          -68.25751,
          null,
          54.36907,
          -102.96,
          null,
          156.36181,
          -123.79341,
          159.275,
          157.16667,
          0,
          161.45413,
          159.66667,
          null,
          168,
          null,
          -68.68107,
          168,
          156.48143,
          35.66667,
          16.26683,
          35.66667,
          160.51425,
          159.75,
          159.75,
          161.41026,
          -96.58333,
          0,
          54.58783,
          null,
          161.28593,
          168,
          35.66667,
          null,
          null,
          null,
          0,
          -70,
          null,
          0,
          75.18722,
          168,
          -9.74117,
          null,
          160.50374,
          53.99325,
          161.40492,
          161.68603,
          35.66667,
          75.334167,
          24.4,
          0,
          168,
          35.66667,
          159.36889,
          -68.17227,
          58.41415,
          -70.53333,
          161.34562,
          0,
          54.43,
          157.1975,
          -68.87777,
          0,
          -79.75,
          11.85,
          0,
          0,
          0,
          0,
          0,
          null,
          75.2489,
          null,
          0,
          16.35,
          35.66667,
          168,
          168,
          155.75,
          157.16667,
          null,
          75.31111,
          168,
          null,
          168,
          156.46845,
          156.47219,
          75.32361,
          -165.11667,
          0,
          157.16667,
          null,
          35.66667,
          35.66667,
          32.62361,
          158.90775,
          54.957194,
          0,
          0,
          26,
          35.66667,
          75.187222,
          75.33806,
          57.06578,
          null,
          -98.16667,
          0,
          161.41018,
          54.39503,
          127.01667,
          35.66667,
          null,
          35.66667,
          -102.33333,
          0,
          null,
          -102.2,
          161.34894,
          55.42668,
          75.27,
          54.543,
          159.75,
          156.96282,
          null,
          168,
          55.95507,
          null,
          114.21667,
          -118.93333,
          35.66667,
          168,
          0
         ],
         "marker": {
          "color": "red",
          "opacity": 0.8,
          "size": 8,
          "symbol": "star-diamond"
         },
         "mode": "markers",
         "type": "scattergeo"
        }
       ],
       "layout": {
        "autosize": true,
        "geo": {
         "projection": {
          "type": "equirectangular"
         },
         "scope": "world"
        },
        "template": {
         "data": {
          "bar": [
           {
            "error_x": {
             "color": "#2a3f5f"
            },
            "error_y": {
             "color": "#2a3f5f"
            },
            "marker": {
             "line": {
              "color": "#E5ECF6",
              "width": 0.5
             },
             "pattern": {
              "fillmode": "overlay",
              "size": 10,
              "solidity": 0.2
             }
            },
            "type": "bar"
           }
          ],
          "barpolar": [
           {
            "marker": {
             "line": {
              "color": "#E5ECF6",
              "width": 0.5
             },
             "pattern": {
              "fillmode": "overlay",
              "size": 10,
              "solidity": 0.2
             }
            },
            "type": "barpolar"
           }
          ],
          "carpet": [
           {
            "aaxis": {
             "endlinecolor": "#2a3f5f",
             "gridcolor": "white",
             "linecolor": "white",
             "minorgridcolor": "white",
             "startlinecolor": "#2a3f5f"
            },
            "baxis": {
             "endlinecolor": "#2a3f5f",
             "gridcolor": "white",
             "linecolor": "white",
             "minorgridcolor": "white",
             "startlinecolor": "#2a3f5f"
            },
            "type": "carpet"
           }
          ],
          "choropleth": [
           {
            "colorbar": {
             "outlinewidth": 0,
             "ticks": ""
            },
            "type": "choropleth"
           }
          ],
          "contour": [
           {
            "colorbar": {
             "outlinewidth": 0,
             "ticks": ""
            },
            "colorscale": [
             [
              0,
              "#0d0887"
             ],
             [
              0.1111111111111111,
              "#46039f"
             ],
             [
              0.2222222222222222,
              "#7201a8"
             ],
             [
              0.3333333333333333,
              "#9c179e"
             ],
             [
              0.4444444444444444,
              "#bd3786"
             ],
             [
              0.5555555555555556,
              "#d8576b"
             ],
             [
              0.6666666666666666,
              "#ed7953"
             ],
             [
              0.7777777777777778,
              "#fb9f3a"
             ],
             [
              0.8888888888888888,
              "#fdca26"
             ],
             [
              1,
              "#f0f921"
             ]
            ],
            "type": "contour"
           }
          ],
          "contourcarpet": [
           {
            "colorbar": {
             "outlinewidth": 0,
             "ticks": ""
            },
            "type": "contourcarpet"
           }
          ],
          "heatmap": [
           {
            "colorbar": {
             "outlinewidth": 0,
             "ticks": ""
            },
            "colorscale": [
             [
              0,
              "#0d0887"
             ],
             [
              0.1111111111111111,
              "#46039f"
             ],
             [
              0.2222222222222222,
              "#7201a8"
             ],
             [
              0.3333333333333333,
              "#9c179e"
             ],
             [
              0.4444444444444444,
              "#bd3786"
             ],
             [
              0.5555555555555556,
              "#d8576b"
             ],
             [
              0.6666666666666666,
              "#ed7953"
             ],
             [
              0.7777777777777778,
              "#fb9f3a"
             ],
             [
              0.8888888888888888,
              "#fdca26"
             ],
             [
              1,
              "#f0f921"
             ]
            ],
            "type": "heatmap"
           }
          ],
          "heatmapgl": [
           {
            "colorbar": {
             "outlinewidth": 0,
             "ticks": ""
            },
            "colorscale": [
             [
              0,
              "#0d0887"
             ],
             [
              0.1111111111111111,
              "#46039f"
             ],
             [
              0.2222222222222222,
              "#7201a8"
             ],
             [
              0.3333333333333333,
              "#9c179e"
             ],
             [
              0.4444444444444444,
              "#bd3786"
             ],
             [
              0.5555555555555556,
              "#d8576b"
             ],
             [
              0.6666666666666666,
              "#ed7953"
             ],
             [
              0.7777777777777778,
              "#fb9f3a"
             ],
             [
              0.8888888888888888,
              "#fdca26"
             ],
             [
              1,
              "#f0f921"
             ]
            ],
            "type": "heatmapgl"
           }
          ],
          "histogram": [
           {
            "marker": {
             "pattern": {
              "fillmode": "overlay",
              "size": 10,
              "solidity": 0.2
             }
            },
            "type": "histogram"
           }
          ],
          "histogram2d": [
           {
            "colorbar": {
             "outlinewidth": 0,
             "ticks": ""
            },
            "colorscale": [
             [
              0,
              "#0d0887"
             ],
             [
              0.1111111111111111,
              "#46039f"
             ],
             [
              0.2222222222222222,
              "#7201a8"
             ],
             [
              0.3333333333333333,
              "#9c179e"
             ],
             [
              0.4444444444444444,
              "#bd3786"
             ],
             [
              0.5555555555555556,
              "#d8576b"
             ],
             [
              0.6666666666666666,
              "#ed7953"
             ],
             [
              0.7777777777777778,
              "#fb9f3a"
             ],
             [
              0.8888888888888888,
              "#fdca26"
             ],
             [
              1,
              "#f0f921"
             ]
            ],
            "type": "histogram2d"
           }
          ],
          "histogram2dcontour": [
           {
            "colorbar": {
             "outlinewidth": 0,
             "ticks": ""
            },
            "colorscale": [
             [
              0,
              "#0d0887"
             ],
             [
              0.1111111111111111,
              "#46039f"
             ],
             [
              0.2222222222222222,
              "#7201a8"
             ],
             [
              0.3333333333333333,
              "#9c179e"
             ],
             [
              0.4444444444444444,
              "#bd3786"
             ],
             [
              0.5555555555555556,
              "#d8576b"
             ],
             [
              0.6666666666666666,
              "#ed7953"
             ],
             [
              0.7777777777777778,
              "#fb9f3a"
             ],
             [
              0.8888888888888888,
              "#fdca26"
             ],
             [
              1,
              "#f0f921"
             ]
            ],
            "type": "histogram2dcontour"
           }
          ],
          "mesh3d": [
           {
            "colorbar": {
             "outlinewidth": 0,
             "ticks": ""
            },
            "type": "mesh3d"
           }
          ],
          "parcoords": [
           {
            "line": {
             "colorbar": {
              "outlinewidth": 0,
              "ticks": ""
             }
            },
            "type": "parcoords"
           }
          ],
          "pie": [
           {
            "automargin": true,
            "type": "pie"
           }
          ],
          "scatter": [
           {
            "fillpattern": {
             "fillmode": "overlay",
             "size": 10,
             "solidity": 0.2
            },
            "type": "scatter"
           }
          ],
          "scatter3d": [
           {
            "line": {
             "colorbar": {
              "outlinewidth": 0,
              "ticks": ""
             }
            },
            "marker": {
             "colorbar": {
              "outlinewidth": 0,
              "ticks": ""
             }
            },
            "type": "scatter3d"
           }
          ],
          "scattercarpet": [
           {
            "marker": {
             "colorbar": {
              "outlinewidth": 0,
              "ticks": ""
             }
            },
            "type": "scattercarpet"
           }
          ],
          "scattergeo": [
           {
            "marker": {
             "colorbar": {
              "outlinewidth": 0,
              "ticks": ""
             }
            },
            "type": "scattergeo"
           }
          ],
          "scattergl": [
           {
            "marker": {
             "colorbar": {
              "outlinewidth": 0,
              "ticks": ""
             }
            },
            "type": "scattergl"
           }
          ],
          "scattermapbox": [
           {
            "marker": {
             "colorbar": {
              "outlinewidth": 0,
              "ticks": ""
             }
            },
            "type": "scattermapbox"
           }
          ],
          "scatterpolar": [
           {
            "marker": {
             "colorbar": {
              "outlinewidth": 0,
              "ticks": ""
             }
            },
            "type": "scatterpolar"
           }
          ],
          "scatterpolargl": [
           {
            "marker": {
             "colorbar": {
              "outlinewidth": 0,
              "ticks": ""
             }
            },
            "type": "scatterpolargl"
           }
          ],
          "scatterternary": [
           {
            "marker": {
             "colorbar": {
              "outlinewidth": 0,
              "ticks": ""
             }
            },
            "type": "scatterternary"
           }
          ],
          "surface": [
           {
            "colorbar": {
             "outlinewidth": 0,
             "ticks": ""
            },
            "colorscale": [
             [
              0,
              "#0d0887"
             ],
             [
              0.1111111111111111,
              "#46039f"
             ],
             [
              0.2222222222222222,
              "#7201a8"
             ],
             [
              0.3333333333333333,
              "#9c179e"
             ],
             [
              0.4444444444444444,
              "#bd3786"
             ],
             [
              0.5555555555555556,
              "#d8576b"
             ],
             [
              0.6666666666666666,
              "#ed7953"
             ],
             [
              0.7777777777777778,
              "#fb9f3a"
             ],
             [
              0.8888888888888888,
              "#fdca26"
             ],
             [
              1,
              "#f0f921"
             ]
            ],
            "type": "surface"
           }
          ],
          "table": [
           {
            "cells": {
             "fill": {
              "color": "#EBF0F8"
             },
             "line": {
              "color": "white"
             }
            },
            "header": {
             "fill": {
              "color": "#C8D4E3"
             },
             "line": {
              "color": "white"
             }
            },
            "type": "table"
           }
          ]
         },
         "layout": {
          "annotationdefaults": {
           "arrowcolor": "#2a3f5f",
           "arrowhead": 0,
           "arrowwidth": 1
          },
          "autotypenumbers": "strict",
          "coloraxis": {
           "colorbar": {
            "outlinewidth": 0,
            "ticks": ""
           }
          },
          "colorscale": {
           "diverging": [
            [
             0,
             "#8e0152"
            ],
            [
             0.1,
             "#c51b7d"
            ],
            [
             0.2,
             "#de77ae"
            ],
            [
             0.3,
             "#f1b6da"
            ],
            [
             0.4,
             "#fde0ef"
            ],
            [
             0.5,
             "#f7f7f7"
            ],
            [
             0.6,
             "#e6f5d0"
            ],
            [
             0.7,
             "#b8e186"
            ],
            [
             0.8,
             "#7fbc41"
            ],
            [
             0.9,
             "#4d9221"
            ],
            [
             1,
             "#276419"
            ]
           ],
           "sequential": [
            [
             0,
             "#0d0887"
            ],
            [
             0.1111111111111111,
             "#46039f"
            ],
            [
             0.2222222222222222,
             "#7201a8"
            ],
            [
             0.3333333333333333,
             "#9c179e"
            ],
            [
             0.4444444444444444,
             "#bd3786"
            ],
            [
             0.5555555555555556,
             "#d8576b"
            ],
            [
             0.6666666666666666,
             "#ed7953"
            ],
            [
             0.7777777777777778,
             "#fb9f3a"
            ],
            [
             0.8888888888888888,
             "#fdca26"
            ],
            [
             1,
             "#f0f921"
            ]
           ],
           "sequentialminus": [
            [
             0,
             "#0d0887"
            ],
            [
             0.1111111111111111,
             "#46039f"
            ],
            [
             0.2222222222222222,
             "#7201a8"
            ],
            [
             0.3333333333333333,
             "#9c179e"
            ],
            [
             0.4444444444444444,
             "#bd3786"
            ],
            [
             0.5555555555555556,
             "#d8576b"
            ],
            [
             0.6666666666666666,
             "#ed7953"
            ],
            [
             0.7777777777777778,
             "#fb9f3a"
            ],
            [
             0.8888888888888888,
             "#fdca26"
            ],
            [
             1,
             "#f0f921"
            ]
           ]
          },
          "colorway": [
           "#636efa",
           "#EF553B",
           "#00cc96",
           "#ab63fa",
           "#FFA15A",
           "#19d3f3",
           "#FF6692",
           "#B6E880",
           "#FF97FF",
           "#FECB52"
          ],
          "font": {
           "color": "#2a3f5f"
          },
          "geo": {
           "bgcolor": "white",
           "lakecolor": "white",
           "landcolor": "#E5ECF6",
           "showlakes": true,
           "showland": true,
           "subunitcolor": "white"
          },
          "hoverlabel": {
           "align": "left"
          },
          "hovermode": "closest",
          "mapbox": {
           "style": "light"
          },
          "paper_bgcolor": "white",
          "plot_bgcolor": "#E5ECF6",
          "polar": {
           "angularaxis": {
            "gridcolor": "white",
            "linecolor": "white",
            "ticks": ""
           },
           "bgcolor": "#E5ECF6",
           "radialaxis": {
            "gridcolor": "white",
            "linecolor": "white",
            "ticks": ""
           }
          },
          "scene": {
           "xaxis": {
            "backgroundcolor": "#E5ECF6",
            "gridcolor": "white",
            "gridwidth": 2,
            "linecolor": "white",
            "showbackground": true,
            "ticks": "",
            "zerolinecolor": "white"
           },
           "yaxis": {
            "backgroundcolor": "#E5ECF6",
            "gridcolor": "white",
            "gridwidth": 2,
            "linecolor": "white",
            "showbackground": true,
            "ticks": "",
            "zerolinecolor": "white"
           },
           "zaxis": {
            "backgroundcolor": "#E5ECF6",
            "gridcolor": "white",
            "gridwidth": 2,
            "linecolor": "white",
            "showbackground": true,
            "ticks": "",
            "zerolinecolor": "white"
           }
          },
          "shapedefaults": {
           "line": {
            "color": "#2a3f5f"
           }
          },
          "ternary": {
           "aaxis": {
            "gridcolor": "white",
            "linecolor": "white",
            "ticks": ""
           },
           "baxis": {
            "gridcolor": "white",
            "linecolor": "white",
            "ticks": ""
           },
           "bgcolor": "#E5ECF6",
           "caxis": {
            "gridcolor": "white",
            "linecolor": "white",
            "ticks": ""
           }
          },
          "title": {
           "x": 0.05
          },
          "xaxis": {
           "automargin": true,
           "gridcolor": "white",
           "linecolor": "white",
           "ticks": "",
           "title": {
            "standoff": 15
           },
           "zerolinecolor": "white",
           "zerolinewidth": 2
          },
          "yaxis": {
           "automargin": true,
           "gridcolor": "white",
           "linecolor": "white",
           "ticks": "",
           "title": {
            "standoff": 15
           },
           "zerolinecolor": "white",
           "zerolinewidth": 2
          }
         }
        },
        "title": {
         "text": "Meteorite Landings"
        }
       }
      },
      "image/png": "[encoded data removed]",
      "text/html": [
       "<div>                            <div id=\"6f63e1ad-11b1-4e6e-9f1c-960a202ad9c1\" class=\"plotly-graph-div\" style=\"height:525px; width:100%;\"></div>            <script type=\"text/javascript\">                require([\"plotly\"], function(Plotly) {                    window.PLOTLYENV=window.PLOTLYENV || {};                                    if (document.getElementById(\"6f63e1ad-11b1-4e6e-9f1c-960a202ad9c1\")) {                    Plotly.newPlot(                        \"6f63e1ad-11b1-4e6e-9f1c-960a202ad9c1\",                        [{\"lat\":[null,null,null,-84.0,-76.28535,-71.5,-86.51027,null,-72.0,-71.5,-71.5,-84.27378,null,34.2,-84.357,-84.0,-84.0,-72.0,-84.0,-72.77917,-80.25,null,-85.691,-84.0,null,null,-76.71667,null,null,-71.82806,0.0,0.0,-72.99889,-72.7769,20.5052,36.21667,-72.76944,33.01667,-86.36667,-71.5,-86.36667,-30.99311,20.60837,-72.95488,-76.31222,-71.5,-72.95222,0.0,null,null,35.71667,-86.45,null,-71.5,-71.5,-76.18333,0.0,0.0,-71.5,18.90573,null,-84.0,27.71667,18.741611,19.14611,48.45,-25.23333,-71.5,-85.66787,null,18.70115,33.275,null,-76.27512,-86.52222,-76.77389,-76.18333,0.0,-84.25231,-76.71667,null,-84.0,null,-85.68006,-84.0,-76.28565,-71.5,27.17717,-71.5,-72.95108,-79.68333,-79.68333,-84.25909,38.85,0.0,18.67917,null,-84.28986,-84.0,-71.5,null,null,null,0.0,-86.36667,null,0.0,-72.99889,-84.0,27.2265,null,-72.95457,18.50755,-84.25499,-84.27385,-71.5,-72.7775,55.7,0.0,-84.0,-71.5,-76.68944,-85.65807,21.37107,-24.85,-84.27639,0.0,18.625,-76.31028,-85.68404,0.0,37.5,20.35833,0.0,0.0,0.0,0.0,0.0,null,-72.9822,null,0.0,27.03333,-71.5,-84.0,-84.0,-79.68333,-76.18333,null,-72.77889,-84.0,null,-84.0,-76.2858,-76.27972,-72.77472,-86.56667,0.0,-76.18333,null,-71.5,-71.5,23.98611,-76.7574,19.190417,0.0,0.0,-72.0,-71.5,-72.998889,-72.77306,20.41437,null,39.33333,0.0,-84.24623,18.7247,-31.53333,-71.5,null,-71.5,33.03333,0.0,null,37.28333,-84.27985,20.7827,-72.77944,18.59083,-79.68333,-77.01706,null,-84.0,19.97933,null,-25.65,40.26667,-71.5,-84.0,0.0],\"lon\":[null,null,null,168.0,156.44404,35.66667,-122.9522,null,26.0,35.66667,35.66667,161.68545,null,-86.48333,161.36443,168.0,168.0,26.0,168.0,75.31056,153.5,null,-68.96836,168.0,null,null,159.66667,null,null,36.20556,0.0,0.0,75.18722,75.3264,56.48438,-103.4,75.3375,-83.96667,-70.0,35.66667,-70.0,131.33253,57.16007,160.47328,157.39528,35.66667,160.50161,0.0,null,null,-81.86667,-165.43333,null,35.66667,35.66667,157.16667,0.0,0.0,35.66667,54.50885,null,168.0,4.13333,54.26175,54.40111,3.93333,-69.71667,35.66667,-68.25751,null,54.36907,-102.96,null,156.36181,-123.79341,159.275,157.16667,0.0,161.45413,159.66667,null,168.0,null,-68.68107,168.0,156.48143,35.66667,16.26683,35.66667,160.51425,159.75,159.75,161.41026,-96.58333,0.0,54.58783,null,161.28593,168.0,35.66667,null,null,null,0.0,-70.0,null,0.0,75.18722,168.0,-9.74117,null,160.50374,53.99325,161.40492,161.68603,35.66667,75.334167,24.4,0.0,168.0,35.66667,159.36889,-68.17227,58.41415,-70.53333,161.34562,0.0,54.43,157.1975,-68.87777,0.0,-79.75,11.85,0.0,0.0,0.0,0.0,0.0,null,75.2489,null,0.0,16.35,35.66667,168.0,168.0,155.75,157.16667,null,75.31111,168.0,null,168.0,156.46845,156.47219,75.32361,-165.11667,0.0,157.16667,null,35.66667,35.66667,32.62361,158.90775,54.957194,0.0,0.0,26.0,35.66667,75.187222,75.33806,57.06578,null,-98.16667,0.0,161.41018,54.39503,127.01667,35.66667,null,35.66667,-102.33333,0.0,null,-102.2,161.34894,55.42668,75.27,54.543,159.75,156.96282,null,168.0,55.95507,null,114.21667,-118.93333,35.66667,168.0,0.0],\"marker\":{\"color\":\"red\",\"opacity\":0.8,\"size\":8,\"symbol\":\"star-diamond\"},\"mode\":\"markers\",\"type\":\"scattergeo\"}],                        {\"template\":{\"data\":{\"histogram2dcontour\":[{\"type\":\"histogram2dcontour\",\"colorbar\":{\"outlinewidth\":0,\"ticks\":\"\"},\"colorscale\":[[0.0,\"#0d0887\"],[0.1111111111111111,\"#46039f\"],[0.2222222222222222,\"#7201a8\"],[0.3333333333333333,\"#9c179e\"],[0.4444444444444444,\"#bd3786\"],[0.5555555555555556,\"#d8576b\"],[0.6666666666666666,\"#ed7953\"],[0.7777777777777778,\"#fb9f3a\"],[0.8888888888888888,\"#fdca26\"],[1.0,\"#f0f921\"]]}],\"choropleth\":[{\"type\":\"choropleth\",\"colorbar\":{\"outlinewidth\":0,\"ticks\":\"\"}}],\"histogram2d\":[{\"type\":\"histogram2d\",\"colorbar\":{\"outlinewidth\":0,\"ticks\":\"\"},\"colorscale\":[[0.0,\"#0d0887\"],[0.1111111111111111,\"#46039f\"],[0.2222222222222222,\"#7201a8\"],[0.3333333333333333,\"#9c179e\"],[0.4444444444444444,\"#bd3786\"],[0.5555555555555556,\"#d8576b\"],[0.6666666666666666,\"#ed7953\"],[0.7777777777777778,\"#fb9f3a\"],[0.8888888888888888,\"#fdca26\"],[1.0,\"#f0f921\"]]}],\"heatmap\":[{\"type\":\"heatmap\",\"colorbar\":{\"outlinewidth\":0,\"ticks\":\"\"},\"colorscale\":[[0.0,\"#0d0887\"],[0.1111111111111111,\"#46039f\"],[0.2222222222222222,\"#7201a8\"],[0.3333333333333333,\"#9c179e\"],[0.4444444444444444,\"#bd3786\"],[0.5555555555555556,\"#d8576b\"],[0.6666666666666666,\"#ed7953\"],[0.7777777777777778,\"#fb9f3a\"],[0.8888888888888888,\"#fdca26\"],[1.0,\"#f0f921\"]]}],\"heatmapgl\":[{\"type\":\"heatmapgl\",\"colorbar\":{\"outlinewidth\":0,\"ticks\":\"\"},\"colorscale\":[[0.0,\"#0d0887\"],[0.1111111111111111,\"#46039f\"],[0.2222222222222222,\"#7201a8\"],[0.3333333333333333,\"#9c179e\"],[0.4444444444444444,\"#bd3786\"],[0.5555555555555556,\"#d8576b\"],[0.6666666666666666,\"#ed7953\"],[0.7777777777777778,\"#fb9f3a\"],[0.8888888888888888,\"#fdca26\"],[1.0,\"#f0f921\"]]}],\"contourcarpet\":[{\"type\":\"contourcarpet\",\"colorbar\":{\"outlinewidth\":0,\"ticks\":\"\"}}],\"contour\":[{\"type\":\"contour\",\"colorbar\":{\"outlinewidth\":0,\"ticks\":\"\"},\"colorscale\":[[0.0,\"#0d0887\"],[0.1111111111111111,\"#46039f\"],[0.2222222222222222,\"#7201a8\"],[0.3333333333333333,\"#9c179e\"],[0.4444444444444444,\"#bd3786\"],[0.5555555555555556,\"#d8576b\"],[0.6666666666666666,\"#ed7953\"],[0.7777777777777778,\"#fb9f3a\"],[0.8888888888888888,\"#fdca26\"],[1.0,\"#f0f921\"]]}],\"surface\":[{\"type\":\"surface\",\"colorbar\":{\"outlinewidth\":0,\"ticks\":\"\"},\"colorscale\":[[0.0,\"#0d0887\"],[0.1111111111111111,\"#46039f\"],[0.2222222222222222,\"#7201a8\"],[0.3333333333333333,\"#9c179e\"],[0.4444444444444444,\"#bd3786\"],[0.5555555555555556,\"#d8576b\"],[0.6666666666666666,\"#ed7953\"],[0.7777777777777778,\"#fb9f3a\"],[0.8888888888888888,\"#fdca26\"],[1.0,\"#f0f921\"]]}],\"mesh3d\":[{\"type\":\"mesh3d\",\"colorbar\":{\"outlinewidth\":0,\"ticks\":\"\"}}],\"scatter\":[{\"fillpattern\":{\"fillmode\":\"overlay\",\"size\":10,\"solidity\":0.2},\"type\":\"scatter\"}],\"parcoords\":[{\"type\":\"parcoords\",\"line\":{\"colorbar\":{\"outlinewidth\":0,\"ticks\":\"\"}}}],\"scatterpolargl\":[{\"type\":\"scatterpolargl\",\"marker\":{\"colorbar\":{\"outlinewidth\":0,\"ticks\":\"\"}}}],\"bar\":[{\"error_x\":{\"color\":\"#2a3f5f\"},\"error_y\":{\"color\":\"#2a3f5f\"},\"marker\":{\"line\":{\"color\":\"#E5ECF6\",\"width\":0.5},\"pattern\":{\"fillmode\":\"overlay\",\"size\":10,\"solidity\":0.2}},\"type\":\"bar\"}],\"scattergeo\":[{\"type\":\"scattergeo\",\"marker\":{\"colorbar\":{\"outlinewidth\":0,\"ticks\":\"\"}}}],\"scatterpolar\":[{\"type\":\"scatterpolar\",\"marker\":{\"colorbar\":{\"outlinewidth\":0,\"ticks\":\"\"}}}],\"histogram\":[{\"marker\":{\"pattern\":{\"fillmode\":\"overlay\",\"size\":10,\"solidity\":0.2}},\"type\":\"histogram\"}],\"scattergl\":[{\"type\":\"scattergl\",\"marker\":{\"colorbar\":{\"outlinewidth\":0,\"ticks\":\"\"}}}],\"scatter3d\":[{\"type\":\"scatter3d\",\"line\":{\"colorbar\":{\"outlinewidth\":0,\"ticks\":\"\"}},\"marker\":{\"colorbar\":{\"outlinewidth\":0,\"ticks\":\"\"}}}],\"scattermapbox\":[{\"type\":\"scattermapbox\",\"marker\":{\"colorbar\":{\"outlinewidth\":0,\"ticks\":\"\"}}}],\"scatterternary\":[{\"type\":\"scatterternary\",\"marker\":{\"colorbar\":{\"outlinewidth\":0,\"ticks\":\"\"}}}],\"scattercarpet\":[{\"type\":\"scattercarpet\",\"marker\":{\"colorbar\":{\"outlinewidth\":0,\"ticks\":\"\"}}}],\"carpet\":[{\"aaxis\":{\"endlinecolor\":\"#2a3f5f\",\"gridcolor\":\"white\",\"linecolor\":\"white\",\"minorgridcolor\":\"white\",\"startlinecolor\":\"#2a3f5f\"},\"baxis\":{\"endlinecolor\":\"#2a3f5f\",\"gridcolor\":\"white\",\"linecolor\":\"white\",\"minorgridcolor\":\"white\",\"startlinecolor\":\"#2a3f5f\"},\"type\":\"carpet\"}],\"table\":[{\"cells\":{\"fill\":{\"color\":\"#EBF0F8\"},\"line\":{\"color\":\"white\"}},\"header\":{\"fill\":{\"color\":\"#C8D4E3\"},\"line\":{\"color\":\"white\"}},\"type\":\"table\"}],\"barpolar\":[{\"marker\":{\"line\":{\"color\":\"#E5ECF6\",\"width\":0.5},\"pattern\":{\"fillmode\":\"overlay\",\"size\":10,\"solidity\":0.2}},\"type\":\"barpolar\"}],\"pie\":[{\"automargin\":true,\"type\":\"pie\"}]},\"layout\":{\"autotypenumbers\":\"strict\",\"colorway\":[\"#636efa\",\"#EF553B\",\"#00cc96\",\"#ab63fa\",\"#FFA15A\",\"#19d3f3\",\"#FF6692\",\"#B6E880\",\"#FF97FF\",\"#FECB52\"],\"font\":{\"color\":\"#2a3f5f\"},\"hovermode\":\"closest\",\"hoverlabel\":{\"align\":\"left\"},\"paper_bgcolor\":\"white\",\"plot_bgcolor\":\"#E5ECF6\",\"polar\":{\"bgcolor\":\"#E5ECF6\",\"angularaxis\":{\"gridcolor\":\"white\",\"linecolor\":\"white\",\"ticks\":\"\"},\"radialaxis\":{\"gridcolor\":\"white\",\"linecolor\":\"white\",\"ticks\":\"\"}},\"ternary\":{\"bgcolor\":\"#E5ECF6\",\"aaxis\":{\"gridcolor\":\"white\",\"linecolor\":\"white\",\"ticks\":\"\"},\"baxis\":{\"gridcolor\":\"white\",\"linecolor\":\"white\",\"ticks\":\"\"},\"caxis\":{\"gridcolor\":\"white\",\"linecolor\":\"white\",\"ticks\":\"\"}},\"coloraxis\":{\"colorbar\":{\"outlinewidth\":0,\"ticks\":\"\"}},\"colorscale\":{\"sequential\":[[0.0,\"#0d0887\"],[0.1111111111111111,\"#46039f\"],[0.2222222222222222,\"#7201a8\"],[0.3333333333333333,\"#9c179e\"],[0.4444444444444444,\"#bd3786\"],[0.5555555555555556,\"#d8576b\"],[0.6666666666666666,\"#ed7953\"],[0.7777777777777778,\"#fb9f3a\"],[0.8888888888888888,\"#fdca26\"],[1.0,\"#f0f921\"]],\"sequentialminus\":[[0.0,\"#0d0887\"],[0.1111111111111111,\"#46039f\"],[0.2222222222222222,\"#7201a8\"],[0.3333333333333333,\"#9c179e\"],[0.4444444444444444,\"#bd3786\"],[0.5555555555555556,\"#d8576b\"],[0.6666666666666666,\"#ed7953\"],[0.7777777777777778,\"#fb9f3a\"],[0.8888888888888888,\"#fdca26\"],[1.0,\"#f0f921\"]],\"diverging\":[[0,\"#8e0152\"],[0.1,\"#c51b7d\"],[0.2,\"#de77ae\"],[0.3,\"#f1b6da\"],[0.4,\"#fde0ef\"],[0.5,\"#f7f7f7\"],[0.6,\"#e6f5d0\"],[0.7,\"#b8e186\"],[0.8,\"#7fbc41\"],[0.9,\"#4d9221\"],[1,\"#276419\"]]},\"xaxis\":{\"gridcolor\":\"white\",\"linecolor\":\"white\",\"ticks\":\"\",\"title\":{\"standoff\":15},\"zerolinecolor\":\"white\",\"automargin\":true,\"zerolinewidth\":2},\"yaxis\":{\"gridcolor\":\"white\",\"linecolor\":\"white\",\"ticks\":\"\",\"title\":{\"standoff\":15},\"zerolinecolor\":\"white\",\"automargin\":true,\"zerolinewidth\":2},\"scene\":{\"xaxis\":{\"backgroundcolor\":\"#E5ECF6\",\"gridcolor\":\"white\",\"linecolor\":\"white\",\"showbackground\":true,\"ticks\":\"\",\"zerolinecolor\":\"white\",\"gridwidth\":2},\"yaxis\":{\"backgroundcolor\":\"#E5ECF6\",\"gridcolor\":\"white\",\"linecolor\":\"white\",\"showbackground\":true,\"ticks\":\"\",\"zerolinecolor\":\"white\",\"gridwidth\":2},\"zaxis\":{\"backgroundcolor\":\"#E5ECF6\",\"gridcolor\":\"white\",\"linecolor\":\"white\",\"showbackground\":true,\"ticks\":\"\",\"zerolinecolor\":\"white\",\"gridwidth\":2}},\"shapedefaults\":{\"line\":{\"color\":\"#2a3f5f\"}},\"annotationdefaults\":{\"arrowcolor\":\"#2a3f5f\",\"arrowhead\":0,\"arrowwidth\":1},\"geo\":{\"bgcolor\":\"white\",\"landcolor\":\"#E5ECF6\",\"subunitcolor\":\"white\",\"showland\":true,\"showlakes\":true,\"lakecolor\":\"white\"},\"title\":{\"x\":0.05},\"mapbox\":{\"style\":\"light\"}}},\"geo\":{\"projection\":{\"type\":\"equirectangular\"},\"scope\":\"world\"},\"title\":{\"text\":\"Meteorite Landings\"}},                        {\"responsive\": true}                    ).then(function(){\n",
       "                            \n",
       "var gd = document.getElementById('6f63e1ad-11b1-4e6e-9f1c-960a202ad9c1');\n",
       "var x = new MutationObserver(function (mutations, observer) {{\n",
       "        var display = window.getComputedStyle(gd).display;\n",
       "        if (!display || display === 'none') {{\n",
       "            console.log([gd, 'removed!']);\n",
       "            Plotly.purge(gd);\n",
       "            observer.disconnect();\n",
       "        }}\n",
       "}});\n",
       "\n",
       "// Listen for the removal of the full notebook cells\n",
       "var notebookContainer = gd.closest('#notebook-container');\n",
       "if (notebookContainer) {{\n",
       "    x.observe(notebookContainer, {childList: true});\n",
       "}}\n",
       "\n",
       "// Listen for the clearing of the current output cell\n",
       "var outputEl = gd.closest('.output');\n",
       "if (outputEl) {{\n",
       "    x.observe(outputEl, {childList: true});\n",
       "}}\n",
       "\n",
       "                        })                };                });            </script>        </div>"
      ]
     },
     "metadata": {},
     "output_type": "display_data"
    }
   ],
   "source": [
    "fig2 = go.Figure(data = go.Scattergeo(\n",
    "    lon = df['reclong'],\n",
    "    lat = df['reclat'],\n",
    "    mode = 'markers',\n",
    "    marker = {'size': 8,\n",
    "              'opacity': 0.8,\n",
    "              'symbol': 'star-diamond',\n",
    "              'color': 'red'}\n",
    "))\n",
    "\n",
    "fig2.update_geos(projection_type = 'equirectangular')\n",
    "\n",
    "fig2.update_layout(\n",
    "    title = 'Meteorite Landings',\n",
    "    geo_scope = 'world' # 'usa', 'asia', 'europe', 'africa'\n",
    ")\n",
    "\n",
    "fig2.show()"
   ]
  },
  {
   "cell_type": "code",
   "execution_count": 18,
   "id": "22662be9-dcb9-499e-99df-7344d99d8b3a",
   "metadata": {},
   "outputs": [],
   "source": [
    "import numpy as np\n",
    "df['log_mass'] = df['mass (g)'].apply(np.log)"
   ]
  },
  {
   "cell_type": "code",
   "execution_count": 22,
   "id": "2774a86b-57f7-441f-a380-c8ae14818133",
   "metadata": {},
   "outputs": [
    {
     "data": {
      "application/vnd.plotly.v1+json": {
       "config": {
        "plotlyServerURL": "https://plot.ly"
       },
       "data": [
        {
         "lat": [
          null,
          null,
          null,
          -84,
          -76.28535,
          -71.5,
          -86.51027,
          null,
          -72,
          -71.5,
          -71.5,
          -84.27378,
          null,
          34.2,
          -84.357,
          -84,
          -84,
          -72,
          -84,
          -72.77917,
          -80.25,
          null,
          -85.691,
          -84,
          null,
          null,
          -76.71667,
          null,
          null,
          -71.82806,
          0,
          0,
          -72.99889,
          -72.7769,
          20.5052,
          36.21667,
          -72.76944,
          33.01667,
          -86.36667,
          -71.5,
          -86.36667,
          -30.99311,
          20.60837,
          -72.95488,
          -76.31222,
          -71.5,
          -72.95222,
          0,
          null,
          null,
          35.71667,
          -86.45,
          null,
          -71.5,
          -71.5,
          -76.18333,
          0,
          0,
          -71.5,
          18.90573,
          null,
          -84,
          27.71667,
          18.741611,
          19.14611,
          48.45,
          -25.23333,
          -71.5,
          -85.66787,
          null,
          18.70115,
          33.275,
          null,
          -76.27512,
          -86.52222,
          -76.77389,
          -76.18333,
          0,
          -84.25231,
          -76.71667,
          null,
          -84,
          null,
          -85.68006,
          -84,
          -76.28565,
          -71.5,
          27.17717,
          -71.5,
          -72.95108,
          -79.68333,
          -79.68333,
          -84.25909,
          38.85,
          0,
          18.67917,
          null,
          -84.28986,
          -84,
          -71.5,
          null,
          null,
          null,
          0,
          -86.36667,
          null,
          0,
          -72.99889,
          -84,
          27.2265,
          null,
          -72.95457,
          18.50755,
          -84.25499,
          -84.27385,
          -71.5,
          -72.7775,
          55.7,
          0,
          -84,
          -71.5,
          -76.68944,
          -85.65807,
          21.37107,
          -24.85,
          -84.27639,
          0,
          18.625,
          -76.31028,
          -85.68404,
          0,
          37.5,
          20.35833,
          0,
          0,
          0,
          0,
          0,
          null,
          -72.9822,
          null,
          0,
          27.03333,
          -71.5,
          -84,
          -84,
          -79.68333,
          -76.18333,
          null,
          -72.77889,
          -84,
          null,
          -84,
          -76.2858,
          -76.27972,
          -72.77472,
          -86.56667,
          0,
          -76.18333,
          null,
          -71.5,
          -71.5,
          23.98611,
          -76.7574,
          19.190417,
          0,
          0,
          -72,
          -71.5,
          -72.998889,
          -72.77306,
          20.41437,
          null,
          39.33333,
          0,
          -84.24623,
          18.7247,
          -31.53333,
          -71.5,
          null,
          -71.5,
          33.03333,
          0,
          null,
          37.28333,
          -84.27985,
          20.7827,
          -72.77944,
          18.59083,
          -79.68333,
          -77.01706,
          null,
          -84,
          19.97933,
          null,
          -25.65,
          40.26667,
          -71.5,
          -84,
          0
         ],
         "lon": [
          null,
          null,
          null,
          168,
          156.44404,
          35.66667,
          -122.9522,
          null,
          26,
          35.66667,
          35.66667,
          161.68545,
          null,
          -86.48333,
          161.36443,
          168,
          168,
          26,
          168,
          75.31056,
          153.5,
          null,
          -68.96836,
          168,
          null,
          null,
          159.66667,
          null,
          null,
          36.20556,
          0,
          0,
          75.18722,
          75.3264,
          56.48438,
          -103.4,
          75.3375,
          -83.96667,
          -70,
          35.66667,
          -70,
          131.33253,
          57.16007,
          160.47328,
          157.39528,
          35.66667,
          160.50161,
          0,
          null,
          null,
          -81.86667,
          -165.43333,
          null,
          35.66667,
          35.66667,
          157.16667,
          0,
          0,
          35.66667,
          54.50885,
          null,
          168,
          4.13333,
          54.26175,
          54.40111,
          3.93333,
          -69.71667,
          35.66667,
          -68.25751,
          null,
          54.36907,
          -102.96,
          null,
          156.36181,
          -123.79341,
          159.275,
          157.16667,
          0,
          161.45413,
          159.66667,
          null,
          168,
          null,
          -68.68107,
          168,
          156.48143,
          35.66667,
          16.26683,
          35.66667,
          160.51425,
          159.75,
          159.75,
          161.41026,
          -96.58333,
          0,
          54.58783,
          null,
          161.28593,
          168,
          35.66667,
          null,
          null,
          null,
          0,
          -70,
          null,
          0,
          75.18722,
          168,
          -9.74117,
          null,
          160.50374,
          53.99325,
          161.40492,
          161.68603,
          35.66667,
          75.334167,
          24.4,
          0,
          168,
          35.66667,
          159.36889,
          -68.17227,
          58.41415,
          -70.53333,
          161.34562,
          0,
          54.43,
          157.1975,
          -68.87777,
          0,
          -79.75,
          11.85,
          0,
          0,
          0,
          0,
          0,
          null,
          75.2489,
          null,
          0,
          16.35,
          35.66667,
          168,
          168,
          155.75,
          157.16667,
          null,
          75.31111,
          168,
          null,
          168,
          156.46845,
          156.47219,
          75.32361,
          -165.11667,
          0,
          157.16667,
          null,
          35.66667,
          35.66667,
          32.62361,
          158.90775,
          54.957194,
          0,
          0,
          26,
          35.66667,
          75.187222,
          75.33806,
          57.06578,
          null,
          -98.16667,
          0,
          161.41018,
          54.39503,
          127.01667,
          35.66667,
          null,
          35.66667,
          -102.33333,
          0,
          null,
          -102.2,
          161.34894,
          55.42668,
          75.27,
          54.543,
          159.75,
          156.96282,
          null,
          168,
          55.95507,
          null,
          114.21667,
          -118.93333,
          35.66667,
          168,
          0
         ],
         "marker": {
          "autocolorscale": false,
          "color": [
           173,
           63,
           10.913,
           27.3,
           20.9,
           2048,
           150.1,
           13.16,
           87.49,
           3.03,
           31.03,
           1.2,
           9.217,
           1000,
           2.4,
           0.5,
           16.4,
           45.21,
           1.4,
           2.55,
           33.8,
           1.1,
           8.1,
           52.4,
           197.2,
           101.4,
           4.4,
           12.976,
           579,
           69.9,
           9.49,
           102.79,
           1.58,
           0.45,
           3879,
           5100,
           3.26,
           16300,
           3.49,
           0.54,
           17.54,
           4.6,
           613,
           48.2,
           8.6,
           24.2,
           0.74,
           8.3,
           7500,
           26.7,
           13600,
           34.1,
           45,
           56.82,
           1.59,
           8.4,
           7.3,
           1.7,
           2.09,
           74,
           495.4,
           89.6,
           420,
           849,
           208,
           8300,
           228,
           2.98,
           53.8,
           55.9,
           73,
           53,
           0.9,
           1230.8,
           587.7,
           8725,
           17.5,
           112.86,
           8.9,
           779.6,
           2250,
           3.8,
           188,
           37.1,
           86.1,
           68.4,
           3.54,
           244,
           9.97,
           12.31,
           18.7,
           78.8,
           18.2,
           4100,
           815,
           1095,
           254,
           9.2,
           31.9,
           1.48,
           165.8,
           406,
           35.8,
           86.63,
           1563.1,
           185.4,
           127.1,
           0.51,
           15.5,
           85,
           308,
           3.5,
           10175,
           11.1,
           5.9,
           3.19,
           0.56,
           30,
           11.09,
           11.9,
           29.42,
           27.8,
           92.7,
           78.36,
           111,
           62.4,
           4.7,
           144,
           23.7,
           215,
           4.93,
           500,
           1149,
           4.1,
           2.4,
           34.3,
           9.8,
           580,
           23,
           0.46,
           14.633,
           3.4,
           54,
           292.26,
           1.3,
           37.8,
           38.99,
           58.6,
           12.7,
           4.22,
           25.6,
           45.4,
           4.9,
           39.7,
           14.2,
           336,
           72.4,
           130.3,
           392.9,
           1006,
           8.14,
           10.86,
           12000,
           6.3,
           426,
           48.1,
           259,
           10.36,
           6175,
           1.33,
           4.37,
           187.5,
           27000,
           50000,
           20,
           9.5,
           1806,
           1443,
           1.22,
           1624,
           14.03,
           45000,
           5.86,
           87.7,
           2700,
           20.5,
           80.48,
           6.45,
           624,
           10.9,
           157.8,
           1788,
           2.5,
           1798.9,
           152,
           71000,
           170,
           9.13,
           5,
           4.2
          ],
          "colorbar": {
           "title": {
            "text": "Meteorite Mass (g)"
           }
          },
          "colorscale": [
           [
            0,
            "rgb(0, 0, 0)"
           ],
           [
            0.2,
            "rgb(30,0,100)"
           ],
           [
            0.4,
            "rgb(120,0,100)"
           ],
           [
            0.6,
            "rgb(160,90,0)"
           ],
           [
            0.8,
            "rgb(230,200,0)"
           ],
           [
            1,
            "rgb(255,250,220)"
           ]
          ],
          "opacity": 0.8,
          "reversescale": true,
          "size": 8,
          "symbol": "circle"
         },
         "mode": "markers",
         "text": [
          173,
          63,
          10.913,
          27.3,
          20.9,
          2048,
          150.1,
          13.16,
          87.49,
          3.03,
          31.03,
          1.2,
          9.217,
          1000,
          2.4,
          0.5,
          16.4,
          45.21,
          1.4,
          2.55,
          33.8,
          1.1,
          8.1,
          52.4,
          197.2,
          101.4,
          4.4,
          12.976,
          579,
          69.9,
          9.49,
          102.79,
          1.58,
          0.45,
          3879,
          5100,
          3.26,
          16300,
          3.49,
          0.54,
          17.54,
          4.6,
          613,
          48.2,
          8.6,
          24.2,
          0.74,
          8.3,
          7500,
          26.7,
          13600,
          34.1,
          45,
          56.82,
          1.59,
          8.4,
          7.3,
          1.7,
          2.09,
          74,
          495.4,
          89.6,
          420,
          849,
          208,
          8300,
          228,
          2.98,
          53.8,
          55.9,
          73,
          53,
          0.9,
          1230.8,
          587.7,
          8725,
          17.5,
          112.86,
          8.9,
          779.6,
          2250,
          3.8,
          188,
          37.1,
          86.1,
          68.4,
          3.54,
          244,
          9.97,
          12.31,
          18.7,
          78.8,
          18.2,
          4100,
          815,
          1095,
          254,
          9.2,
          31.9,
          1.48,
          165.8,
          406,
          35.8,
          86.63,
          1563.1,
          185.4,
          127.1,
          0.51,
          15.5,
          85,
          308,
          3.5,
          10175,
          11.1,
          5.9,
          3.19,
          0.56,
          30,
          11.09,
          11.9,
          29.42,
          27.8,
          92.7,
          78.36,
          111,
          62.4,
          4.7,
          144,
          23.7,
          215,
          4.93,
          500,
          1149,
          4.1,
          2.4,
          34.3,
          9.8,
          580,
          23,
          0.46,
          14.633,
          3.4,
          54,
          292.26,
          1.3,
          37.8,
          38.99,
          58.6,
          12.7,
          4.22,
          25.6,
          45.4,
          4.9,
          39.7,
          14.2,
          336,
          72.4,
          130.3,
          392.9,
          1006,
          8.14,
          10.86,
          12000,
          6.3,
          426,
          48.1,
          259,
          10.36,
          6175,
          1.33,
          4.37,
          187.5,
          27000,
          50000,
          20,
          9.5,
          1806,
          1443,
          1.22,
          1624,
          14.03,
          45000,
          5.86,
          87.7,
          2700,
          20.5,
          80.48,
          6.45,
          624,
          10.9,
          157.8,
          1788,
          2.5,
          1798.9,
          152,
          71000,
          170,
          9.13,
          5,
          4.2
         ],
         "type": "scattergeo"
        }
       ],
       "layout": {
        "autosize": true,
        "geo": {
         "lakecolor": "purple",
         "landcolor": "lightgrey",
         "oceancolor": "lightblue",
         "projection": {
          "type": "equirectangular"
         },
         "rivercolor": "green",
         "scope": "world",
         "showlakes": true,
         "showland": true,
         "showocean": true,
         "showrivers": true
        },
        "template": {
         "data": {
          "bar": [
           {
            "error_x": {
             "color": "#2a3f5f"
            },
            "error_y": {
             "color": "#2a3f5f"
            },
            "marker": {
             "line": {
              "color": "#E5ECF6",
              "width": 0.5
             },
             "pattern": {
              "fillmode": "overlay",
              "size": 10,
              "solidity": 0.2
             }
            },
            "type": "bar"
           }
          ],
          "barpolar": [
           {
            "marker": {
             "line": {
              "color": "#E5ECF6",
              "width": 0.5
             },
             "pattern": {
              "fillmode": "overlay",
              "size": 10,
              "solidity": 0.2
             }
            },
            "type": "barpolar"
           }
          ],
          "carpet": [
           {
            "aaxis": {
             "endlinecolor": "#2a3f5f",
             "gridcolor": "white",
             "linecolor": "white",
             "minorgridcolor": "white",
             "startlinecolor": "#2a3f5f"
            },
            "baxis": {
             "endlinecolor": "#2a3f5f",
             "gridcolor": "white",
             "linecolor": "white",
             "minorgridcolor": "white",
             "startlinecolor": "#2a3f5f"
            },
            "type": "carpet"
           }
          ],
          "choropleth": [
           {
            "colorbar": {
             "outlinewidth": 0,
             "ticks": ""
            },
            "type": "choropleth"
           }
          ],
          "contour": [
           {
            "colorbar": {
             "outlinewidth": 0,
             "ticks": ""
            },
            "colorscale": [
             [
              0,
              "#0d0887"
             ],
             [
              0.1111111111111111,
              "#46039f"
             ],
             [
              0.2222222222222222,
              "#7201a8"
             ],
             [
              0.3333333333333333,
              "#9c179e"
             ],
             [
              0.4444444444444444,
              "#bd3786"
             ],
             [
              0.5555555555555556,
              "#d8576b"
             ],
             [
              0.6666666666666666,
              "#ed7953"
             ],
             [
              0.7777777777777778,
              "#fb9f3a"
             ],
             [
              0.8888888888888888,
              "#fdca26"
             ],
             [
              1,
              "#f0f921"
             ]
            ],
            "type": "contour"
           }
          ],
          "contourcarpet": [
           {
            "colorbar": {
             "outlinewidth": 0,
             "ticks": ""
            },
            "type": "contourcarpet"
           }
          ],
          "heatmap": [
           {
            "colorbar": {
             "outlinewidth": 0,
             "ticks": ""
            },
            "colorscale": [
             [
              0,
              "#0d0887"
             ],
             [
              0.1111111111111111,
              "#46039f"
             ],
             [
              0.2222222222222222,
              "#7201a8"
             ],
             [
              0.3333333333333333,
              "#9c179e"
             ],
             [
              0.4444444444444444,
              "#bd3786"
             ],
             [
              0.5555555555555556,
              "#d8576b"
             ],
             [
              0.6666666666666666,
              "#ed7953"
             ],
             [
              0.7777777777777778,
              "#fb9f3a"
             ],
             [
              0.8888888888888888,
              "#fdca26"
             ],
             [
              1,
              "#f0f921"
             ]
            ],
            "type": "heatmap"
           }
          ],
          "heatmapgl": [
           {
            "colorbar": {
             "outlinewidth": 0,
             "ticks": ""
            },
            "colorscale": [
             [
              0,
              "#0d0887"
             ],
             [
              0.1111111111111111,
              "#46039f"
             ],
             [
              0.2222222222222222,
              "#7201a8"
             ],
             [
              0.3333333333333333,
              "#9c179e"
             ],
             [
              0.4444444444444444,
              "#bd3786"
             ],
             [
              0.5555555555555556,
              "#d8576b"
             ],
             [
              0.6666666666666666,
              "#ed7953"
             ],
             [
              0.7777777777777778,
              "#fb9f3a"
             ],
             [
              0.8888888888888888,
              "#fdca26"
             ],
             [
              1,
              "#f0f921"
             ]
            ],
            "type": "heatmapgl"
           }
          ],
          "histogram": [
           {
            "marker": {
             "pattern": {
              "fillmode": "overlay",
              "size": 10,
              "solidity": 0.2
             }
            },
            "type": "histogram"
           }
          ],
          "histogram2d": [
           {
            "colorbar": {
             "outlinewidth": 0,
             "ticks": ""
            },
            "colorscale": [
             [
              0,
              "#0d0887"
             ],
             [
              0.1111111111111111,
              "#46039f"
             ],
             [
              0.2222222222222222,
              "#7201a8"
             ],
             [
              0.3333333333333333,
              "#9c179e"
             ],
             [
              0.4444444444444444,
              "#bd3786"
             ],
             [
              0.5555555555555556,
              "#d8576b"
             ],
             [
              0.6666666666666666,
              "#ed7953"
             ],
             [
              0.7777777777777778,
              "#fb9f3a"
             ],
             [
              0.8888888888888888,
              "#fdca26"
             ],
             [
              1,
              "#f0f921"
             ]
            ],
            "type": "histogram2d"
           }
          ],
          "histogram2dcontour": [
           {
            "colorbar": {
             "outlinewidth": 0,
             "ticks": ""
            },
            "colorscale": [
             [
              0,
              "#0d0887"
             ],
             [
              0.1111111111111111,
              "#46039f"
             ],
             [
              0.2222222222222222,
              "#7201a8"
             ],
             [
              0.3333333333333333,
              "#9c179e"
             ],
             [
              0.4444444444444444,
              "#bd3786"
             ],
             [
              0.5555555555555556,
              "#d8576b"
             ],
             [
              0.6666666666666666,
              "#ed7953"
             ],
             [
              0.7777777777777778,
              "#fb9f3a"
             ],
             [
              0.8888888888888888,
              "#fdca26"
             ],
             [
              1,
              "#f0f921"
             ]
            ],
            "type": "histogram2dcontour"
           }
          ],
          "mesh3d": [
           {
            "colorbar": {
             "outlinewidth": 0,
             "ticks": ""
            },
            "type": "mesh3d"
           }
          ],
          "parcoords": [
           {
            "line": {
             "colorbar": {
              "outlinewidth": 0,
              "ticks": ""
             }
            },
            "type": "parcoords"
           }
          ],
          "pie": [
           {
            "automargin": true,
            "type": "pie"
           }
          ],
          "scatter": [
           {
            "fillpattern": {
             "fillmode": "overlay",
             "size": 10,
             "solidity": 0.2
            },
            "type": "scatter"
           }
          ],
          "scatter3d": [
           {
            "line": {
             "colorbar": {
              "outlinewidth": 0,
              "ticks": ""
             }
            },
            "marker": {
             "colorbar": {
              "outlinewidth": 0,
              "ticks": ""
             }
            },
            "type": "scatter3d"
           }
          ],
          "scattercarpet": [
           {
            "marker": {
             "colorbar": {
              "outlinewidth": 0,
              "ticks": ""
             }
            },
            "type": "scattercarpet"
           }
          ],
          "scattergeo": [
           {
            "marker": {
             "colorbar": {
              "outlinewidth": 0,
              "ticks": ""
             }
            },
            "type": "scattergeo"
           }
          ],
          "scattergl": [
           {
            "marker": {
             "colorbar": {
              "outlinewidth": 0,
              "ticks": ""
             }
            },
            "type": "scattergl"
           }
          ],
          "scattermapbox": [
           {
            "marker": {
             "colorbar": {
              "outlinewidth": 0,
              "ticks": ""
             }
            },
            "type": "scattermapbox"
           }
          ],
          "scatterpolar": [
           {
            "marker": {
             "colorbar": {
              "outlinewidth": 0,
              "ticks": ""
             }
            },
            "type": "scatterpolar"
           }
          ],
          "scatterpolargl": [
           {
            "marker": {
             "colorbar": {
              "outlinewidth": 0,
              "ticks": ""
             }
            },
            "type": "scatterpolargl"
           }
          ],
          "scatterternary": [
           {
            "marker": {
             "colorbar": {
              "outlinewidth": 0,
              "ticks": ""
             }
            },
            "type": "scatterternary"
           }
          ],
          "surface": [
           {
            "colorbar": {
             "outlinewidth": 0,
             "ticks": ""
            },
            "colorscale": [
             [
              0,
              "#0d0887"
             ],
             [
              0.1111111111111111,
              "#46039f"
             ],
             [
              0.2222222222222222,
              "#7201a8"
             ],
             [
              0.3333333333333333,
              "#9c179e"
             ],
             [
              0.4444444444444444,
              "#bd3786"
             ],
             [
              0.5555555555555556,
              "#d8576b"
             ],
             [
              0.6666666666666666,
              "#ed7953"
             ],
             [
              0.7777777777777778,
              "#fb9f3a"
             ],
             [
              0.8888888888888888,
              "#fdca26"
             ],
             [
              1,
              "#f0f921"
             ]
            ],
            "type": "surface"
           }
          ],
          "table": [
           {
            "cells": {
             "fill": {
              "color": "#EBF0F8"
             },
             "line": {
              "color": "white"
             }
            },
            "header": {
             "fill": {
              "color": "#C8D4E3"
             },
             "line": {
              "color": "white"
             }
            },
            "type": "table"
           }
          ]
         },
         "layout": {
          "annotationdefaults": {
           "arrowcolor": "#2a3f5f",
           "arrowhead": 0,
           "arrowwidth": 1
          },
          "autotypenumbers": "strict",
          "coloraxis": {
           "colorbar": {
            "outlinewidth": 0,
            "ticks": ""
           }
          },
          "colorscale": {
           "diverging": [
            [
             0,
             "#8e0152"
            ],
            [
             0.1,
             "#c51b7d"
            ],
            [
             0.2,
             "#de77ae"
            ],
            [
             0.3,
             "#f1b6da"
            ],
            [
             0.4,
             "#fde0ef"
            ],
            [
             0.5,
             "#f7f7f7"
            ],
            [
             0.6,
             "#e6f5d0"
            ],
            [
             0.7,
             "#b8e186"
            ],
            [
             0.8,
             "#7fbc41"
            ],
            [
             0.9,
             "#4d9221"
            ],
            [
             1,
             "#276419"
            ]
           ],
           "sequential": [
            [
             0,
             "#0d0887"
            ],
            [
             0.1111111111111111,
             "#46039f"
            ],
            [
             0.2222222222222222,
             "#7201a8"
            ],
            [
             0.3333333333333333,
             "#9c179e"
            ],
            [
             0.4444444444444444,
             "#bd3786"
            ],
            [
             0.5555555555555556,
             "#d8576b"
            ],
            [
             0.6666666666666666,
             "#ed7953"
            ],
            [
             0.7777777777777778,
             "#fb9f3a"
            ],
            [
             0.8888888888888888,
             "#fdca26"
            ],
            [
             1,
             "#f0f921"
            ]
           ],
           "sequentialminus": [
            [
             0,
             "#0d0887"
            ],
            [
             0.1111111111111111,
             "#46039f"
            ],
            [
             0.2222222222222222,
             "#7201a8"
            ],
            [
             0.3333333333333333,
             "#9c179e"
            ],
            [
             0.4444444444444444,
             "#bd3786"
            ],
            [
             0.5555555555555556,
             "#d8576b"
            ],
            [
             0.6666666666666666,
             "#ed7953"
            ],
            [
             0.7777777777777778,
             "#fb9f3a"
            ],
            [
             0.8888888888888888,
             "#fdca26"
            ],
            [
             1,
             "#f0f921"
            ]
           ]
          },
          "colorway": [
           "#636efa",
           "#EF553B",
           "#00cc96",
           "#ab63fa",
           "#FFA15A",
           "#19d3f3",
           "#FF6692",
           "#B6E880",
           "#FF97FF",
           "#FECB52"
          ],
          "font": {
           "color": "#2a3f5f"
          },
          "geo": {
           "bgcolor": "white",
           "lakecolor": "white",
           "landcolor": "#E5ECF6",
           "showlakes": true,
           "showland": true,
           "subunitcolor": "white"
          },
          "hoverlabel": {
           "align": "left"
          },
          "hovermode": "closest",
          "mapbox": {
           "style": "light"
          },
          "paper_bgcolor": "white",
          "plot_bgcolor": "#E5ECF6",
          "polar": {
           "angularaxis": {
            "gridcolor": "white",
            "linecolor": "white",
            "ticks": ""
           },
           "bgcolor": "#E5ECF6",
           "radialaxis": {
            "gridcolor": "white",
            "linecolor": "white",
            "ticks": ""
           }
          },
          "scene": {
           "xaxis": {
            "backgroundcolor": "#E5ECF6",
            "gridcolor": "white",
            "gridwidth": 2,
            "linecolor": "white",
            "showbackground": true,
            "ticks": "",
            "zerolinecolor": "white"
           },
           "yaxis": {
            "backgroundcolor": "#E5ECF6",
            "gridcolor": "white",
            "gridwidth": 2,
            "linecolor": "white",
            "showbackground": true,
            "ticks": "",
            "zerolinecolor": "white"
           },
           "zaxis": {
            "backgroundcolor": "#E5ECF6",
            "gridcolor": "white",
            "gridwidth": 2,
            "linecolor": "white",
            "showbackground": true,
            "ticks": "",
            "zerolinecolor": "white"
           }
          },
          "shapedefaults": {
           "line": {
            "color": "#2a3f5f"
           }
          },
          "ternary": {
           "aaxis": {
            "gridcolor": "white",
            "linecolor": "white",
            "ticks": ""
           },
           "baxis": {
            "gridcolor": "white",
            "linecolor": "white",
            "ticks": ""
           },
           "bgcolor": "#E5ECF6",
           "caxis": {
            "gridcolor": "white",
            "linecolor": "white",
            "ticks": ""
           }
          },
          "title": {
           "x": 0.05
          },
          "xaxis": {
           "automargin": true,
           "gridcolor": "white",
           "linecolor": "white",
           "ticks": "",
           "title": {
            "standoff": 15
           },
           "zerolinecolor": "white",
           "zerolinewidth": 2
          },
          "yaxis": {
           "automargin": true,
           "gridcolor": "white",
           "linecolor": "white",
           "ticks": "",
           "title": {
            "standoff": 15
           },
           "zerolinecolor": "white",
           "zerolinewidth": 2
          }
         }
        },
        "title": {
         "text": "Meteorite_Landings"
        }
       }
      },
      "image/png": "[encoded data removed]",
      "text/html": [
       "<div>                            <div id=\"d8575719-0a52-4c1d-b5ef-c7b4948492fc\" class=\"plotly-graph-div\" style=\"height:525px; width:100%;\"></div>            <script type=\"text/javascript\">                require([\"plotly\"], function(Plotly) {                    window.PLOTLYENV=window.PLOTLYENV || {};                                    if (document.getElementById(\"d8575719-0a52-4c1d-b5ef-c7b4948492fc\")) {                    Plotly.newPlot(                        \"d8575719-0a52-4c1d-b5ef-c7b4948492fc\",                        [{\"lat\":[null,null,null,-84.0,-76.28535,-71.5,-86.51027,null,-72.0,-71.5,-71.5,-84.27378,null,34.2,-84.357,-84.0,-84.0,-72.0,-84.0,-72.77917,-80.25,null,-85.691,-84.0,null,null,-76.71667,null,null,-71.82806,0.0,0.0,-72.99889,-72.7769,20.5052,36.21667,-72.76944,33.01667,-86.36667,-71.5,-86.36667,-30.99311,20.60837,-72.95488,-76.31222,-71.5,-72.95222,0.0,null,null,35.71667,-86.45,null,-71.5,-71.5,-76.18333,0.0,0.0,-71.5,18.90573,null,-84.0,27.71667,18.741611,19.14611,48.45,-25.23333,-71.5,-85.66787,null,18.70115,33.275,null,-76.27512,-86.52222,-76.77389,-76.18333,0.0,-84.25231,-76.71667,null,-84.0,null,-85.68006,-84.0,-76.28565,-71.5,27.17717,-71.5,-72.95108,-79.68333,-79.68333,-84.25909,38.85,0.0,18.67917,null,-84.28986,-84.0,-71.5,null,null,null,0.0,-86.36667,null,0.0,-72.99889,-84.0,27.2265,null,-72.95457,18.50755,-84.25499,-84.27385,-71.5,-72.7775,55.7,0.0,-84.0,-71.5,-76.68944,-85.65807,21.37107,-24.85,-84.27639,0.0,18.625,-76.31028,-85.68404,0.0,37.5,20.35833,0.0,0.0,0.0,0.0,0.0,null,-72.9822,null,0.0,27.03333,-71.5,-84.0,-84.0,-79.68333,-76.18333,null,-72.77889,-84.0,null,-84.0,-76.2858,-76.27972,-72.77472,-86.56667,0.0,-76.18333,null,-71.5,-71.5,23.98611,-76.7574,19.190417,0.0,0.0,-72.0,-71.5,-72.998889,-72.77306,20.41437,null,39.33333,0.0,-84.24623,18.7247,-31.53333,-71.5,null,-71.5,33.03333,0.0,null,37.28333,-84.27985,20.7827,-72.77944,18.59083,-79.68333,-77.01706,null,-84.0,19.97933,null,-25.65,40.26667,-71.5,-84.0,0.0],\"lon\":[null,null,null,168.0,156.44404,35.66667,-122.9522,null,26.0,35.66667,35.66667,161.68545,null,-86.48333,161.36443,168.0,168.0,26.0,168.0,75.31056,153.5,null,-68.96836,168.0,null,null,159.66667,null,null,36.20556,0.0,0.0,75.18722,75.3264,56.48438,-103.4,75.3375,-83.96667,-70.0,35.66667,-70.0,131.33253,57.16007,160.47328,157.39528,35.66667,160.50161,0.0,null,null,-81.86667,-165.43333,null,35.66667,35.66667,157.16667,0.0,0.0,35.66667,54.50885,null,168.0,4.13333,54.26175,54.40111,3.93333,-69.71667,35.66667,-68.25751,null,54.36907,-102.96,null,156.36181,-123.79341,159.275,157.16667,0.0,161.45413,159.66667,null,168.0,null,-68.68107,168.0,156.48143,35.66667,16.26683,35.66667,160.51425,159.75,159.75,161.41026,-96.58333,0.0,54.58783,null,161.28593,168.0,35.66667,null,null,null,0.0,-70.0,null,0.0,75.18722,168.0,-9.74117,null,160.50374,53.99325,161.40492,161.68603,35.66667,75.334167,24.4,0.0,168.0,35.66667,159.36889,-68.17227,58.41415,-70.53333,161.34562,0.0,54.43,157.1975,-68.87777,0.0,-79.75,11.85,0.0,0.0,0.0,0.0,0.0,null,75.2489,null,0.0,16.35,35.66667,168.0,168.0,155.75,157.16667,null,75.31111,168.0,null,168.0,156.46845,156.47219,75.32361,-165.11667,0.0,157.16667,null,35.66667,35.66667,32.62361,158.90775,54.957194,0.0,0.0,26.0,35.66667,75.187222,75.33806,57.06578,null,-98.16667,0.0,161.41018,54.39503,127.01667,35.66667,null,35.66667,-102.33333,0.0,null,-102.2,161.34894,55.42668,75.27,54.543,159.75,156.96282,null,168.0,55.95507,null,114.21667,-118.93333,35.66667,168.0,0.0],\"marker\":{\"autocolorscale\":false,\"color\":[173.0,63.0,10.913,27.3,20.9,2048.0,150.1,13.16,87.49,3.03,31.03,1.2,9.217,1000.0,2.4,0.5,16.4,45.21,1.4,2.55,33.8,1.1,8.1,52.4,197.2,101.4,4.4,12.976,579.0,69.9,9.49,102.79,1.58,0.45,3879.0,5100.0,3.26,16300.0,3.49,0.54,17.54,4.6,613.0,48.2,8.6,24.2,0.74,8.3,7500.0,26.7,13600.0,34.1,45.0,56.82,1.59,8.4,7.3,1.7,2.09,74.0,495.4,89.6,420.0,849.0,208.0,8300.0,228.0,2.98,53.8,55.9,73.0,53.0,0.9,1230.8,587.7,8725.0,17.5,112.86,8.9,779.6,2250.0,3.8,188.0,37.1,86.1,68.4,3.54,244.0,9.97,12.31,18.7,78.8,18.2,4100.0,815.0,1095.0,254.0,9.2,31.9,1.48,165.8,406.0,35.8,86.63,1563.1,185.4,127.1,0.51,15.5,85.0,308.0,3.5,10175.0,11.1,5.9,3.19,0.56,30.0,11.09,11.9,29.42,27.8,92.7,78.36,111.0,62.4,4.7,144.0,23.7,215.0,4.93,500.0,1149.0,4.1,2.4,34.3,9.8,580.0,23.0,0.46,14.633,3.4,54.0,292.26,1.3,37.8,38.99,58.6,12.7,4.22,25.6,45.4,4.9,39.7,14.2,336.0,72.4,130.3,392.9,1006.0,8.14,10.86,12000.0,6.3,426.0,48.1,259.0,10.36,6175.0,1.33,4.37,187.5,27000.0,50000.0,20.0,9.5,1806.0,1443.0,1.22,1624.0,14.03,45000.0,5.86,87.7,2700.0,20.5,80.48,6.45,624.0,10.9,157.8,1788.0,2.5,1798.9,152.0,71000.0,170.0,9.13,5.0,4.2],\"colorbar\":{\"title\":{\"text\":\"Meteorite Mass (g)\"}},\"colorscale\":[[0.0,\"rgb(0,0,0)\"],[0.2,\"rgb(30,0,100)\"],[0.4,\"rgb(120,0,100)\"],[0.6,\"rgb(160,90,0)\"],[0.8,\"rgb(230,200,0)\"],[1.0,\"rgb(255,250,220)\"]],\"opacity\":0.8,\"reversescale\":true,\"size\":8,\"symbol\":\"circle\"},\"mode\":\"markers\",\"text\":[173.0,63.0,10.913,27.3,20.9,2048.0,150.1,13.16,87.49,3.03,31.03,1.2,9.217,1000.0,2.4,0.5,16.4,45.21,1.4,2.55,33.8,1.1,8.1,52.4,197.2,101.4,4.4,12.976,579.0,69.9,9.49,102.79,1.58,0.45,3879.0,5100.0,3.26,16300.0,3.49,0.54,17.54,4.6,613.0,48.2,8.6,24.2,0.74,8.3,7500.0,26.7,13600.0,34.1,45.0,56.82,1.59,8.4,7.3,1.7,2.09,74.0,495.4,89.6,420.0,849.0,208.0,8300.0,228.0,2.98,53.8,55.9,73.0,53.0,0.9,1230.8,587.7,8725.0,17.5,112.86,8.9,779.6,2250.0,3.8,188.0,37.1,86.1,68.4,3.54,244.0,9.97,12.31,18.7,78.8,18.2,4100.0,815.0,1095.0,254.0,9.2,31.9,1.48,165.8,406.0,35.8,86.63,1563.1,185.4,127.1,0.51,15.5,85.0,308.0,3.5,10175.0,11.1,5.9,3.19,0.56,30.0,11.09,11.9,29.42,27.8,92.7,78.36,111.0,62.4,4.7,144.0,23.7,215.0,4.93,500.0,1149.0,4.1,2.4,34.3,9.8,580.0,23.0,0.46,14.633,3.4,54.0,292.26,1.3,37.8,38.99,58.6,12.7,4.22,25.6,45.4,4.9,39.7,14.2,336.0,72.4,130.3,392.9,1006.0,8.14,10.86,12000.0,6.3,426.0,48.1,259.0,10.36,6175.0,1.33,4.37,187.5,27000.0,50000.0,20.0,9.5,1806.0,1443.0,1.22,1624.0,14.03,45000.0,5.86,87.7,2700.0,20.5,80.48,6.45,624.0,10.9,157.8,1788.0,2.5,1798.9,152.0,71000.0,170.0,9.13,5.0,4.2],\"type\":\"scattergeo\"}],                        {\"template\":{\"data\":{\"histogram2dcontour\":[{\"type\":\"histogram2dcontour\",\"colorbar\":{\"outlinewidth\":0,\"ticks\":\"\"},\"colorscale\":[[0.0,\"#0d0887\"],[0.1111111111111111,\"#46039f\"],[0.2222222222222222,\"#7201a8\"],[0.3333333333333333,\"#9c179e\"],[0.4444444444444444,\"#bd3786\"],[0.5555555555555556,\"#d8576b\"],[0.6666666666666666,\"#ed7953\"],[0.7777777777777778,\"#fb9f3a\"],[0.8888888888888888,\"#fdca26\"],[1.0,\"#f0f921\"]]}],\"choropleth\":[{\"type\":\"choropleth\",\"colorbar\":{\"outlinewidth\":0,\"ticks\":\"\"}}],\"histogram2d\":[{\"type\":\"histogram2d\",\"colorbar\":{\"outlinewidth\":0,\"ticks\":\"\"},\"colorscale\":[[0.0,\"#0d0887\"],[0.1111111111111111,\"#46039f\"],[0.2222222222222222,\"#7201a8\"],[0.3333333333333333,\"#9c179e\"],[0.4444444444444444,\"#bd3786\"],[0.5555555555555556,\"#d8576b\"],[0.6666666666666666,\"#ed7953\"],[0.7777777777777778,\"#fb9f3a\"],[0.8888888888888888,\"#fdca26\"],[1.0,\"#f0f921\"]]}],\"heatmap\":[{\"type\":\"heatmap\",\"colorbar\":{\"outlinewidth\":0,\"ticks\":\"\"},\"colorscale\":[[0.0,\"#0d0887\"],[0.1111111111111111,\"#46039f\"],[0.2222222222222222,\"#7201a8\"],[0.3333333333333333,\"#9c179e\"],[0.4444444444444444,\"#bd3786\"],[0.5555555555555556,\"#d8576b\"],[0.6666666666666666,\"#ed7953\"],[0.7777777777777778,\"#fb9f3a\"],[0.8888888888888888,\"#fdca26\"],[1.0,\"#f0f921\"]]}],\"heatmapgl\":[{\"type\":\"heatmapgl\",\"colorbar\":{\"outlinewidth\":0,\"ticks\":\"\"},\"colorscale\":[[0.0,\"#0d0887\"],[0.1111111111111111,\"#46039f\"],[0.2222222222222222,\"#7201a8\"],[0.3333333333333333,\"#9c179e\"],[0.4444444444444444,\"#bd3786\"],[0.5555555555555556,\"#d8576b\"],[0.6666666666666666,\"#ed7953\"],[0.7777777777777778,\"#fb9f3a\"],[0.8888888888888888,\"#fdca26\"],[1.0,\"#f0f921\"]]}],\"contourcarpet\":[{\"type\":\"contourcarpet\",\"colorbar\":{\"outlinewidth\":0,\"ticks\":\"\"}}],\"contour\":[{\"type\":\"contour\",\"colorbar\":{\"outlinewidth\":0,\"ticks\":\"\"},\"colorscale\":[[0.0,\"#0d0887\"],[0.1111111111111111,\"#46039f\"],[0.2222222222222222,\"#7201a8\"],[0.3333333333333333,\"#9c179e\"],[0.4444444444444444,\"#bd3786\"],[0.5555555555555556,\"#d8576b\"],[0.6666666666666666,\"#ed7953\"],[0.7777777777777778,\"#fb9f3a\"],[0.8888888888888888,\"#fdca26\"],[1.0,\"#f0f921\"]]}],\"surface\":[{\"type\":\"surface\",\"colorbar\":{\"outlinewidth\":0,\"ticks\":\"\"},\"colorscale\":[[0.0,\"#0d0887\"],[0.1111111111111111,\"#46039f\"],[0.2222222222222222,\"#7201a8\"],[0.3333333333333333,\"#9c179e\"],[0.4444444444444444,\"#bd3786\"],[0.5555555555555556,\"#d8576b\"],[0.6666666666666666,\"#ed7953\"],[0.7777777777777778,\"#fb9f3a\"],[0.8888888888888888,\"#fdca26\"],[1.0,\"#f0f921\"]]}],\"mesh3d\":[{\"type\":\"mesh3d\",\"colorbar\":{\"outlinewidth\":0,\"ticks\":\"\"}}],\"scatter\":[{\"fillpattern\":{\"fillmode\":\"overlay\",\"size\":10,\"solidity\":0.2},\"type\":\"scatter\"}],\"parcoords\":[{\"type\":\"parcoords\",\"line\":{\"colorbar\":{\"outlinewidth\":0,\"ticks\":\"\"}}}],\"scatterpolargl\":[{\"type\":\"scatterpolargl\",\"marker\":{\"colorbar\":{\"outlinewidth\":0,\"ticks\":\"\"}}}],\"bar\":[{\"error_x\":{\"color\":\"#2a3f5f\"},\"error_y\":{\"color\":\"#2a3f5f\"},\"marker\":{\"line\":{\"color\":\"#E5ECF6\",\"width\":0.5},\"pattern\":{\"fillmode\":\"overlay\",\"size\":10,\"solidity\":0.2}},\"type\":\"bar\"}],\"scattergeo\":[{\"type\":\"scattergeo\",\"marker\":{\"colorbar\":{\"outlinewidth\":0,\"ticks\":\"\"}}}],\"scatterpolar\":[{\"type\":\"scatterpolar\",\"marker\":{\"colorbar\":{\"outlinewidth\":0,\"ticks\":\"\"}}}],\"histogram\":[{\"marker\":{\"pattern\":{\"fillmode\":\"overlay\",\"size\":10,\"solidity\":0.2}},\"type\":\"histogram\"}],\"scattergl\":[{\"type\":\"scattergl\",\"marker\":{\"colorbar\":{\"outlinewidth\":0,\"ticks\":\"\"}}}],\"scatter3d\":[{\"type\":\"scatter3d\",\"line\":{\"colorbar\":{\"outlinewidth\":0,\"ticks\":\"\"}},\"marker\":{\"colorbar\":{\"outlinewidth\":0,\"ticks\":\"\"}}}],\"scattermapbox\":[{\"type\":\"scattermapbox\",\"marker\":{\"colorbar\":{\"outlinewidth\":0,\"ticks\":\"\"}}}],\"scatterternary\":[{\"type\":\"scatterternary\",\"marker\":{\"colorbar\":{\"outlinewidth\":0,\"ticks\":\"\"}}}],\"scattercarpet\":[{\"type\":\"scattercarpet\",\"marker\":{\"colorbar\":{\"outlinewidth\":0,\"ticks\":\"\"}}}],\"carpet\":[{\"aaxis\":{\"endlinecolor\":\"#2a3f5f\",\"gridcolor\":\"white\",\"linecolor\":\"white\",\"minorgridcolor\":\"white\",\"startlinecolor\":\"#2a3f5f\"},\"baxis\":{\"endlinecolor\":\"#2a3f5f\",\"gridcolor\":\"white\",\"linecolor\":\"white\",\"minorgridcolor\":\"white\",\"startlinecolor\":\"#2a3f5f\"},\"type\":\"carpet\"}],\"table\":[{\"cells\":{\"fill\":{\"color\":\"#EBF0F8\"},\"line\":{\"color\":\"white\"}},\"header\":{\"fill\":{\"color\":\"#C8D4E3\"},\"line\":{\"color\":\"white\"}},\"type\":\"table\"}],\"barpolar\":[{\"marker\":{\"line\":{\"color\":\"#E5ECF6\",\"width\":0.5},\"pattern\":{\"fillmode\":\"overlay\",\"size\":10,\"solidity\":0.2}},\"type\":\"barpolar\"}],\"pie\":[{\"automargin\":true,\"type\":\"pie\"}]},\"layout\":{\"autotypenumbers\":\"strict\",\"colorway\":[\"#636efa\",\"#EF553B\",\"#00cc96\",\"#ab63fa\",\"#FFA15A\",\"#19d3f3\",\"#FF6692\",\"#B6E880\",\"#FF97FF\",\"#FECB52\"],\"font\":{\"color\":\"#2a3f5f\"},\"hovermode\":\"closest\",\"hoverlabel\":{\"align\":\"left\"},\"paper_bgcolor\":\"white\",\"plot_bgcolor\":\"#E5ECF6\",\"polar\":{\"bgcolor\":\"#E5ECF6\",\"angularaxis\":{\"gridcolor\":\"white\",\"linecolor\":\"white\",\"ticks\":\"\"},\"radialaxis\":{\"gridcolor\":\"white\",\"linecolor\":\"white\",\"ticks\":\"\"}},\"ternary\":{\"bgcolor\":\"#E5ECF6\",\"aaxis\":{\"gridcolor\":\"white\",\"linecolor\":\"white\",\"ticks\":\"\"},\"baxis\":{\"gridcolor\":\"white\",\"linecolor\":\"white\",\"ticks\":\"\"},\"caxis\":{\"gridcolor\":\"white\",\"linecolor\":\"white\",\"ticks\":\"\"}},\"coloraxis\":{\"colorbar\":{\"outlinewidth\":0,\"ticks\":\"\"}},\"colorscale\":{\"sequential\":[[0.0,\"#0d0887\"],[0.1111111111111111,\"#46039f\"],[0.2222222222222222,\"#7201a8\"],[0.3333333333333333,\"#9c179e\"],[0.4444444444444444,\"#bd3786\"],[0.5555555555555556,\"#d8576b\"],[0.6666666666666666,\"#ed7953\"],[0.7777777777777778,\"#fb9f3a\"],[0.8888888888888888,\"#fdca26\"],[1.0,\"#f0f921\"]],\"sequentialminus\":[[0.0,\"#0d0887\"],[0.1111111111111111,\"#46039f\"],[0.2222222222222222,\"#7201a8\"],[0.3333333333333333,\"#9c179e\"],[0.4444444444444444,\"#bd3786\"],[0.5555555555555556,\"#d8576b\"],[0.6666666666666666,\"#ed7953\"],[0.7777777777777778,\"#fb9f3a\"],[0.8888888888888888,\"#fdca26\"],[1.0,\"#f0f921\"]],\"diverging\":[[0,\"#8e0152\"],[0.1,\"#c51b7d\"],[0.2,\"#de77ae\"],[0.3,\"#f1b6da\"],[0.4,\"#fde0ef\"],[0.5,\"#f7f7f7\"],[0.6,\"#e6f5d0\"],[0.7,\"#b8e186\"],[0.8,\"#7fbc41\"],[0.9,\"#4d9221\"],[1,\"#276419\"]]},\"xaxis\":{\"gridcolor\":\"white\",\"linecolor\":\"white\",\"ticks\":\"\",\"title\":{\"standoff\":15},\"zerolinecolor\":\"white\",\"automargin\":true,\"zerolinewidth\":2},\"yaxis\":{\"gridcolor\":\"white\",\"linecolor\":\"white\",\"ticks\":\"\",\"title\":{\"standoff\":15},\"zerolinecolor\":\"white\",\"automargin\":true,\"zerolinewidth\":2},\"scene\":{\"xaxis\":{\"backgroundcolor\":\"#E5ECF6\",\"gridcolor\":\"white\",\"linecolor\":\"white\",\"showbackground\":true,\"ticks\":\"\",\"zerolinecolor\":\"white\",\"gridwidth\":2},\"yaxis\":{\"backgroundcolor\":\"#E5ECF6\",\"gridcolor\":\"white\",\"linecolor\":\"white\",\"showbackground\":true,\"ticks\":\"\",\"zerolinecolor\":\"white\",\"gridwidth\":2},\"zaxis\":{\"backgroundcolor\":\"#E5ECF6\",\"gridcolor\":\"white\",\"linecolor\":\"white\",\"showbackground\":true,\"ticks\":\"\",\"zerolinecolor\":\"white\",\"gridwidth\":2}},\"shapedefaults\":{\"line\":{\"color\":\"#2a3f5f\"}},\"annotationdefaults\":{\"arrowcolor\":\"#2a3f5f\",\"arrowhead\":0,\"arrowwidth\":1},\"geo\":{\"bgcolor\":\"white\",\"landcolor\":\"#E5ECF6\",\"subunitcolor\":\"white\",\"showland\":true,\"showlakes\":true,\"lakecolor\":\"white\"},\"title\":{\"x\":0.05},\"mapbox\":{\"style\":\"light\"}}},\"geo\":{\"projection\":{\"type\":\"equirectangular\"},\"showland\":true,\"landcolor\":\"lightgrey\",\"showocean\":true,\"oceancolor\":\"lightblue\",\"showlakes\":true,\"lakecolor\":\"purple\",\"showrivers\":true,\"rivercolor\":\"green\",\"scope\":\"world\"},\"title\":{\"text\":\"Meteorite_Landings\"}},                        {\"responsive\": true}                    ).then(function(){\n",
       "                            \n",
       "var gd = document.getElementById('d8575719-0a52-4c1d-b5ef-c7b4948492fc');\n",
       "var x = new MutationObserver(function (mutations, observer) {{\n",
       "        var display = window.getComputedStyle(gd).display;\n",
       "        if (!display || display === 'none') {{\n",
       "            console.log([gd, 'removed!']);\n",
       "            Plotly.purge(gd);\n",
       "            observer.disconnect();\n",
       "        }}\n",
       "}});\n",
       "\n",
       "// Listen for the removal of the full notebook cells\n",
       "var notebookContainer = gd.closest('#notebook-container');\n",
       "if (notebookContainer) {{\n",
       "    x.observe(notebookContainer, {childList: true});\n",
       "}}\n",
       "\n",
       "// Listen for the clearing of the current output cell\n",
       "var outputEl = gd.closest('.output');\n",
       "if (outputEl) {{\n",
       "    x.observe(outputEl, {childList: true});\n",
       "}}\n",
       "\n",
       "                        })                };                });            </script>        </div>"
      ]
     },
     "metadata": {},
     "output_type": "display_data"
    }
   ],
   "source": [
    "fig3 = go.Figure(data=go.Scattergeo(\n",
    "    lon = df['reclong'],\n",
    "    lat = df['reclat'],\n",
    "    text = df['mass (g)'],\n",
    "    mode = 'markers',\n",
    "    marker = dict(\n",
    "        size = 8,\n",
    "        opacity = 0.8,\n",
    "        reversescale = True,\n",
    "        autocolorscale = False,\n",
    "        symbol = 'circle',\n",
    "        colorscale = 'electric',\n",
    "        color = df['mass (g)'],\n",
    "        colorbar = dict(\n",
    "            title=dict(\n",
    "                text = 'Meteorite Mass (g)'\n",
    "            )\n",
    "        )\n",
    "    )\n",
    "))\n",
    "\n",
    "fig3.update_geos(\n",
    "    projection_type = 'equirectangular',\n",
    "    showland = True, landcolor = 'lightgrey',\n",
    "    showocean = True, oceancolor = 'lightblue',\n",
    "    showlakes= True, lakecolor = 'purple',\n",
    "    showrivers = True, rivercolor = 'green'\n",
    "\n",
    ")\n",
    "\n",
    "fig3.update_layout(\n",
    "    title = 'Meteorite_Landings',\n",
    "    geo_scope = 'world',\n",
    ")\n",
    "\n",
    "fig3.show()"
   ]
  },
  {
   "cell_type": "code",
   "execution_count": 25,
   "id": "992937b5-5bbf-4c3a-aee1-4bc104dd9662",
   "metadata": {},
   "outputs": [
    {
     "data": {
      "application/vnd.plotly.v1+json": {
       "config": {
        "plotlyServerURL": "https://plot.ly"
       },
       "data": [
        {
         "lat": [
          null,
          null,
          null,
          -84,
          -76.28535,
          -71.5,
          -86.51027,
          null,
          -72,
          -71.5,
          -71.5,
          -84.27378,
          null,
          34.2,
          -84.357,
          -84,
          -84,
          -72,
          -84,
          -72.77917,
          -80.25,
          null,
          -85.691,
          -84,
          null,
          null,
          -76.71667,
          null,
          null,
          -71.82806,
          0,
          0,
          -72.99889,
          -72.7769,
          20.5052,
          36.21667,
          -72.76944,
          33.01667,
          -86.36667,
          -71.5,
          -86.36667,
          -30.99311,
          20.60837,
          -72.95488,
          -76.31222,
          -71.5,
          -72.95222,
          0,
          null,
          null,
          35.71667,
          -86.45,
          null,
          -71.5,
          -71.5,
          -76.18333,
          0,
          0,
          -71.5,
          18.90573,
          null,
          -84,
          27.71667,
          18.741611,
          19.14611,
          48.45,
          -25.23333,
          -71.5,
          -85.66787,
          null,
          18.70115,
          33.275,
          null,
          -76.27512,
          -86.52222,
          -76.77389,
          -76.18333,
          0,
          -84.25231,
          -76.71667,
          null,
          -84,
          null,
          -85.68006,
          -84,
          -76.28565,
          -71.5,
          27.17717,
          -71.5,
          -72.95108,
          -79.68333,
          -79.68333,
          -84.25909,
          38.85,
          0,
          18.67917,
          null,
          -84.28986,
          -84,
          -71.5,
          null,
          null,
          null,
          0,
          -86.36667,
          null,
          0,
          -72.99889,
          -84,
          27.2265,
          null,
          -72.95457,
          18.50755,
          -84.25499,
          -84.27385,
          -71.5,
          -72.7775,
          55.7,
          0,
          -84,
          -71.5,
          -76.68944,
          -85.65807,
          21.37107,
          -24.85,
          -84.27639,
          0,
          18.625,
          -76.31028,
          -85.68404,
          0,
          37.5,
          20.35833,
          0,
          0,
          0,
          0,
          0,
          null,
          -72.9822,
          null,
          0,
          27.03333,
          -71.5,
          -84,
          -84,
          -79.68333,
          -76.18333,
          null,
          -72.77889,
          -84,
          null,
          -84,
          -76.2858,
          -76.27972,
          -72.77472,
          -86.56667,
          0,
          -76.18333,
          null,
          -71.5,
          -71.5,
          23.98611,
          -76.7574,
          19.190417,
          0,
          0,
          -72,
          -71.5,
          -72.998889,
          -72.77306,
          20.41437,
          null,
          39.33333,
          0,
          -84.24623,
          18.7247,
          -31.53333,
          -71.5,
          null,
          -71.5,
          33.03333,
          0,
          null,
          37.28333,
          -84.27985,
          20.7827,
          -72.77944,
          18.59083,
          -79.68333,
          -77.01706,
          null,
          -84,
          19.97933,
          null,
          -25.65,
          40.26667,
          -71.5,
          -84,
          0
         ],
         "lon": [
          null,
          null,
          null,
          168,
          156.44404,
          35.66667,
          -122.9522,
          null,
          26,
          35.66667,
          35.66667,
          161.68545,
          null,
          -86.48333,
          161.36443,
          168,
          168,
          26,
          168,
          75.31056,
          153.5,
          null,
          -68.96836,
          168,
          null,
          null,
          159.66667,
          null,
          null,
          36.20556,
          0,
          0,
          75.18722,
          75.3264,
          56.48438,
          -103.4,
          75.3375,
          -83.96667,
          -70,
          35.66667,
          -70,
          131.33253,
          57.16007,
          160.47328,
          157.39528,
          35.66667,
          160.50161,
          0,
          null,
          null,
          -81.86667,
          -165.43333,
          null,
          35.66667,
          35.66667,
          157.16667,
          0,
          0,
          35.66667,
          54.50885,
          null,
          168,
          4.13333,
          54.26175,
          54.40111,
          3.93333,
          -69.71667,
          35.66667,
          -68.25751,
          null,
          54.36907,
          -102.96,
          null,
          156.36181,
          -123.79341,
          159.275,
          157.16667,
          0,
          161.45413,
          159.66667,
          null,
          168,
          null,
          -68.68107,
          168,
          156.48143,
          35.66667,
          16.26683,
          35.66667,
          160.51425,
          159.75,
          159.75,
          161.41026,
          -96.58333,
          0,
          54.58783,
          null,
          161.28593,
          168,
          35.66667,
          null,
          null,
          null,
          0,
          -70,
          null,
          0,
          75.18722,
          168,
          -9.74117,
          null,
          160.50374,
          53.99325,
          161.40492,
          161.68603,
          35.66667,
          75.334167,
          24.4,
          0,
          168,
          35.66667,
          159.36889,
          -68.17227,
          58.41415,
          -70.53333,
          161.34562,
          0,
          54.43,
          157.1975,
          -68.87777,
          0,
          -79.75,
          11.85,
          0,
          0,
          0,
          0,
          0,
          null,
          75.2489,
          null,
          0,
          16.35,
          35.66667,
          168,
          168,
          155.75,
          157.16667,
          null,
          75.31111,
          168,
          null,
          168,
          156.46845,
          156.47219,
          75.32361,
          -165.11667,
          0,
          157.16667,
          null,
          35.66667,
          35.66667,
          32.62361,
          158.90775,
          54.957194,
          0,
          0,
          26,
          35.66667,
          75.187222,
          75.33806,
          57.06578,
          null,
          -98.16667,
          0,
          161.41018,
          54.39503,
          127.01667,
          35.66667,
          null,
          35.66667,
          -102.33333,
          0,
          null,
          -102.2,
          161.34894,
          55.42668,
          75.27,
          54.543,
          159.75,
          156.96282,
          null,
          168,
          55.95507,
          null,
          114.21667,
          -118.93333,
          35.66667,
          168,
          0
         ],
         "marker": {
          "autocolorscale": false,
          "color": [
           173,
           63,
           10.913,
           27.3,
           20.9,
           2048,
           150.1,
           13.16,
           87.49,
           3.03,
           31.03,
           1.2,
           9.217,
           1000,
           2.4,
           0.5,
           16.4,
           45.21,
           1.4,
           2.55,
           33.8,
           1.1,
           8.1,
           52.4,
           197.2,
           101.4,
           4.4,
           12.976,
           579,
           69.9,
           9.49,
           102.79,
           1.58,
           0.45,
           3879,
           5100,
           3.26,
           16300,
           3.49,
           0.54,
           17.54,
           4.6,
           613,
           48.2,
           8.6,
           24.2,
           0.74,
           8.3,
           7500,
           26.7,
           13600,
           34.1,
           45,
           56.82,
           1.59,
           8.4,
           7.3,
           1.7,
           2.09,
           74,
           495.4,
           89.6,
           420,
           849,
           208,
           8300,
           228,
           2.98,
           53.8,
           55.9,
           73,
           53,
           0.9,
           1230.8,
           587.7,
           8725,
           17.5,
           112.86,
           8.9,
           779.6,
           2250,
           3.8,
           188,
           37.1,
           86.1,
           68.4,
           3.54,
           244,
           9.97,
           12.31,
           18.7,
           78.8,
           18.2,
           4100,
           815,
           1095,
           254,
           9.2,
           31.9,
           1.48,
           165.8,
           406,
           35.8,
           86.63,
           1563.1,
           185.4,
           127.1,
           0.51,
           15.5,
           85,
           308,
           3.5,
           10175,
           11.1,
           5.9,
           3.19,
           0.56,
           30,
           11.09,
           11.9,
           29.42,
           27.8,
           92.7,
           78.36,
           111,
           62.4,
           4.7,
           144,
           23.7,
           215,
           4.93,
           500,
           1149,
           4.1,
           2.4,
           34.3,
           9.8,
           580,
           23,
           0.46,
           14.633,
           3.4,
           54,
           292.26,
           1.3,
           37.8,
           38.99,
           58.6,
           12.7,
           4.22,
           25.6,
           45.4,
           4.9,
           39.7,
           14.2,
           336,
           72.4,
           130.3,
           392.9,
           1006,
           8.14,
           10.86,
           12000,
           6.3,
           426,
           48.1,
           259,
           10.36,
           6175,
           1.33,
           4.37,
           187.5,
           27000,
           50000,
           20,
           9.5,
           1806,
           1443,
           1.22,
           1624,
           14.03,
           45000,
           5.86,
           87.7,
           2700,
           20.5,
           80.48,
           6.45,
           624,
           10.9,
           157.8,
           1788,
           2.5,
           1798.9,
           152,
           71000,
           170,
           9.13,
           5,
           4.2
          ],
          "colorbar": {
           "title": {
            "text": "Meteorite Mass (g)"
           }
          },
          "colorscale": [
           [
            0,
            "rgb(0, 0, 0)"
           ],
           [
            0.2,
            "rgb(30,0,100)"
           ],
           [
            0.4,
            "rgb(120,0,100)"
           ],
           [
            0.6,
            "rgb(160,90,0)"
           ],
           [
            0.8,
            "rgb(230,200,0)"
           ],
           [
            1,
            "rgb(255,250,220)"
           ]
          ],
          "opacity": 0.8,
          "reversescale": true,
          "size": 8,
          "symbol": "circle"
         },
         "mode": "markers",
         "text": [
          173,
          63,
          10.913,
          27.3,
          20.9,
          2048,
          150.1,
          13.16,
          87.49,
          3.03,
          31.03,
          1.2,
          9.217,
          1000,
          2.4,
          0.5,
          16.4,
          45.21,
          1.4,
          2.55,
          33.8,
          1.1,
          8.1,
          52.4,
          197.2,
          101.4,
          4.4,
          12.976,
          579,
          69.9,
          9.49,
          102.79,
          1.58,
          0.45,
          3879,
          5100,
          3.26,
          16300,
          3.49,
          0.54,
          17.54,
          4.6,
          613,
          48.2,
          8.6,
          24.2,
          0.74,
          8.3,
          7500,
          26.7,
          13600,
          34.1,
          45,
          56.82,
          1.59,
          8.4,
          7.3,
          1.7,
          2.09,
          74,
          495.4,
          89.6,
          420,
          849,
          208,
          8300,
          228,
          2.98,
          53.8,
          55.9,
          73,
          53,
          0.9,
          1230.8,
          587.7,
          8725,
          17.5,
          112.86,
          8.9,
          779.6,
          2250,
          3.8,
          188,
          37.1,
          86.1,
          68.4,
          3.54,
          244,
          9.97,
          12.31,
          18.7,
          78.8,
          18.2,
          4100,
          815,
          1095,
          254,
          9.2,
          31.9,
          1.48,
          165.8,
          406,
          35.8,
          86.63,
          1563.1,
          185.4,
          127.1,
          0.51,
          15.5,
          85,
          308,
          3.5,
          10175,
          11.1,
          5.9,
          3.19,
          0.56,
          30,
          11.09,
          11.9,
          29.42,
          27.8,
          92.7,
          78.36,
          111,
          62.4,
          4.7,
          144,
          23.7,
          215,
          4.93,
          500,
          1149,
          4.1,
          2.4,
          34.3,
          9.8,
          580,
          23,
          0.46,
          14.633,
          3.4,
          54,
          292.26,
          1.3,
          37.8,
          38.99,
          58.6,
          12.7,
          4.22,
          25.6,
          45.4,
          4.9,
          39.7,
          14.2,
          336,
          72.4,
          130.3,
          392.9,
          1006,
          8.14,
          10.86,
          12000,
          6.3,
          426,
          48.1,
          259,
          10.36,
          6175,
          1.33,
          4.37,
          187.5,
          27000,
          50000,
          20,
          9.5,
          1806,
          1443,
          1.22,
          1624,
          14.03,
          45000,
          5.86,
          87.7,
          2700,
          20.5,
          80.48,
          6.45,
          624,
          10.9,
          157.8,
          1788,
          2.5,
          1798.9,
          152,
          71000,
          170,
          9.13,
          5,
          4.2
         ],
         "type": "scattergeo"
        }
       ],
       "layout": {
        "autosize": true,
        "geo": {
         "lakecolor": "black",
         "landcolor": "lightgrey",
         "oceancolor": "lightblue",
         "projection": {
          "type": "orthographic"
         },
         "rivercolor": "pink",
         "scope": "world",
         "showlakes": true,
         "showland": true,
         "showocean": true,
         "showrivers": true
        },
        "template": {
         "data": {
          "bar": [
           {
            "error_x": {
             "color": "#2a3f5f"
            },
            "error_y": {
             "color": "#2a3f5f"
            },
            "marker": {
             "line": {
              "color": "#E5ECF6",
              "width": 0.5
             },
             "pattern": {
              "fillmode": "overlay",
              "size": 10,
              "solidity": 0.2
             }
            },
            "type": "bar"
           }
          ],
          "barpolar": [
           {
            "marker": {
             "line": {
              "color": "#E5ECF6",
              "width": 0.5
             },
             "pattern": {
              "fillmode": "overlay",
              "size": 10,
              "solidity": 0.2
             }
            },
            "type": "barpolar"
           }
          ],
          "carpet": [
           {
            "aaxis": {
             "endlinecolor": "#2a3f5f",
             "gridcolor": "white",
             "linecolor": "white",
             "minorgridcolor": "white",
             "startlinecolor": "#2a3f5f"
            },
            "baxis": {
             "endlinecolor": "#2a3f5f",
             "gridcolor": "white",
             "linecolor": "white",
             "minorgridcolor": "white",
             "startlinecolor": "#2a3f5f"
            },
            "type": "carpet"
           }
          ],
          "choropleth": [
           {
            "colorbar": {
             "outlinewidth": 0,
             "ticks": ""
            },
            "type": "choropleth"
           }
          ],
          "contour": [
           {
            "colorbar": {
             "outlinewidth": 0,
             "ticks": ""
            },
            "colorscale": [
             [
              0,
              "#0d0887"
             ],
             [
              0.1111111111111111,
              "#46039f"
             ],
             [
              0.2222222222222222,
              "#7201a8"
             ],
             [
              0.3333333333333333,
              "#9c179e"
             ],
             [
              0.4444444444444444,
              "#bd3786"
             ],
             [
              0.5555555555555556,
              "#d8576b"
             ],
             [
              0.6666666666666666,
              "#ed7953"
             ],
             [
              0.7777777777777778,
              "#fb9f3a"
             ],
             [
              0.8888888888888888,
              "#fdca26"
             ],
             [
              1,
              "#f0f921"
             ]
            ],
            "type": "contour"
           }
          ],
          "contourcarpet": [
           {
            "colorbar": {
             "outlinewidth": 0,
             "ticks": ""
            },
            "type": "contourcarpet"
           }
          ],
          "heatmap": [
           {
            "colorbar": {
             "outlinewidth": 0,
             "ticks": ""
            },
            "colorscale": [
             [
              0,
              "#0d0887"
             ],
             [
              0.1111111111111111,
              "#46039f"
             ],
             [
              0.2222222222222222,
              "#7201a8"
             ],
             [
              0.3333333333333333,
              "#9c179e"
             ],
             [
              0.4444444444444444,
              "#bd3786"
             ],
             [
              0.5555555555555556,
              "#d8576b"
             ],
             [
              0.6666666666666666,
              "#ed7953"
             ],
             [
              0.7777777777777778,
              "#fb9f3a"
             ],
             [
              0.8888888888888888,
              "#fdca26"
             ],
             [
              1,
              "#f0f921"
             ]
            ],
            "type": "heatmap"
           }
          ],
          "heatmapgl": [
           {
            "colorbar": {
             "outlinewidth": 0,
             "ticks": ""
            },
            "colorscale": [
             [
              0,
              "#0d0887"
             ],
             [
              0.1111111111111111,
              "#46039f"
             ],
             [
              0.2222222222222222,
              "#7201a8"
             ],
             [
              0.3333333333333333,
              "#9c179e"
             ],
             [
              0.4444444444444444,
              "#bd3786"
             ],
             [
              0.5555555555555556,
              "#d8576b"
             ],
             [
              0.6666666666666666,
              "#ed7953"
             ],
             [
              0.7777777777777778,
              "#fb9f3a"
             ],
             [
              0.8888888888888888,
              "#fdca26"
             ],
             [
              1,
              "#f0f921"
             ]
            ],
            "type": "heatmapgl"
           }
          ],
          "histogram": [
           {
            "marker": {
             "pattern": {
              "fillmode": "overlay",
              "size": 10,
              "solidity": 0.2
             }
            },
            "type": "histogram"
           }
          ],
          "histogram2d": [
           {
            "colorbar": {
             "outlinewidth": 0,
             "ticks": ""
            },
            "colorscale": [
             [
              0,
              "#0d0887"
             ],
             [
              0.1111111111111111,
              "#46039f"
             ],
             [
              0.2222222222222222,
              "#7201a8"
             ],
             [
              0.3333333333333333,
              "#9c179e"
             ],
             [
              0.4444444444444444,
              "#bd3786"
             ],
             [
              0.5555555555555556,
              "#d8576b"
             ],
             [
              0.6666666666666666,
              "#ed7953"
             ],
             [
              0.7777777777777778,
              "#fb9f3a"
             ],
             [
              0.8888888888888888,
              "#fdca26"
             ],
             [
              1,
              "#f0f921"
             ]
            ],
            "type": "histogram2d"
           }
          ],
          "histogram2dcontour": [
           {
            "colorbar": {
             "outlinewidth": 0,
             "ticks": ""
            },
            "colorscale": [
             [
              0,
              "#0d0887"
             ],
             [
              0.1111111111111111,
              "#46039f"
             ],
             [
              0.2222222222222222,
              "#7201a8"
             ],
             [
              0.3333333333333333,
              "#9c179e"
             ],
             [
              0.4444444444444444,
              "#bd3786"
             ],
             [
              0.5555555555555556,
              "#d8576b"
             ],
             [
              0.6666666666666666,
              "#ed7953"
             ],
             [
              0.7777777777777778,
              "#fb9f3a"
             ],
             [
              0.8888888888888888,
              "#fdca26"
             ],
             [
              1,
              "#f0f921"
             ]
            ],
            "type": "histogram2dcontour"
           }
          ],
          "mesh3d": [
           {
            "colorbar": {
             "outlinewidth": 0,
             "ticks": ""
            },
            "type": "mesh3d"
           }
          ],
          "parcoords": [
           {
            "line": {
             "colorbar": {
              "outlinewidth": 0,
              "ticks": ""
             }
            },
            "type": "parcoords"
           }
          ],
          "pie": [
           {
            "automargin": true,
            "type": "pie"
           }
          ],
          "scatter": [
           {
            "fillpattern": {
             "fillmode": "overlay",
             "size": 10,
             "solidity": 0.2
            },
            "type": "scatter"
           }
          ],
          "scatter3d": [
           {
            "line": {
             "colorbar": {
              "outlinewidth": 0,
              "ticks": ""
             }
            },
            "marker": {
             "colorbar": {
              "outlinewidth": 0,
              "ticks": ""
             }
            },
            "type": "scatter3d"
           }
          ],
          "scattercarpet": [
           {
            "marker": {
             "colorbar": {
              "outlinewidth": 0,
              "ticks": ""
             }
            },
            "type": "scattercarpet"
           }
          ],
          "scattergeo": [
           {
            "marker": {
             "colorbar": {
              "outlinewidth": 0,
              "ticks": ""
             }
            },
            "type": "scattergeo"
           }
          ],
          "scattergl": [
           {
            "marker": {
             "colorbar": {
              "outlinewidth": 0,
              "ticks": ""
             }
            },
            "type": "scattergl"
           }
          ],
          "scattermapbox": [
           {
            "marker": {
             "colorbar": {
              "outlinewidth": 0,
              "ticks": ""
             }
            },
            "type": "scattermapbox"
           }
          ],
          "scatterpolar": [
           {
            "marker": {
             "colorbar": {
              "outlinewidth": 0,
              "ticks": ""
             }
            },
            "type": "scatterpolar"
           }
          ],
          "scatterpolargl": [
           {
            "marker": {
             "colorbar": {
              "outlinewidth": 0,
              "ticks": ""
             }
            },
            "type": "scatterpolargl"
           }
          ],
          "scatterternary": [
           {
            "marker": {
             "colorbar": {
              "outlinewidth": 0,
              "ticks": ""
             }
            },
            "type": "scatterternary"
           }
          ],
          "surface": [
           {
            "colorbar": {
             "outlinewidth": 0,
             "ticks": ""
            },
            "colorscale": [
             [
              0,
              "#0d0887"
             ],
             [
              0.1111111111111111,
              "#46039f"
             ],
             [
              0.2222222222222222,
              "#7201a8"
             ],
             [
              0.3333333333333333,
              "#9c179e"
             ],
             [
              0.4444444444444444,
              "#bd3786"
             ],
             [
              0.5555555555555556,
              "#d8576b"
             ],
             [
              0.6666666666666666,
              "#ed7953"
             ],
             [
              0.7777777777777778,
              "#fb9f3a"
             ],
             [
              0.8888888888888888,
              "#fdca26"
             ],
             [
              1,
              "#f0f921"
             ]
            ],
            "type": "surface"
           }
          ],
          "table": [
           {
            "cells": {
             "fill": {
              "color": "#EBF0F8"
             },
             "line": {
              "color": "white"
             }
            },
            "header": {
             "fill": {
              "color": "#C8D4E3"
             },
             "line": {
              "color": "white"
             }
            },
            "type": "table"
           }
          ]
         },
         "layout": {
          "annotationdefaults": {
           "arrowcolor": "#2a3f5f",
           "arrowhead": 0,
           "arrowwidth": 1
          },
          "autotypenumbers": "strict",
          "coloraxis": {
           "colorbar": {
            "outlinewidth": 0,
            "ticks": ""
           }
          },
          "colorscale": {
           "diverging": [
            [
             0,
             "#8e0152"
            ],
            [
             0.1,
             "#c51b7d"
            ],
            [
             0.2,
             "#de77ae"
            ],
            [
             0.3,
             "#f1b6da"
            ],
            [
             0.4,
             "#fde0ef"
            ],
            [
             0.5,
             "#f7f7f7"
            ],
            [
             0.6,
             "#e6f5d0"
            ],
            [
             0.7,
             "#b8e186"
            ],
            [
             0.8,
             "#7fbc41"
            ],
            [
             0.9,
             "#4d9221"
            ],
            [
             1,
             "#276419"
            ]
           ],
           "sequential": [
            [
             0,
             "#0d0887"
            ],
            [
             0.1111111111111111,
             "#46039f"
            ],
            [
             0.2222222222222222,
             "#7201a8"
            ],
            [
             0.3333333333333333,
             "#9c179e"
            ],
            [
             0.4444444444444444,
             "#bd3786"
            ],
            [
             0.5555555555555556,
             "#d8576b"
            ],
            [
             0.6666666666666666,
             "#ed7953"
            ],
            [
             0.7777777777777778,
             "#fb9f3a"
            ],
            [
             0.8888888888888888,
             "#fdca26"
            ],
            [
             1,
             "#f0f921"
            ]
           ],
           "sequentialminus": [
            [
             0,
             "#0d0887"
            ],
            [
             0.1111111111111111,
             "#46039f"
            ],
            [
             0.2222222222222222,
             "#7201a8"
            ],
            [
             0.3333333333333333,
             "#9c179e"
            ],
            [
             0.4444444444444444,
             "#bd3786"
            ],
            [
             0.5555555555555556,
             "#d8576b"
            ],
            [
             0.6666666666666666,
             "#ed7953"
            ],
            [
             0.7777777777777778,
             "#fb9f3a"
            ],
            [
             0.8888888888888888,
             "#fdca26"
            ],
            [
             1,
             "#f0f921"
            ]
           ]
          },
          "colorway": [
           "#636efa",
           "#EF553B",
           "#00cc96",
           "#ab63fa",
           "#FFA15A",
           "#19d3f3",
           "#FF6692",
           "#B6E880",
           "#FF97FF",
           "#FECB52"
          ],
          "font": {
           "color": "#2a3f5f"
          },
          "geo": {
           "bgcolor": "white",
           "lakecolor": "white",
           "landcolor": "#E5ECF6",
           "showlakes": true,
           "showland": true,
           "subunitcolor": "white"
          },
          "hoverlabel": {
           "align": "left"
          },
          "hovermode": "closest",
          "mapbox": {
           "style": "light"
          },
          "paper_bgcolor": "white",
          "plot_bgcolor": "#E5ECF6",
          "polar": {
           "angularaxis": {
            "gridcolor": "white",
            "linecolor": "white",
            "ticks": ""
           },
           "bgcolor": "#E5ECF6",
           "radialaxis": {
            "gridcolor": "white",
            "linecolor": "white",
            "ticks": ""
           }
          },
          "scene": {
           "xaxis": {
            "backgroundcolor": "#E5ECF6",
            "gridcolor": "white",
            "gridwidth": 2,
            "linecolor": "white",
            "showbackground": true,
            "ticks": "",
            "zerolinecolor": "white"
           },
           "yaxis": {
            "backgroundcolor": "#E5ECF6",
            "gridcolor": "white",
            "gridwidth": 2,
            "linecolor": "white",
            "showbackground": true,
            "ticks": "",
            "zerolinecolor": "white"
           },
           "zaxis": {
            "backgroundcolor": "#E5ECF6",
            "gridcolor": "white",
            "gridwidth": 2,
            "linecolor": "white",
            "showbackground": true,
            "ticks": "",
            "zerolinecolor": "white"
           }
          },
          "shapedefaults": {
           "line": {
            "color": "#2a3f5f"
           }
          },
          "ternary": {
           "aaxis": {
            "gridcolor": "white",
            "linecolor": "white",
            "ticks": ""
           },
           "baxis": {
            "gridcolor": "white",
            "linecolor": "white",
            "ticks": ""
           },
           "bgcolor": "#E5ECF6",
           "caxis": {
            "gridcolor": "white",
            "linecolor": "white",
            "ticks": ""
           }
          },
          "title": {
           "x": 0.05
          },
          "xaxis": {
           "automargin": true,
           "gridcolor": "white",
           "linecolor": "white",
           "ticks": "",
           "title": {
            "standoff": 15
           },
           "zerolinecolor": "white",
           "zerolinewidth": 2
          },
          "yaxis": {
           "automargin": true,
           "gridcolor": "white",
           "linecolor": "white",
           "ticks": "",
           "title": {
            "standoff": 15
           },
           "zerolinecolor": "white",
           "zerolinewidth": 2
          }
         }
        },
        "title": {
         "text": "Meteorite_Landings"
        }
       }
      },
      "image/png": "[encoded data removed]",
      "text/html": [
       "<div>                            <div id=\"26080cf7-d723-4fe0-b3ba-c8909aab1779\" class=\"plotly-graph-div\" style=\"height:525px; width:100%;\"></div>            <script type=\"text/javascript\">                require([\"plotly\"], function(Plotly) {                    window.PLOTLYENV=window.PLOTLYENV || {};                                    if (document.getElementById(\"26080cf7-d723-4fe0-b3ba-c8909aab1779\")) {                    Plotly.newPlot(                        \"26080cf7-d723-4fe0-b3ba-c8909aab1779\",                        [{\"lat\":[null,null,null,-84.0,-76.28535,-71.5,-86.51027,null,-72.0,-71.5,-71.5,-84.27378,null,34.2,-84.357,-84.0,-84.0,-72.0,-84.0,-72.77917,-80.25,null,-85.691,-84.0,null,null,-76.71667,null,null,-71.82806,0.0,0.0,-72.99889,-72.7769,20.5052,36.21667,-72.76944,33.01667,-86.36667,-71.5,-86.36667,-30.99311,20.60837,-72.95488,-76.31222,-71.5,-72.95222,0.0,null,null,35.71667,-86.45,null,-71.5,-71.5,-76.18333,0.0,0.0,-71.5,18.90573,null,-84.0,27.71667,18.741611,19.14611,48.45,-25.23333,-71.5,-85.66787,null,18.70115,33.275,null,-76.27512,-86.52222,-76.77389,-76.18333,0.0,-84.25231,-76.71667,null,-84.0,null,-85.68006,-84.0,-76.28565,-71.5,27.17717,-71.5,-72.95108,-79.68333,-79.68333,-84.25909,38.85,0.0,18.67917,null,-84.28986,-84.0,-71.5,null,null,null,0.0,-86.36667,null,0.0,-72.99889,-84.0,27.2265,null,-72.95457,18.50755,-84.25499,-84.27385,-71.5,-72.7775,55.7,0.0,-84.0,-71.5,-76.68944,-85.65807,21.37107,-24.85,-84.27639,0.0,18.625,-76.31028,-85.68404,0.0,37.5,20.35833,0.0,0.0,0.0,0.0,0.0,null,-72.9822,null,0.0,27.03333,-71.5,-84.0,-84.0,-79.68333,-76.18333,null,-72.77889,-84.0,null,-84.0,-76.2858,-76.27972,-72.77472,-86.56667,0.0,-76.18333,null,-71.5,-71.5,23.98611,-76.7574,19.190417,0.0,0.0,-72.0,-71.5,-72.998889,-72.77306,20.41437,null,39.33333,0.0,-84.24623,18.7247,-31.53333,-71.5,null,-71.5,33.03333,0.0,null,37.28333,-84.27985,20.7827,-72.77944,18.59083,-79.68333,-77.01706,null,-84.0,19.97933,null,-25.65,40.26667,-71.5,-84.0,0.0],\"lon\":[null,null,null,168.0,156.44404,35.66667,-122.9522,null,26.0,35.66667,35.66667,161.68545,null,-86.48333,161.36443,168.0,168.0,26.0,168.0,75.31056,153.5,null,-68.96836,168.0,null,null,159.66667,null,null,36.20556,0.0,0.0,75.18722,75.3264,56.48438,-103.4,75.3375,-83.96667,-70.0,35.66667,-70.0,131.33253,57.16007,160.47328,157.39528,35.66667,160.50161,0.0,null,null,-81.86667,-165.43333,null,35.66667,35.66667,157.16667,0.0,0.0,35.66667,54.50885,null,168.0,4.13333,54.26175,54.40111,3.93333,-69.71667,35.66667,-68.25751,null,54.36907,-102.96,null,156.36181,-123.79341,159.275,157.16667,0.0,161.45413,159.66667,null,168.0,null,-68.68107,168.0,156.48143,35.66667,16.26683,35.66667,160.51425,159.75,159.75,161.41026,-96.58333,0.0,54.58783,null,161.28593,168.0,35.66667,null,null,null,0.0,-70.0,null,0.0,75.18722,168.0,-9.74117,null,160.50374,53.99325,161.40492,161.68603,35.66667,75.334167,24.4,0.0,168.0,35.66667,159.36889,-68.17227,58.41415,-70.53333,161.34562,0.0,54.43,157.1975,-68.87777,0.0,-79.75,11.85,0.0,0.0,0.0,0.0,0.0,null,75.2489,null,0.0,16.35,35.66667,168.0,168.0,155.75,157.16667,null,75.31111,168.0,null,168.0,156.46845,156.47219,75.32361,-165.11667,0.0,157.16667,null,35.66667,35.66667,32.62361,158.90775,54.957194,0.0,0.0,26.0,35.66667,75.187222,75.33806,57.06578,null,-98.16667,0.0,161.41018,54.39503,127.01667,35.66667,null,35.66667,-102.33333,0.0,null,-102.2,161.34894,55.42668,75.27,54.543,159.75,156.96282,null,168.0,55.95507,null,114.21667,-118.93333,35.66667,168.0,0.0],\"marker\":{\"autocolorscale\":false,\"color\":[173.0,63.0,10.913,27.3,20.9,2048.0,150.1,13.16,87.49,3.03,31.03,1.2,9.217,1000.0,2.4,0.5,16.4,45.21,1.4,2.55,33.8,1.1,8.1,52.4,197.2,101.4,4.4,12.976,579.0,69.9,9.49,102.79,1.58,0.45,3879.0,5100.0,3.26,16300.0,3.49,0.54,17.54,4.6,613.0,48.2,8.6,24.2,0.74,8.3,7500.0,26.7,13600.0,34.1,45.0,56.82,1.59,8.4,7.3,1.7,2.09,74.0,495.4,89.6,420.0,849.0,208.0,8300.0,228.0,2.98,53.8,55.9,73.0,53.0,0.9,1230.8,587.7,8725.0,17.5,112.86,8.9,779.6,2250.0,3.8,188.0,37.1,86.1,68.4,3.54,244.0,9.97,12.31,18.7,78.8,18.2,4100.0,815.0,1095.0,254.0,9.2,31.9,1.48,165.8,406.0,35.8,86.63,1563.1,185.4,127.1,0.51,15.5,85.0,308.0,3.5,10175.0,11.1,5.9,3.19,0.56,30.0,11.09,11.9,29.42,27.8,92.7,78.36,111.0,62.4,4.7,144.0,23.7,215.0,4.93,500.0,1149.0,4.1,2.4,34.3,9.8,580.0,23.0,0.46,14.633,3.4,54.0,292.26,1.3,37.8,38.99,58.6,12.7,4.22,25.6,45.4,4.9,39.7,14.2,336.0,72.4,130.3,392.9,1006.0,8.14,10.86,12000.0,6.3,426.0,48.1,259.0,10.36,6175.0,1.33,4.37,187.5,27000.0,50000.0,20.0,9.5,1806.0,1443.0,1.22,1624.0,14.03,45000.0,5.86,87.7,2700.0,20.5,80.48,6.45,624.0,10.9,157.8,1788.0,2.5,1798.9,152.0,71000.0,170.0,9.13,5.0,4.2],\"colorbar\":{\"title\":{\"text\":\"Meteorite Mass (g)\"}},\"colorscale\":[[0.0,\"rgb(0,0,0)\"],[0.2,\"rgb(30,0,100)\"],[0.4,\"rgb(120,0,100)\"],[0.6,\"rgb(160,90,0)\"],[0.8,\"rgb(230,200,0)\"],[1.0,\"rgb(255,250,220)\"]],\"opacity\":0.8,\"reversescale\":true,\"size\":8,\"symbol\":\"circle\"},\"mode\":\"markers\",\"text\":[173.0,63.0,10.913,27.3,20.9,2048.0,150.1,13.16,87.49,3.03,31.03,1.2,9.217,1000.0,2.4,0.5,16.4,45.21,1.4,2.55,33.8,1.1,8.1,52.4,197.2,101.4,4.4,12.976,579.0,69.9,9.49,102.79,1.58,0.45,3879.0,5100.0,3.26,16300.0,3.49,0.54,17.54,4.6,613.0,48.2,8.6,24.2,0.74,8.3,7500.0,26.7,13600.0,34.1,45.0,56.82,1.59,8.4,7.3,1.7,2.09,74.0,495.4,89.6,420.0,849.0,208.0,8300.0,228.0,2.98,53.8,55.9,73.0,53.0,0.9,1230.8,587.7,8725.0,17.5,112.86,8.9,779.6,2250.0,3.8,188.0,37.1,86.1,68.4,3.54,244.0,9.97,12.31,18.7,78.8,18.2,4100.0,815.0,1095.0,254.0,9.2,31.9,1.48,165.8,406.0,35.8,86.63,1563.1,185.4,127.1,0.51,15.5,85.0,308.0,3.5,10175.0,11.1,5.9,3.19,0.56,30.0,11.09,11.9,29.42,27.8,92.7,78.36,111.0,62.4,4.7,144.0,23.7,215.0,4.93,500.0,1149.0,4.1,2.4,34.3,9.8,580.0,23.0,0.46,14.633,3.4,54.0,292.26,1.3,37.8,38.99,58.6,12.7,4.22,25.6,45.4,4.9,39.7,14.2,336.0,72.4,130.3,392.9,1006.0,8.14,10.86,12000.0,6.3,426.0,48.1,259.0,10.36,6175.0,1.33,4.37,187.5,27000.0,50000.0,20.0,9.5,1806.0,1443.0,1.22,1624.0,14.03,45000.0,5.86,87.7,2700.0,20.5,80.48,6.45,624.0,10.9,157.8,1788.0,2.5,1798.9,152.0,71000.0,170.0,9.13,5.0,4.2],\"type\":\"scattergeo\"}],                        {\"template\":{\"data\":{\"histogram2dcontour\":[{\"type\":\"histogram2dcontour\",\"colorbar\":{\"outlinewidth\":0,\"ticks\":\"\"},\"colorscale\":[[0.0,\"#0d0887\"],[0.1111111111111111,\"#46039f\"],[0.2222222222222222,\"#7201a8\"],[0.3333333333333333,\"#9c179e\"],[0.4444444444444444,\"#bd3786\"],[0.5555555555555556,\"#d8576b\"],[0.6666666666666666,\"#ed7953\"],[0.7777777777777778,\"#fb9f3a\"],[0.8888888888888888,\"#fdca26\"],[1.0,\"#f0f921\"]]}],\"choropleth\":[{\"type\":\"choropleth\",\"colorbar\":{\"outlinewidth\":0,\"ticks\":\"\"}}],\"histogram2d\":[{\"type\":\"histogram2d\",\"colorbar\":{\"outlinewidth\":0,\"ticks\":\"\"},\"colorscale\":[[0.0,\"#0d0887\"],[0.1111111111111111,\"#46039f\"],[0.2222222222222222,\"#7201a8\"],[0.3333333333333333,\"#9c179e\"],[0.4444444444444444,\"#bd3786\"],[0.5555555555555556,\"#d8576b\"],[0.6666666666666666,\"#ed7953\"],[0.7777777777777778,\"#fb9f3a\"],[0.8888888888888888,\"#fdca26\"],[1.0,\"#f0f921\"]]}],\"heatmap\":[{\"type\":\"heatmap\",\"colorbar\":{\"outlinewidth\":0,\"ticks\":\"\"},\"colorscale\":[[0.0,\"#0d0887\"],[0.1111111111111111,\"#46039f\"],[0.2222222222222222,\"#7201a8\"],[0.3333333333333333,\"#9c179e\"],[0.4444444444444444,\"#bd3786\"],[0.5555555555555556,\"#d8576b\"],[0.6666666666666666,\"#ed7953\"],[0.7777777777777778,\"#fb9f3a\"],[0.8888888888888888,\"#fdca26\"],[1.0,\"#f0f921\"]]}],\"heatmapgl\":[{\"type\":\"heatmapgl\",\"colorbar\":{\"outlinewidth\":0,\"ticks\":\"\"},\"colorscale\":[[0.0,\"#0d0887\"],[0.1111111111111111,\"#46039f\"],[0.2222222222222222,\"#7201a8\"],[0.3333333333333333,\"#9c179e\"],[0.4444444444444444,\"#bd3786\"],[0.5555555555555556,\"#d8576b\"],[0.6666666666666666,\"#ed7953\"],[0.7777777777777778,\"#fb9f3a\"],[0.8888888888888888,\"#fdca26\"],[1.0,\"#f0f921\"]]}],\"contourcarpet\":[{\"type\":\"contourcarpet\",\"colorbar\":{\"outlinewidth\":0,\"ticks\":\"\"}}],\"contour\":[{\"type\":\"contour\",\"colorbar\":{\"outlinewidth\":0,\"ticks\":\"\"},\"colorscale\":[[0.0,\"#0d0887\"],[0.1111111111111111,\"#46039f\"],[0.2222222222222222,\"#7201a8\"],[0.3333333333333333,\"#9c179e\"],[0.4444444444444444,\"#bd3786\"],[0.5555555555555556,\"#d8576b\"],[0.6666666666666666,\"#ed7953\"],[0.7777777777777778,\"#fb9f3a\"],[0.8888888888888888,\"#fdca26\"],[1.0,\"#f0f921\"]]}],\"surface\":[{\"type\":\"surface\",\"colorbar\":{\"outlinewidth\":0,\"ticks\":\"\"},\"colorscale\":[[0.0,\"#0d0887\"],[0.1111111111111111,\"#46039f\"],[0.2222222222222222,\"#7201a8\"],[0.3333333333333333,\"#9c179e\"],[0.4444444444444444,\"#bd3786\"],[0.5555555555555556,\"#d8576b\"],[0.6666666666666666,\"#ed7953\"],[0.7777777777777778,\"#fb9f3a\"],[0.8888888888888888,\"#fdca26\"],[1.0,\"#f0f921\"]]}],\"mesh3d\":[{\"type\":\"mesh3d\",\"colorbar\":{\"outlinewidth\":0,\"ticks\":\"\"}}],\"scatter\":[{\"fillpattern\":{\"fillmode\":\"overlay\",\"size\":10,\"solidity\":0.2},\"type\":\"scatter\"}],\"parcoords\":[{\"type\":\"parcoords\",\"line\":{\"colorbar\":{\"outlinewidth\":0,\"ticks\":\"\"}}}],\"scatterpolargl\":[{\"type\":\"scatterpolargl\",\"marker\":{\"colorbar\":{\"outlinewidth\":0,\"ticks\":\"\"}}}],\"bar\":[{\"error_x\":{\"color\":\"#2a3f5f\"},\"error_y\":{\"color\":\"#2a3f5f\"},\"marker\":{\"line\":{\"color\":\"#E5ECF6\",\"width\":0.5},\"pattern\":{\"fillmode\":\"overlay\",\"size\":10,\"solidity\":0.2}},\"type\":\"bar\"}],\"scattergeo\":[{\"type\":\"scattergeo\",\"marker\":{\"colorbar\":{\"outlinewidth\":0,\"ticks\":\"\"}}}],\"scatterpolar\":[{\"type\":\"scatterpolar\",\"marker\":{\"colorbar\":{\"outlinewidth\":0,\"ticks\":\"\"}}}],\"histogram\":[{\"marker\":{\"pattern\":{\"fillmode\":\"overlay\",\"size\":10,\"solidity\":0.2}},\"type\":\"histogram\"}],\"scattergl\":[{\"type\":\"scattergl\",\"marker\":{\"colorbar\":{\"outlinewidth\":0,\"ticks\":\"\"}}}],\"scatter3d\":[{\"type\":\"scatter3d\",\"line\":{\"colorbar\":{\"outlinewidth\":0,\"ticks\":\"\"}},\"marker\":{\"colorbar\":{\"outlinewidth\":0,\"ticks\":\"\"}}}],\"scattermapbox\":[{\"type\":\"scattermapbox\",\"marker\":{\"colorbar\":{\"outlinewidth\":0,\"ticks\":\"\"}}}],\"scatterternary\":[{\"type\":\"scatterternary\",\"marker\":{\"colorbar\":{\"outlinewidth\":0,\"ticks\":\"\"}}}],\"scattercarpet\":[{\"type\":\"scattercarpet\",\"marker\":{\"colorbar\":{\"outlinewidth\":0,\"ticks\":\"\"}}}],\"carpet\":[{\"aaxis\":{\"endlinecolor\":\"#2a3f5f\",\"gridcolor\":\"white\",\"linecolor\":\"white\",\"minorgridcolor\":\"white\",\"startlinecolor\":\"#2a3f5f\"},\"baxis\":{\"endlinecolor\":\"#2a3f5f\",\"gridcolor\":\"white\",\"linecolor\":\"white\",\"minorgridcolor\":\"white\",\"startlinecolor\":\"#2a3f5f\"},\"type\":\"carpet\"}],\"table\":[{\"cells\":{\"fill\":{\"color\":\"#EBF0F8\"},\"line\":{\"color\":\"white\"}},\"header\":{\"fill\":{\"color\":\"#C8D4E3\"},\"line\":{\"color\":\"white\"}},\"type\":\"table\"}],\"barpolar\":[{\"marker\":{\"line\":{\"color\":\"#E5ECF6\",\"width\":0.5},\"pattern\":{\"fillmode\":\"overlay\",\"size\":10,\"solidity\":0.2}},\"type\":\"barpolar\"}],\"pie\":[{\"automargin\":true,\"type\":\"pie\"}]},\"layout\":{\"autotypenumbers\":\"strict\",\"colorway\":[\"#636efa\",\"#EF553B\",\"#00cc96\",\"#ab63fa\",\"#FFA15A\",\"#19d3f3\",\"#FF6692\",\"#B6E880\",\"#FF97FF\",\"#FECB52\"],\"font\":{\"color\":\"#2a3f5f\"},\"hovermode\":\"closest\",\"hoverlabel\":{\"align\":\"left\"},\"paper_bgcolor\":\"white\",\"plot_bgcolor\":\"#E5ECF6\",\"polar\":{\"bgcolor\":\"#E5ECF6\",\"angularaxis\":{\"gridcolor\":\"white\",\"linecolor\":\"white\",\"ticks\":\"\"},\"radialaxis\":{\"gridcolor\":\"white\",\"linecolor\":\"white\",\"ticks\":\"\"}},\"ternary\":{\"bgcolor\":\"#E5ECF6\",\"aaxis\":{\"gridcolor\":\"white\",\"linecolor\":\"white\",\"ticks\":\"\"},\"baxis\":{\"gridcolor\":\"white\",\"linecolor\":\"white\",\"ticks\":\"\"},\"caxis\":{\"gridcolor\":\"white\",\"linecolor\":\"white\",\"ticks\":\"\"}},\"coloraxis\":{\"colorbar\":{\"outlinewidth\":0,\"ticks\":\"\"}},\"colorscale\":{\"sequential\":[[0.0,\"#0d0887\"],[0.1111111111111111,\"#46039f\"],[0.2222222222222222,\"#7201a8\"],[0.3333333333333333,\"#9c179e\"],[0.4444444444444444,\"#bd3786\"],[0.5555555555555556,\"#d8576b\"],[0.6666666666666666,\"#ed7953\"],[0.7777777777777778,\"#fb9f3a\"],[0.8888888888888888,\"#fdca26\"],[1.0,\"#f0f921\"]],\"sequentialminus\":[[0.0,\"#0d0887\"],[0.1111111111111111,\"#46039f\"],[0.2222222222222222,\"#7201a8\"],[0.3333333333333333,\"#9c179e\"],[0.4444444444444444,\"#bd3786\"],[0.5555555555555556,\"#d8576b\"],[0.6666666666666666,\"#ed7953\"],[0.7777777777777778,\"#fb9f3a\"],[0.8888888888888888,\"#fdca26\"],[1.0,\"#f0f921\"]],\"diverging\":[[0,\"#8e0152\"],[0.1,\"#c51b7d\"],[0.2,\"#de77ae\"],[0.3,\"#f1b6da\"],[0.4,\"#fde0ef\"],[0.5,\"#f7f7f7\"],[0.6,\"#e6f5d0\"],[0.7,\"#b8e186\"],[0.8,\"#7fbc41\"],[0.9,\"#4d9221\"],[1,\"#276419\"]]},\"xaxis\":{\"gridcolor\":\"white\",\"linecolor\":\"white\",\"ticks\":\"\",\"title\":{\"standoff\":15},\"zerolinecolor\":\"white\",\"automargin\":true,\"zerolinewidth\":2},\"yaxis\":{\"gridcolor\":\"white\",\"linecolor\":\"white\",\"ticks\":\"\",\"title\":{\"standoff\":15},\"zerolinecolor\":\"white\",\"automargin\":true,\"zerolinewidth\":2},\"scene\":{\"xaxis\":{\"backgroundcolor\":\"#E5ECF6\",\"gridcolor\":\"white\",\"linecolor\":\"white\",\"showbackground\":true,\"ticks\":\"\",\"zerolinecolor\":\"white\",\"gridwidth\":2},\"yaxis\":{\"backgroundcolor\":\"#E5ECF6\",\"gridcolor\":\"white\",\"linecolor\":\"white\",\"showbackground\":true,\"ticks\":\"\",\"zerolinecolor\":\"white\",\"gridwidth\":2},\"zaxis\":{\"backgroundcolor\":\"#E5ECF6\",\"gridcolor\":\"white\",\"linecolor\":\"white\",\"showbackground\":true,\"ticks\":\"\",\"zerolinecolor\":\"white\",\"gridwidth\":2}},\"shapedefaults\":{\"line\":{\"color\":\"#2a3f5f\"}},\"annotationdefaults\":{\"arrowcolor\":\"#2a3f5f\",\"arrowhead\":0,\"arrowwidth\":1},\"geo\":{\"bgcolor\":\"white\",\"landcolor\":\"#E5ECF6\",\"subunitcolor\":\"white\",\"showland\":true,\"showlakes\":true,\"lakecolor\":\"white\"},\"title\":{\"x\":0.05},\"mapbox\":{\"style\":\"light\"}}},\"geo\":{\"projection\":{\"type\":\"orthographic\"},\"showland\":true,\"landcolor\":\"lightgrey\",\"showocean\":true,\"oceancolor\":\"lightblue\",\"showlakes\":true,\"lakecolor\":\"black\",\"showrivers\":true,\"rivercolor\":\"pink\",\"scope\":\"world\"},\"title\":{\"text\":\"Meteorite_Landings\"}},                        {\"responsive\": true}                    ).then(function(){\n",
       "                            \n",
       "var gd = document.getElementById('26080cf7-d723-4fe0-b3ba-c8909aab1779');\n",
       "var x = new MutationObserver(function (mutations, observer) {{\n",
       "        var display = window.getComputedStyle(gd).display;\n",
       "        if (!display || display === 'none') {{\n",
       "            console.log([gd, 'removed!']);\n",
       "            Plotly.purge(gd);\n",
       "            observer.disconnect();\n",
       "        }}\n",
       "}});\n",
       "\n",
       "// Listen for the removal of the full notebook cells\n",
       "var notebookContainer = gd.closest('#notebook-container');\n",
       "if (notebookContainer) {{\n",
       "    x.observe(notebookContainer, {childList: true});\n",
       "}}\n",
       "\n",
       "// Listen for the clearing of the current output cell\n",
       "var outputEl = gd.closest('.output');\n",
       "if (outputEl) {{\n",
       "    x.observe(outputEl, {childList: true});\n",
       "}}\n",
       "\n",
       "                        })                };                });            </script>        </div>"
      ]
     },
     "metadata": {},
     "output_type": "display_data"
    }
   ],
   "source": [
    "fig4 = go.Figure(data=go.Scattergeo(\n",
    "    lon = df['reclong'],\n",
    "    lat = df['reclat'],\n",
    "    text = df['mass (g)'],\n",
    "    mode = 'markers',\n",
    "    marker = dict(\n",
    "        size = 8,\n",
    "        opacity = 0.8,\n",
    "        reversescale = True,\n",
    "        autocolorscale = False,\n",
    "        symbol = 'circle',\n",
    "        colorscale = 'electric',\n",
    "        color = df['mass (g)'],\n",
    "        colorbar = dict(\n",
    "            title=dict(\n",
    "                text = 'Meteorite Mass (g)'\n",
    "            )\n",
    "        )\n",
    "    )\n",
    "))\n",
    "\n",
    "fig4.update_geos(\n",
    "    projection_type = 'orthographic',\n",
    "    showland = True, landcolor = 'lightgrey',\n",
    "    showocean = True, oceancolor = 'lightblue',\n",
    "    showlakes= True, lakecolor = 'black',\n",
    "    showrivers = True, rivercolor = 'pink'\n",
    "\n",
    ")\n",
    "\n",
    "fig4.update_layout(\n",
    "    title = 'Meteorite_Landings',\n",
    "    geo_scope = 'world',\n",
    ")\n",
    "\n",
    "fig4.show()"
   ]
  },
  {
   "cell_type": "code",
   "execution_count": 26,
   "id": "fc7df29c-f254-4e70-b34a-c6bd75d2d906",
   "metadata": {},
   "outputs": [
    {
     "data": {
      "application/vnd.plotly.v1+json": {
       "config": {
        "plotlyServerURL": "https://plot.ly"
       },
       "data": [
        {
         "lat": [
          null,
          null,
          null,
          -84,
          -76.28535,
          -71.5,
          -86.51027,
          null,
          -72,
          -71.5,
          -71.5,
          -84.27378,
          null,
          34.2,
          -84.357,
          -84,
          -84,
          -72,
          -84,
          -72.77917,
          -80.25,
          null,
          -85.691,
          -84,
          null,
          null,
          -76.71667,
          null,
          null,
          -71.82806,
          0,
          0,
          -72.99889,
          -72.7769,
          20.5052,
          36.21667,
          -72.76944,
          33.01667,
          -86.36667,
          -71.5,
          -86.36667,
          -30.99311,
          20.60837,
          -72.95488,
          -76.31222,
          -71.5,
          -72.95222,
          0,
          null,
          null,
          35.71667,
          -86.45,
          null,
          -71.5,
          -71.5,
          -76.18333,
          0,
          0,
          -71.5,
          18.90573,
          null,
          -84,
          27.71667,
          18.741611,
          19.14611,
          48.45,
          -25.23333,
          -71.5,
          -85.66787,
          null,
          18.70115,
          33.275,
          null,
          -76.27512,
          -86.52222,
          -76.77389,
          -76.18333,
          0,
          -84.25231,
          -76.71667,
          null,
          -84,
          null,
          -85.68006,
          -84,
          -76.28565,
          -71.5,
          27.17717,
          -71.5,
          -72.95108,
          -79.68333,
          -79.68333,
          -84.25909,
          38.85,
          0,
          18.67917,
          null,
          -84.28986,
          -84,
          -71.5,
          null,
          null,
          null,
          0,
          -86.36667,
          null,
          0,
          -72.99889,
          -84,
          27.2265,
          null,
          -72.95457,
          18.50755,
          -84.25499,
          -84.27385,
          -71.5,
          -72.7775,
          55.7,
          0,
          -84,
          -71.5,
          -76.68944,
          -85.65807,
          21.37107,
          -24.85,
          -84.27639,
          0,
          18.625,
          -76.31028,
          -85.68404,
          0,
          37.5,
          20.35833,
          0,
          0,
          0,
          0,
          0,
          null,
          -72.9822,
          null,
          0,
          27.03333,
          -71.5,
          -84,
          -84,
          -79.68333,
          -76.18333,
          null,
          -72.77889,
          -84,
          null,
          -84,
          -76.2858,
          -76.27972,
          -72.77472,
          -86.56667,
          0,
          -76.18333,
          null,
          -71.5,
          -71.5,
          23.98611,
          -76.7574,
          19.190417,
          0,
          0,
          -72,
          -71.5,
          -72.998889,
          -72.77306,
          20.41437,
          null,
          39.33333,
          0,
          -84.24623,
          18.7247,
          -31.53333,
          -71.5,
          null,
          -71.5,
          33.03333,
          0,
          null,
          37.28333,
          -84.27985,
          20.7827,
          -72.77944,
          18.59083,
          -79.68333,
          -77.01706,
          null,
          -84,
          19.97933,
          null,
          -25.65,
          40.26667,
          -71.5,
          -84,
          0
         ],
         "lon": [
          null,
          null,
          null,
          168,
          156.44404,
          35.66667,
          -122.9522,
          null,
          26,
          35.66667,
          35.66667,
          161.68545,
          null,
          -86.48333,
          161.36443,
          168,
          168,
          26,
          168,
          75.31056,
          153.5,
          null,
          -68.96836,
          168,
          null,
          null,
          159.66667,
          null,
          null,
          36.20556,
          0,
          0,
          75.18722,
          75.3264,
          56.48438,
          -103.4,
          75.3375,
          -83.96667,
          -70,
          35.66667,
          -70,
          131.33253,
          57.16007,
          160.47328,
          157.39528,
          35.66667,
          160.50161,
          0,
          null,
          null,
          -81.86667,
          -165.43333,
          null,
          35.66667,
          35.66667,
          157.16667,
          0,
          0,
          35.66667,
          54.50885,
          null,
          168,
          4.13333,
          54.26175,
          54.40111,
          3.93333,
          -69.71667,
          35.66667,
          -68.25751,
          null,
          54.36907,
          -102.96,
          null,
          156.36181,
          -123.79341,
          159.275,
          157.16667,
          0,
          161.45413,
          159.66667,
          null,
          168,
          null,
          -68.68107,
          168,
          156.48143,
          35.66667,
          16.26683,
          35.66667,
          160.51425,
          159.75,
          159.75,
          161.41026,
          -96.58333,
          0,
          54.58783,
          null,
          161.28593,
          168,
          35.66667,
          null,
          null,
          null,
          0,
          -70,
          null,
          0,
          75.18722,
          168,
          -9.74117,
          null,
          160.50374,
          53.99325,
          161.40492,
          161.68603,
          35.66667,
          75.334167,
          24.4,
          0,
          168,
          35.66667,
          159.36889,
          -68.17227,
          58.41415,
          -70.53333,
          161.34562,
          0,
          54.43,
          157.1975,
          -68.87777,
          0,
          -79.75,
          11.85,
          0,
          0,
          0,
          0,
          0,
          null,
          75.2489,
          null,
          0,
          16.35,
          35.66667,
          168,
          168,
          155.75,
          157.16667,
          null,
          75.31111,
          168,
          null,
          168,
          156.46845,
          156.47219,
          75.32361,
          -165.11667,
          0,
          157.16667,
          null,
          35.66667,
          35.66667,
          32.62361,
          158.90775,
          54.957194,
          0,
          0,
          26,
          35.66667,
          75.187222,
          75.33806,
          57.06578,
          null,
          -98.16667,
          0,
          161.41018,
          54.39503,
          127.01667,
          35.66667,
          null,
          35.66667,
          -102.33333,
          0,
          null,
          -102.2,
          161.34894,
          55.42668,
          75.27,
          54.543,
          159.75,
          156.96282,
          null,
          168,
          55.95507,
          null,
          114.21667,
          -118.93333,
          35.66667,
          168,
          0
         ],
         "marker": {
          "autocolorscale": false,
          "color": [
           173,
           63,
           10.913,
           27.3,
           20.9,
           2048,
           150.1,
           13.16,
           87.49,
           3.03,
           31.03,
           1.2,
           9.217,
           1000,
           2.4,
           0.5,
           16.4,
           45.21,
           1.4,
           2.55,
           33.8,
           1.1,
           8.1,
           52.4,
           197.2,
           101.4,
           4.4,
           12.976,
           579,
           69.9,
           9.49,
           102.79,
           1.58,
           0.45,
           3879,
           5100,
           3.26,
           16300,
           3.49,
           0.54,
           17.54,
           4.6,
           613,
           48.2,
           8.6,
           24.2,
           0.74,
           8.3,
           7500,
           26.7,
           13600,
           34.1,
           45,
           56.82,
           1.59,
           8.4,
           7.3,
           1.7,
           2.09,
           74,
           495.4,
           89.6,
           420,
           849,
           208,
           8300,
           228,
           2.98,
           53.8,
           55.9,
           73,
           53,
           0.9,
           1230.8,
           587.7,
           8725,
           17.5,
           112.86,
           8.9,
           779.6,
           2250,
           3.8,
           188,
           37.1,
           86.1,
           68.4,
           3.54,
           244,
           9.97,
           12.31,
           18.7,
           78.8,
           18.2,
           4100,
           815,
           1095,
           254,
           9.2,
           31.9,
           1.48,
           165.8,
           406,
           35.8,
           86.63,
           1563.1,
           185.4,
           127.1,
           0.51,
           15.5,
           85,
           308,
           3.5,
           10175,
           11.1,
           5.9,
           3.19,
           0.56,
           30,
           11.09,
           11.9,
           29.42,
           27.8,
           92.7,
           78.36,
           111,
           62.4,
           4.7,
           144,
           23.7,
           215,
           4.93,
           500,
           1149,
           4.1,
           2.4,
           34.3,
           9.8,
           580,
           23,
           0.46,
           14.633,
           3.4,
           54,
           292.26,
           1.3,
           37.8,
           38.99,
           58.6,
           12.7,
           4.22,
           25.6,
           45.4,
           4.9,
           39.7,
           14.2,
           336,
           72.4,
           130.3,
           392.9,
           1006,
           8.14,
           10.86,
           12000,
           6.3,
           426,
           48.1,
           259,
           10.36,
           6175,
           1.33,
           4.37,
           187.5,
           27000,
           50000,
           20,
           9.5,
           1806,
           1443,
           1.22,
           1624,
           14.03,
           45000,
           5.86,
           87.7,
           2700,
           20.5,
           80.48,
           6.45,
           624,
           10.9,
           157.8,
           1788,
           2.5,
           1798.9,
           152,
           71000,
           170,
           9.13,
           5,
           4.2
          ],
          "colorbar": {
           "title": {
            "text": "Meteorite Mass (g)"
           }
          },
          "colorscale": [
           [
            0,
            "rgb(0, 0, 0)"
           ],
           [
            0.2,
            "rgb(30,0,100)"
           ],
           [
            0.4,
            "rgb(120,0,100)"
           ],
           [
            0.6,
            "rgb(160,90,0)"
           ],
           [
            0.8,
            "rgb(230,200,0)"
           ],
           [
            1,
            "rgb(255,250,220)"
           ]
          ],
          "opacity": 0.8,
          "reversescale": true,
          "size": 8,
          "symbol": "circle"
         },
         "mode": "markers",
         "text": [
          173,
          63,
          10.913,
          27.3,
          20.9,
          2048,
          150.1,
          13.16,
          87.49,
          3.03,
          31.03,
          1.2,
          9.217,
          1000,
          2.4,
          0.5,
          16.4,
          45.21,
          1.4,
          2.55,
          33.8,
          1.1,
          8.1,
          52.4,
          197.2,
          101.4,
          4.4,
          12.976,
          579,
          69.9,
          9.49,
          102.79,
          1.58,
          0.45,
          3879,
          5100,
          3.26,
          16300,
          3.49,
          0.54,
          17.54,
          4.6,
          613,
          48.2,
          8.6,
          24.2,
          0.74,
          8.3,
          7500,
          26.7,
          13600,
          34.1,
          45,
          56.82,
          1.59,
          8.4,
          7.3,
          1.7,
          2.09,
          74,
          495.4,
          89.6,
          420,
          849,
          208,
          8300,
          228,
          2.98,
          53.8,
          55.9,
          73,
          53,
          0.9,
          1230.8,
          587.7,
          8725,
          17.5,
          112.86,
          8.9,
          779.6,
          2250,
          3.8,
          188,
          37.1,
          86.1,
          68.4,
          3.54,
          244,
          9.97,
          12.31,
          18.7,
          78.8,
          18.2,
          4100,
          815,
          1095,
          254,
          9.2,
          31.9,
          1.48,
          165.8,
          406,
          35.8,
          86.63,
          1563.1,
          185.4,
          127.1,
          0.51,
          15.5,
          85,
          308,
          3.5,
          10175,
          11.1,
          5.9,
          3.19,
          0.56,
          30,
          11.09,
          11.9,
          29.42,
          27.8,
          92.7,
          78.36,
          111,
          62.4,
          4.7,
          144,
          23.7,
          215,
          4.93,
          500,
          1149,
          4.1,
          2.4,
          34.3,
          9.8,
          580,
          23,
          0.46,
          14.633,
          3.4,
          54,
          292.26,
          1.3,
          37.8,
          38.99,
          58.6,
          12.7,
          4.22,
          25.6,
          45.4,
          4.9,
          39.7,
          14.2,
          336,
          72.4,
          130.3,
          392.9,
          1006,
          8.14,
          10.86,
          12000,
          6.3,
          426,
          48.1,
          259,
          10.36,
          6175,
          1.33,
          4.37,
          187.5,
          27000,
          50000,
          20,
          9.5,
          1806,
          1443,
          1.22,
          1624,
          14.03,
          45000,
          5.86,
          87.7,
          2700,
          20.5,
          80.48,
          6.45,
          624,
          10.9,
          157.8,
          1788,
          2.5,
          1798.9,
          152,
          71000,
          170,
          9.13,
          5,
          4.2
         ],
         "type": "scattergeo"
        }
       ],
       "layout": {
        "autosize": true,
        "geo": {
         "lakecolor": "black",
         "landcolor": "lightgrey",
         "oceancolor": "lightblue",
         "projection": {
          "type": "equirectangular"
         },
         "rivercolor": "yellow",
         "scope": "world",
         "showlakes": true,
         "showland": true,
         "showocean": true,
         "showrivers": true
        },
        "template": {
         "data": {
          "bar": [
           {
            "error_x": {
             "color": "#2a3f5f"
            },
            "error_y": {
             "color": "#2a3f5f"
            },
            "marker": {
             "line": {
              "color": "#E5ECF6",
              "width": 0.5
             },
             "pattern": {
              "fillmode": "overlay",
              "size": 10,
              "solidity": 0.2
             }
            },
            "type": "bar"
           }
          ],
          "barpolar": [
           {
            "marker": {
             "line": {
              "color": "#E5ECF6",
              "width": 0.5
             },
             "pattern": {
              "fillmode": "overlay",
              "size": 10,
              "solidity": 0.2
             }
            },
            "type": "barpolar"
           }
          ],
          "carpet": [
           {
            "aaxis": {
             "endlinecolor": "#2a3f5f",
             "gridcolor": "white",
             "linecolor": "white",
             "minorgridcolor": "white",
             "startlinecolor": "#2a3f5f"
            },
            "baxis": {
             "endlinecolor": "#2a3f5f",
             "gridcolor": "white",
             "linecolor": "white",
             "minorgridcolor": "white",
             "startlinecolor": "#2a3f5f"
            },
            "type": "carpet"
           }
          ],
          "choropleth": [
           {
            "colorbar": {
             "outlinewidth": 0,
             "ticks": ""
            },
            "type": "choropleth"
           }
          ],
          "contour": [
           {
            "colorbar": {
             "outlinewidth": 0,
             "ticks": ""
            },
            "colorscale": [
             [
              0,
              "#0d0887"
             ],
             [
              0.1111111111111111,
              "#46039f"
             ],
             [
              0.2222222222222222,
              "#7201a8"
             ],
             [
              0.3333333333333333,
              "#9c179e"
             ],
             [
              0.4444444444444444,
              "#bd3786"
             ],
             [
              0.5555555555555556,
              "#d8576b"
             ],
             [
              0.6666666666666666,
              "#ed7953"
             ],
             [
              0.7777777777777778,
              "#fb9f3a"
             ],
             [
              0.8888888888888888,
              "#fdca26"
             ],
             [
              1,
              "#f0f921"
             ]
            ],
            "type": "contour"
           }
          ],
          "contourcarpet": [
           {
            "colorbar": {
             "outlinewidth": 0,
             "ticks": ""
            },
            "type": "contourcarpet"
           }
          ],
          "heatmap": [
           {
            "colorbar": {
             "outlinewidth": 0,
             "ticks": ""
            },
            "colorscale": [
             [
              0,
              "#0d0887"
             ],
             [
              0.1111111111111111,
              "#46039f"
             ],
             [
              0.2222222222222222,
              "#7201a8"
             ],
             [
              0.3333333333333333,
              "#9c179e"
             ],
             [
              0.4444444444444444,
              "#bd3786"
             ],
             [
              0.5555555555555556,
              "#d8576b"
             ],
             [
              0.6666666666666666,
              "#ed7953"
             ],
             [
              0.7777777777777778,
              "#fb9f3a"
             ],
             [
              0.8888888888888888,
              "#fdca26"
             ],
             [
              1,
              "#f0f921"
             ]
            ],
            "type": "heatmap"
           }
          ],
          "heatmapgl": [
           {
            "colorbar": {
             "outlinewidth": 0,
             "ticks": ""
            },
            "colorscale": [
             [
              0,
              "#0d0887"
             ],
             [
              0.1111111111111111,
              "#46039f"
             ],
             [
              0.2222222222222222,
              "#7201a8"
             ],
             [
              0.3333333333333333,
              "#9c179e"
             ],
             [
              0.4444444444444444,
              "#bd3786"
             ],
             [
              0.5555555555555556,
              "#d8576b"
             ],
             [
              0.6666666666666666,
              "#ed7953"
             ],
             [
              0.7777777777777778,
              "#fb9f3a"
             ],
             [
              0.8888888888888888,
              "#fdca26"
             ],
             [
              1,
              "#f0f921"
             ]
            ],
            "type": "heatmapgl"
           }
          ],
          "histogram": [
           {
            "marker": {
             "pattern": {
              "fillmode": "overlay",
              "size": 10,
              "solidity": 0.2
             }
            },
            "type": "histogram"
           }
          ],
          "histogram2d": [
           {
            "colorbar": {
             "outlinewidth": 0,
             "ticks": ""
            },
            "colorscale": [
             [
              0,
              "#0d0887"
             ],
             [
              0.1111111111111111,
              "#46039f"
             ],
             [
              0.2222222222222222,
              "#7201a8"
             ],
             [
              0.3333333333333333,
              "#9c179e"
             ],
             [
              0.4444444444444444,
              "#bd3786"
             ],
             [
              0.5555555555555556,
              "#d8576b"
             ],
             [
              0.6666666666666666,
              "#ed7953"
             ],
             [
              0.7777777777777778,
              "#fb9f3a"
             ],
             [
              0.8888888888888888,
              "#fdca26"
             ],
             [
              1,
              "#f0f921"
             ]
            ],
            "type": "histogram2d"
           }
          ],
          "histogram2dcontour": [
           {
            "colorbar": {
             "outlinewidth": 0,
             "ticks": ""
            },
            "colorscale": [
             [
              0,
              "#0d0887"
             ],
             [
              0.1111111111111111,
              "#46039f"
             ],
             [
              0.2222222222222222,
              "#7201a8"
             ],
             [
              0.3333333333333333,
              "#9c179e"
             ],
             [
              0.4444444444444444,
              "#bd3786"
             ],
             [
              0.5555555555555556,
              "#d8576b"
             ],
             [
              0.6666666666666666,
              "#ed7953"
             ],
             [
              0.7777777777777778,
              "#fb9f3a"
             ],
             [
              0.8888888888888888,
              "#fdca26"
             ],
             [
              1,
              "#f0f921"
             ]
            ],
            "type": "histogram2dcontour"
           }
          ],
          "mesh3d": [
           {
            "colorbar": {
             "outlinewidth": 0,
             "ticks": ""
            },
            "type": "mesh3d"
           }
          ],
          "parcoords": [
           {
            "line": {
             "colorbar": {
              "outlinewidth": 0,
              "ticks": ""
             }
            },
            "type": "parcoords"
           }
          ],
          "pie": [
           {
            "automargin": true,
            "type": "pie"
           }
          ],
          "scatter": [
           {
            "fillpattern": {
             "fillmode": "overlay",
             "size": 10,
             "solidity": 0.2
            },
            "type": "scatter"
           }
          ],
          "scatter3d": [
           {
            "line": {
             "colorbar": {
              "outlinewidth": 0,
              "ticks": ""
             }
            },
            "marker": {
             "colorbar": {
              "outlinewidth": 0,
              "ticks": ""
             }
            },
            "type": "scatter3d"
           }
          ],
          "scattercarpet": [
           {
            "marker": {
             "colorbar": {
              "outlinewidth": 0,
              "ticks": ""
             }
            },
            "type": "scattercarpet"
           }
          ],
          "scattergeo": [
           {
            "marker": {
             "colorbar": {
              "outlinewidth": 0,
              "ticks": ""
             }
            },
            "type": "scattergeo"
           }
          ],
          "scattergl": [
           {
            "marker": {
             "colorbar": {
              "outlinewidth": 0,
              "ticks": ""
             }
            },
            "type": "scattergl"
           }
          ],
          "scattermapbox": [
           {
            "marker": {
             "colorbar": {
              "outlinewidth": 0,
              "ticks": ""
             }
            },
            "type": "scattermapbox"
           }
          ],
          "scatterpolar": [
           {
            "marker": {
             "colorbar": {
              "outlinewidth": 0,
              "ticks": ""
             }
            },
            "type": "scatterpolar"
           }
          ],
          "scatterpolargl": [
           {
            "marker": {
             "colorbar": {
              "outlinewidth": 0,
              "ticks": ""
             }
            },
            "type": "scatterpolargl"
           }
          ],
          "scatterternary": [
           {
            "marker": {
             "colorbar": {
              "outlinewidth": 0,
              "ticks": ""
             }
            },
            "type": "scatterternary"
           }
          ],
          "surface": [
           {
            "colorbar": {
             "outlinewidth": 0,
             "ticks": ""
            },
            "colorscale": [
             [
              0,
              "#0d0887"
             ],
             [
              0.1111111111111111,
              "#46039f"
             ],
             [
              0.2222222222222222,
              "#7201a8"
             ],
             [
              0.3333333333333333,
              "#9c179e"
             ],
             [
              0.4444444444444444,
              "#bd3786"
             ],
             [
              0.5555555555555556,
              "#d8576b"
             ],
             [
              0.6666666666666666,
              "#ed7953"
             ],
             [
              0.7777777777777778,
              "#fb9f3a"
             ],
             [
              0.8888888888888888,
              "#fdca26"
             ],
             [
              1,
              "#f0f921"
             ]
            ],
            "type": "surface"
           }
          ],
          "table": [
           {
            "cells": {
             "fill": {
              "color": "#EBF0F8"
             },
             "line": {
              "color": "white"
             }
            },
            "header": {
             "fill": {
              "color": "#C8D4E3"
             },
             "line": {
              "color": "white"
             }
            },
            "type": "table"
           }
          ]
         },
         "layout": {
          "annotationdefaults": {
           "arrowcolor": "#2a3f5f",
           "arrowhead": 0,
           "arrowwidth": 1
          },
          "autotypenumbers": "strict",
          "coloraxis": {
           "colorbar": {
            "outlinewidth": 0,
            "ticks": ""
           }
          },
          "colorscale": {
           "diverging": [
            [
             0,
             "#8e0152"
            ],
            [
             0.1,
             "#c51b7d"
            ],
            [
             0.2,
             "#de77ae"
            ],
            [
             0.3,
             "#f1b6da"
            ],
            [
             0.4,
             "#fde0ef"
            ],
            [
             0.5,
             "#f7f7f7"
            ],
            [
             0.6,
             "#e6f5d0"
            ],
            [
             0.7,
             "#b8e186"
            ],
            [
             0.8,
             "#7fbc41"
            ],
            [
             0.9,
             "#4d9221"
            ],
            [
             1,
             "#276419"
            ]
           ],
           "sequential": [
            [
             0,
             "#0d0887"
            ],
            [
             0.1111111111111111,
             "#46039f"
            ],
            [
             0.2222222222222222,
             "#7201a8"
            ],
            [
             0.3333333333333333,
             "#9c179e"
            ],
            [
             0.4444444444444444,
             "#bd3786"
            ],
            [
             0.5555555555555556,
             "#d8576b"
            ],
            [
             0.6666666666666666,
             "#ed7953"
            ],
            [
             0.7777777777777778,
             "#fb9f3a"
            ],
            [
             0.8888888888888888,
             "#fdca26"
            ],
            [
             1,
             "#f0f921"
            ]
           ],
           "sequentialminus": [
            [
             0,
             "#0d0887"
            ],
            [
             0.1111111111111111,
             "#46039f"
            ],
            [
             0.2222222222222222,
             "#7201a8"
            ],
            [
             0.3333333333333333,
             "#9c179e"
            ],
            [
             0.4444444444444444,
             "#bd3786"
            ],
            [
             0.5555555555555556,
             "#d8576b"
            ],
            [
             0.6666666666666666,
             "#ed7953"
            ],
            [
             0.7777777777777778,
             "#fb9f3a"
            ],
            [
             0.8888888888888888,
             "#fdca26"
            ],
            [
             1,
             "#f0f921"
            ]
           ]
          },
          "colorway": [
           "#636efa",
           "#EF553B",
           "#00cc96",
           "#ab63fa",
           "#FFA15A",
           "#19d3f3",
           "#FF6692",
           "#B6E880",
           "#FF97FF",
           "#FECB52"
          ],
          "font": {
           "color": "#2a3f5f"
          },
          "geo": {
           "bgcolor": "white",
           "lakecolor": "white",
           "landcolor": "#E5ECF6",
           "showlakes": true,
           "showland": true,
           "subunitcolor": "white"
          },
          "hoverlabel": {
           "align": "left"
          },
          "hovermode": "closest",
          "mapbox": {
           "style": "light"
          },
          "paper_bgcolor": "white",
          "plot_bgcolor": "#E5ECF6",
          "polar": {
           "angularaxis": {
            "gridcolor": "white",
            "linecolor": "white",
            "ticks": ""
           },
           "bgcolor": "#E5ECF6",
           "radialaxis": {
            "gridcolor": "white",
            "linecolor": "white",
            "ticks": ""
           }
          },
          "scene": {
           "xaxis": {
            "backgroundcolor": "#E5ECF6",
            "gridcolor": "white",
            "gridwidth": 2,
            "linecolor": "white",
            "showbackground": true,
            "ticks": "",
            "zerolinecolor": "white"
           },
           "yaxis": {
            "backgroundcolor": "#E5ECF6",
            "gridcolor": "white",
            "gridwidth": 2,
            "linecolor": "white",
            "showbackground": true,
            "ticks": "",
            "zerolinecolor": "white"
           },
           "zaxis": {
            "backgroundcolor": "#E5ECF6",
            "gridcolor": "white",
            "gridwidth": 2,
            "linecolor": "white",
            "showbackground": true,
            "ticks": "",
            "zerolinecolor": "white"
           }
          },
          "shapedefaults": {
           "line": {
            "color": "#2a3f5f"
           }
          },
          "ternary": {
           "aaxis": {
            "gridcolor": "white",
            "linecolor": "white",
            "ticks": ""
           },
           "baxis": {
            "gridcolor": "white",
            "linecolor": "white",
            "ticks": ""
           },
           "bgcolor": "#E5ECF6",
           "caxis": {
            "gridcolor": "white",
            "linecolor": "white",
            "ticks": ""
           }
          },
          "title": {
           "x": 0.05
          },
          "xaxis": {
           "automargin": true,
           "gridcolor": "white",
           "linecolor": "white",
           "ticks": "",
           "title": {
            "standoff": 15
           },
           "zerolinecolor": "white",
           "zerolinewidth": 2
          },
          "yaxis": {
           "automargin": true,
           "gridcolor": "white",
           "linecolor": "white",
           "ticks": "",
           "title": {
            "standoff": 15
           },
           "zerolinecolor": "white",
           "zerolinewidth": 2
          }
         }
        },
        "title": {
         "text": "Meteorite Landings"
        },
        "updatemenus": [
         {
          "buttons": [
           {
            "args": [
             {
              "geo": {
               "projection": {
                "type": "equirectangular"
               }
              }
             }
            ],
            "label": "Map",
            "method": "relayout"
           },
           {
            "args": [
             {
              "geo": {
               "projection": {
                "type": "orthographic"
               }
              }
             }
            ],
            "label": "Globe",
            "method": "relayout"
           }
          ],
          "direction": "down",
          "x": 0.1,
          "xanchor": "left",
          "y": 1.1,
          "yanchor": "top"
         }
        ]
       }
      },
      "image/png": "[encoded data removed]",
      "text/html": [
       "<div>                            <div id=\"2baeb8fa-243c-4442-b404-137e7752ebce\" class=\"plotly-graph-div\" style=\"height:525px; width:100%;\"></div>            <script type=\"text/javascript\">                require([\"plotly\"], function(Plotly) {                    window.PLOTLYENV=window.PLOTLYENV || {};                                    if (document.getElementById(\"2baeb8fa-243c-4442-b404-137e7752ebce\")) {                    Plotly.newPlot(                        \"2baeb8fa-243c-4442-b404-137e7752ebce\",                        [{\"lat\":[null,null,null,-84.0,-76.28535,-71.5,-86.51027,null,-72.0,-71.5,-71.5,-84.27378,null,34.2,-84.357,-84.0,-84.0,-72.0,-84.0,-72.77917,-80.25,null,-85.691,-84.0,null,null,-76.71667,null,null,-71.82806,0.0,0.0,-72.99889,-72.7769,20.5052,36.21667,-72.76944,33.01667,-86.36667,-71.5,-86.36667,-30.99311,20.60837,-72.95488,-76.31222,-71.5,-72.95222,0.0,null,null,35.71667,-86.45,null,-71.5,-71.5,-76.18333,0.0,0.0,-71.5,18.90573,null,-84.0,27.71667,18.741611,19.14611,48.45,-25.23333,-71.5,-85.66787,null,18.70115,33.275,null,-76.27512,-86.52222,-76.77389,-76.18333,0.0,-84.25231,-76.71667,null,-84.0,null,-85.68006,-84.0,-76.28565,-71.5,27.17717,-71.5,-72.95108,-79.68333,-79.68333,-84.25909,38.85,0.0,18.67917,null,-84.28986,-84.0,-71.5,null,null,null,0.0,-86.36667,null,0.0,-72.99889,-84.0,27.2265,null,-72.95457,18.50755,-84.25499,-84.27385,-71.5,-72.7775,55.7,0.0,-84.0,-71.5,-76.68944,-85.65807,21.37107,-24.85,-84.27639,0.0,18.625,-76.31028,-85.68404,0.0,37.5,20.35833,0.0,0.0,0.0,0.0,0.0,null,-72.9822,null,0.0,27.03333,-71.5,-84.0,-84.0,-79.68333,-76.18333,null,-72.77889,-84.0,null,-84.0,-76.2858,-76.27972,-72.77472,-86.56667,0.0,-76.18333,null,-71.5,-71.5,23.98611,-76.7574,19.190417,0.0,0.0,-72.0,-71.5,-72.998889,-72.77306,20.41437,null,39.33333,0.0,-84.24623,18.7247,-31.53333,-71.5,null,-71.5,33.03333,0.0,null,37.28333,-84.27985,20.7827,-72.77944,18.59083,-79.68333,-77.01706,null,-84.0,19.97933,null,-25.65,40.26667,-71.5,-84.0,0.0],\"lon\":[null,null,null,168.0,156.44404,35.66667,-122.9522,null,26.0,35.66667,35.66667,161.68545,null,-86.48333,161.36443,168.0,168.0,26.0,168.0,75.31056,153.5,null,-68.96836,168.0,null,null,159.66667,null,null,36.20556,0.0,0.0,75.18722,75.3264,56.48438,-103.4,75.3375,-83.96667,-70.0,35.66667,-70.0,131.33253,57.16007,160.47328,157.39528,35.66667,160.50161,0.0,null,null,-81.86667,-165.43333,null,35.66667,35.66667,157.16667,0.0,0.0,35.66667,54.50885,null,168.0,4.13333,54.26175,54.40111,3.93333,-69.71667,35.66667,-68.25751,null,54.36907,-102.96,null,156.36181,-123.79341,159.275,157.16667,0.0,161.45413,159.66667,null,168.0,null,-68.68107,168.0,156.48143,35.66667,16.26683,35.66667,160.51425,159.75,159.75,161.41026,-96.58333,0.0,54.58783,null,161.28593,168.0,35.66667,null,null,null,0.0,-70.0,null,0.0,75.18722,168.0,-9.74117,null,160.50374,53.99325,161.40492,161.68603,35.66667,75.334167,24.4,0.0,168.0,35.66667,159.36889,-68.17227,58.41415,-70.53333,161.34562,0.0,54.43,157.1975,-68.87777,0.0,-79.75,11.85,0.0,0.0,0.0,0.0,0.0,null,75.2489,null,0.0,16.35,35.66667,168.0,168.0,155.75,157.16667,null,75.31111,168.0,null,168.0,156.46845,156.47219,75.32361,-165.11667,0.0,157.16667,null,35.66667,35.66667,32.62361,158.90775,54.957194,0.0,0.0,26.0,35.66667,75.187222,75.33806,57.06578,null,-98.16667,0.0,161.41018,54.39503,127.01667,35.66667,null,35.66667,-102.33333,0.0,null,-102.2,161.34894,55.42668,75.27,54.543,159.75,156.96282,null,168.0,55.95507,null,114.21667,-118.93333,35.66667,168.0,0.0],\"marker\":{\"autocolorscale\":false,\"color\":[173.0,63.0,10.913,27.3,20.9,2048.0,150.1,13.16,87.49,3.03,31.03,1.2,9.217,1000.0,2.4,0.5,16.4,45.21,1.4,2.55,33.8,1.1,8.1,52.4,197.2,101.4,4.4,12.976,579.0,69.9,9.49,102.79,1.58,0.45,3879.0,5100.0,3.26,16300.0,3.49,0.54,17.54,4.6,613.0,48.2,8.6,24.2,0.74,8.3,7500.0,26.7,13600.0,34.1,45.0,56.82,1.59,8.4,7.3,1.7,2.09,74.0,495.4,89.6,420.0,849.0,208.0,8300.0,228.0,2.98,53.8,55.9,73.0,53.0,0.9,1230.8,587.7,8725.0,17.5,112.86,8.9,779.6,2250.0,3.8,188.0,37.1,86.1,68.4,3.54,244.0,9.97,12.31,18.7,78.8,18.2,4100.0,815.0,1095.0,254.0,9.2,31.9,1.48,165.8,406.0,35.8,86.63,1563.1,185.4,127.1,0.51,15.5,85.0,308.0,3.5,10175.0,11.1,5.9,3.19,0.56,30.0,11.09,11.9,29.42,27.8,92.7,78.36,111.0,62.4,4.7,144.0,23.7,215.0,4.93,500.0,1149.0,4.1,2.4,34.3,9.8,580.0,23.0,0.46,14.633,3.4,54.0,292.26,1.3,37.8,38.99,58.6,12.7,4.22,25.6,45.4,4.9,39.7,14.2,336.0,72.4,130.3,392.9,1006.0,8.14,10.86,12000.0,6.3,426.0,48.1,259.0,10.36,6175.0,1.33,4.37,187.5,27000.0,50000.0,20.0,9.5,1806.0,1443.0,1.22,1624.0,14.03,45000.0,5.86,87.7,2700.0,20.5,80.48,6.45,624.0,10.9,157.8,1788.0,2.5,1798.9,152.0,71000.0,170.0,9.13,5.0,4.2],\"colorbar\":{\"title\":{\"text\":\"Meteorite Mass (g)\"}},\"colorscale\":[[0.0,\"rgb(0,0,0)\"],[0.2,\"rgb(30,0,100)\"],[0.4,\"rgb(120,0,100)\"],[0.6,\"rgb(160,90,0)\"],[0.8,\"rgb(230,200,0)\"],[1.0,\"rgb(255,250,220)\"]],\"opacity\":0.8,\"reversescale\":true,\"size\":8,\"symbol\":\"circle\"},\"mode\":\"markers\",\"text\":[173.0,63.0,10.913,27.3,20.9,2048.0,150.1,13.16,87.49,3.03,31.03,1.2,9.217,1000.0,2.4,0.5,16.4,45.21,1.4,2.55,33.8,1.1,8.1,52.4,197.2,101.4,4.4,12.976,579.0,69.9,9.49,102.79,1.58,0.45,3879.0,5100.0,3.26,16300.0,3.49,0.54,17.54,4.6,613.0,48.2,8.6,24.2,0.74,8.3,7500.0,26.7,13600.0,34.1,45.0,56.82,1.59,8.4,7.3,1.7,2.09,74.0,495.4,89.6,420.0,849.0,208.0,8300.0,228.0,2.98,53.8,55.9,73.0,53.0,0.9,1230.8,587.7,8725.0,17.5,112.86,8.9,779.6,2250.0,3.8,188.0,37.1,86.1,68.4,3.54,244.0,9.97,12.31,18.7,78.8,18.2,4100.0,815.0,1095.0,254.0,9.2,31.9,1.48,165.8,406.0,35.8,86.63,1563.1,185.4,127.1,0.51,15.5,85.0,308.0,3.5,10175.0,11.1,5.9,3.19,0.56,30.0,11.09,11.9,29.42,27.8,92.7,78.36,111.0,62.4,4.7,144.0,23.7,215.0,4.93,500.0,1149.0,4.1,2.4,34.3,9.8,580.0,23.0,0.46,14.633,3.4,54.0,292.26,1.3,37.8,38.99,58.6,12.7,4.22,25.6,45.4,4.9,39.7,14.2,336.0,72.4,130.3,392.9,1006.0,8.14,10.86,12000.0,6.3,426.0,48.1,259.0,10.36,6175.0,1.33,4.37,187.5,27000.0,50000.0,20.0,9.5,1806.0,1443.0,1.22,1624.0,14.03,45000.0,5.86,87.7,2700.0,20.5,80.48,6.45,624.0,10.9,157.8,1788.0,2.5,1798.9,152.0,71000.0,170.0,9.13,5.0,4.2],\"type\":\"scattergeo\"}],                        {\"template\":{\"data\":{\"histogram2dcontour\":[{\"type\":\"histogram2dcontour\",\"colorbar\":{\"outlinewidth\":0,\"ticks\":\"\"},\"colorscale\":[[0.0,\"#0d0887\"],[0.1111111111111111,\"#46039f\"],[0.2222222222222222,\"#7201a8\"],[0.3333333333333333,\"#9c179e\"],[0.4444444444444444,\"#bd3786\"],[0.5555555555555556,\"#d8576b\"],[0.6666666666666666,\"#ed7953\"],[0.7777777777777778,\"#fb9f3a\"],[0.8888888888888888,\"#fdca26\"],[1.0,\"#f0f921\"]]}],\"choropleth\":[{\"type\":\"choropleth\",\"colorbar\":{\"outlinewidth\":0,\"ticks\":\"\"}}],\"histogram2d\":[{\"type\":\"histogram2d\",\"colorbar\":{\"outlinewidth\":0,\"ticks\":\"\"},\"colorscale\":[[0.0,\"#0d0887\"],[0.1111111111111111,\"#46039f\"],[0.2222222222222222,\"#7201a8\"],[0.3333333333333333,\"#9c179e\"],[0.4444444444444444,\"#bd3786\"],[0.5555555555555556,\"#d8576b\"],[0.6666666666666666,\"#ed7953\"],[0.7777777777777778,\"#fb9f3a\"],[0.8888888888888888,\"#fdca26\"],[1.0,\"#f0f921\"]]}],\"heatmap\":[{\"type\":\"heatmap\",\"colorbar\":{\"outlinewidth\":0,\"ticks\":\"\"},\"colorscale\":[[0.0,\"#0d0887\"],[0.1111111111111111,\"#46039f\"],[0.2222222222222222,\"#7201a8\"],[0.3333333333333333,\"#9c179e\"],[0.4444444444444444,\"#bd3786\"],[0.5555555555555556,\"#d8576b\"],[0.6666666666666666,\"#ed7953\"],[0.7777777777777778,\"#fb9f3a\"],[0.8888888888888888,\"#fdca26\"],[1.0,\"#f0f921\"]]}],\"heatmapgl\":[{\"type\":\"heatmapgl\",\"colorbar\":{\"outlinewidth\":0,\"ticks\":\"\"},\"colorscale\":[[0.0,\"#0d0887\"],[0.1111111111111111,\"#46039f\"],[0.2222222222222222,\"#7201a8\"],[0.3333333333333333,\"#9c179e\"],[0.4444444444444444,\"#bd3786\"],[0.5555555555555556,\"#d8576b\"],[0.6666666666666666,\"#ed7953\"],[0.7777777777777778,\"#fb9f3a\"],[0.8888888888888888,\"#fdca26\"],[1.0,\"#f0f921\"]]}],\"contourcarpet\":[{\"type\":\"contourcarpet\",\"colorbar\":{\"outlinewidth\":0,\"ticks\":\"\"}}],\"contour\":[{\"type\":\"contour\",\"colorbar\":{\"outlinewidth\":0,\"ticks\":\"\"},\"colorscale\":[[0.0,\"#0d0887\"],[0.1111111111111111,\"#46039f\"],[0.2222222222222222,\"#7201a8\"],[0.3333333333333333,\"#9c179e\"],[0.4444444444444444,\"#bd3786\"],[0.5555555555555556,\"#d8576b\"],[0.6666666666666666,\"#ed7953\"],[0.7777777777777778,\"#fb9f3a\"],[0.8888888888888888,\"#fdca26\"],[1.0,\"#f0f921\"]]}],\"surface\":[{\"type\":\"surface\",\"colorbar\":{\"outlinewidth\":0,\"ticks\":\"\"},\"colorscale\":[[0.0,\"#0d0887\"],[0.1111111111111111,\"#46039f\"],[0.2222222222222222,\"#7201a8\"],[0.3333333333333333,\"#9c179e\"],[0.4444444444444444,\"#bd3786\"],[0.5555555555555556,\"#d8576b\"],[0.6666666666666666,\"#ed7953\"],[0.7777777777777778,\"#fb9f3a\"],[0.8888888888888888,\"#fdca26\"],[1.0,\"#f0f921\"]]}],\"mesh3d\":[{\"type\":\"mesh3d\",\"colorbar\":{\"outlinewidth\":0,\"ticks\":\"\"}}],\"scatter\":[{\"fillpattern\":{\"fillmode\":\"overlay\",\"size\":10,\"solidity\":0.2},\"type\":\"scatter\"}],\"parcoords\":[{\"type\":\"parcoords\",\"line\":{\"colorbar\":{\"outlinewidth\":0,\"ticks\":\"\"}}}],\"scatterpolargl\":[{\"type\":\"scatterpolargl\",\"marker\":{\"colorbar\":{\"outlinewidth\":0,\"ticks\":\"\"}}}],\"bar\":[{\"error_x\":{\"color\":\"#2a3f5f\"},\"error_y\":{\"color\":\"#2a3f5f\"},\"marker\":{\"line\":{\"color\":\"#E5ECF6\",\"width\":0.5},\"pattern\":{\"fillmode\":\"overlay\",\"size\":10,\"solidity\":0.2}},\"type\":\"bar\"}],\"scattergeo\":[{\"type\":\"scattergeo\",\"marker\":{\"colorbar\":{\"outlinewidth\":0,\"ticks\":\"\"}}}],\"scatterpolar\":[{\"type\":\"scatterpolar\",\"marker\":{\"colorbar\":{\"outlinewidth\":0,\"ticks\":\"\"}}}],\"histogram\":[{\"marker\":{\"pattern\":{\"fillmode\":\"overlay\",\"size\":10,\"solidity\":0.2}},\"type\":\"histogram\"}],\"scattergl\":[{\"type\":\"scattergl\",\"marker\":{\"colorbar\":{\"outlinewidth\":0,\"ticks\":\"\"}}}],\"scatter3d\":[{\"type\":\"scatter3d\",\"line\":{\"colorbar\":{\"outlinewidth\":0,\"ticks\":\"\"}},\"marker\":{\"colorbar\":{\"outlinewidth\":0,\"ticks\":\"\"}}}],\"scattermapbox\":[{\"type\":\"scattermapbox\",\"marker\":{\"colorbar\":{\"outlinewidth\":0,\"ticks\":\"\"}}}],\"scatterternary\":[{\"type\":\"scatterternary\",\"marker\":{\"colorbar\":{\"outlinewidth\":0,\"ticks\":\"\"}}}],\"scattercarpet\":[{\"type\":\"scattercarpet\",\"marker\":{\"colorbar\":{\"outlinewidth\":0,\"ticks\":\"\"}}}],\"carpet\":[{\"aaxis\":{\"endlinecolor\":\"#2a3f5f\",\"gridcolor\":\"white\",\"linecolor\":\"white\",\"minorgridcolor\":\"white\",\"startlinecolor\":\"#2a3f5f\"},\"baxis\":{\"endlinecolor\":\"#2a3f5f\",\"gridcolor\":\"white\",\"linecolor\":\"white\",\"minorgridcolor\":\"white\",\"startlinecolor\":\"#2a3f5f\"},\"type\":\"carpet\"}],\"table\":[{\"cells\":{\"fill\":{\"color\":\"#EBF0F8\"},\"line\":{\"color\":\"white\"}},\"header\":{\"fill\":{\"color\":\"#C8D4E3\"},\"line\":{\"color\":\"white\"}},\"type\":\"table\"}],\"barpolar\":[{\"marker\":{\"line\":{\"color\":\"#E5ECF6\",\"width\":0.5},\"pattern\":{\"fillmode\":\"overlay\",\"size\":10,\"solidity\":0.2}},\"type\":\"barpolar\"}],\"pie\":[{\"automargin\":true,\"type\":\"pie\"}]},\"layout\":{\"autotypenumbers\":\"strict\",\"colorway\":[\"#636efa\",\"#EF553B\",\"#00cc96\",\"#ab63fa\",\"#FFA15A\",\"#19d3f3\",\"#FF6692\",\"#B6E880\",\"#FF97FF\",\"#FECB52\"],\"font\":{\"color\":\"#2a3f5f\"},\"hovermode\":\"closest\",\"hoverlabel\":{\"align\":\"left\"},\"paper_bgcolor\":\"white\",\"plot_bgcolor\":\"#E5ECF6\",\"polar\":{\"bgcolor\":\"#E5ECF6\",\"angularaxis\":{\"gridcolor\":\"white\",\"linecolor\":\"white\",\"ticks\":\"\"},\"radialaxis\":{\"gridcolor\":\"white\",\"linecolor\":\"white\",\"ticks\":\"\"}},\"ternary\":{\"bgcolor\":\"#E5ECF6\",\"aaxis\":{\"gridcolor\":\"white\",\"linecolor\":\"white\",\"ticks\":\"\"},\"baxis\":{\"gridcolor\":\"white\",\"linecolor\":\"white\",\"ticks\":\"\"},\"caxis\":{\"gridcolor\":\"white\",\"linecolor\":\"white\",\"ticks\":\"\"}},\"coloraxis\":{\"colorbar\":{\"outlinewidth\":0,\"ticks\":\"\"}},\"colorscale\":{\"sequential\":[[0.0,\"#0d0887\"],[0.1111111111111111,\"#46039f\"],[0.2222222222222222,\"#7201a8\"],[0.3333333333333333,\"#9c179e\"],[0.4444444444444444,\"#bd3786\"],[0.5555555555555556,\"#d8576b\"],[0.6666666666666666,\"#ed7953\"],[0.7777777777777778,\"#fb9f3a\"],[0.8888888888888888,\"#fdca26\"],[1.0,\"#f0f921\"]],\"sequentialminus\":[[0.0,\"#0d0887\"],[0.1111111111111111,\"#46039f\"],[0.2222222222222222,\"#7201a8\"],[0.3333333333333333,\"#9c179e\"],[0.4444444444444444,\"#bd3786\"],[0.5555555555555556,\"#d8576b\"],[0.6666666666666666,\"#ed7953\"],[0.7777777777777778,\"#fb9f3a\"],[0.8888888888888888,\"#fdca26\"],[1.0,\"#f0f921\"]],\"diverging\":[[0,\"#8e0152\"],[0.1,\"#c51b7d\"],[0.2,\"#de77ae\"],[0.3,\"#f1b6da\"],[0.4,\"#fde0ef\"],[0.5,\"#f7f7f7\"],[0.6,\"#e6f5d0\"],[0.7,\"#b8e186\"],[0.8,\"#7fbc41\"],[0.9,\"#4d9221\"],[1,\"#276419\"]]},\"xaxis\":{\"gridcolor\":\"white\",\"linecolor\":\"white\",\"ticks\":\"\",\"title\":{\"standoff\":15},\"zerolinecolor\":\"white\",\"automargin\":true,\"zerolinewidth\":2},\"yaxis\":{\"gridcolor\":\"white\",\"linecolor\":\"white\",\"ticks\":\"\",\"title\":{\"standoff\":15},\"zerolinecolor\":\"white\",\"automargin\":true,\"zerolinewidth\":2},\"scene\":{\"xaxis\":{\"backgroundcolor\":\"#E5ECF6\",\"gridcolor\":\"white\",\"linecolor\":\"white\",\"showbackground\":true,\"ticks\":\"\",\"zerolinecolor\":\"white\",\"gridwidth\":2},\"yaxis\":{\"backgroundcolor\":\"#E5ECF6\",\"gridcolor\":\"white\",\"linecolor\":\"white\",\"showbackground\":true,\"ticks\":\"\",\"zerolinecolor\":\"white\",\"gridwidth\":2},\"zaxis\":{\"backgroundcolor\":\"#E5ECF6\",\"gridcolor\":\"white\",\"linecolor\":\"white\",\"showbackground\":true,\"ticks\":\"\",\"zerolinecolor\":\"white\",\"gridwidth\":2}},\"shapedefaults\":{\"line\":{\"color\":\"#2a3f5f\"}},\"annotationdefaults\":{\"arrowcolor\":\"#2a3f5f\",\"arrowhead\":0,\"arrowwidth\":1},\"geo\":{\"bgcolor\":\"white\",\"landcolor\":\"#E5ECF6\",\"subunitcolor\":\"white\",\"showland\":true,\"showlakes\":true,\"lakecolor\":\"white\"},\"title\":{\"x\":0.05},\"mapbox\":{\"style\":\"light\"}}},\"geo\":{\"projection\":{\"type\":\"equirectangular\"},\"showland\":true,\"landcolor\":\"lightgrey\",\"showocean\":true,\"oceancolor\":\"lightblue\",\"showlakes\":true,\"lakecolor\":\"black\",\"showrivers\":true,\"rivercolor\":\"yellow\",\"scope\":\"world\"},\"title\":{\"text\":\"Meteorite Landings\"},\"updatemenus\":[{\"buttons\":[{\"args\":[{\"geo\":{\"projection\":{\"type\":\"equirectangular\"}}}],\"label\":\"Map\",\"method\":\"relayout\"},{\"args\":[{\"geo\":{\"projection\":{\"type\":\"orthographic\"}}}],\"label\":\"Globe\",\"method\":\"relayout\"}],\"direction\":\"down\",\"x\":0.1,\"xanchor\":\"left\",\"y\":1.1,\"yanchor\":\"top\"}]},                        {\"responsive\": true}                    ).then(function(){\n",
       "                            \n",
       "var gd = document.getElementById('2baeb8fa-243c-4442-b404-137e7752ebce');\n",
       "var x = new MutationObserver(function (mutations, observer) {{\n",
       "        var display = window.getComputedStyle(gd).display;\n",
       "        if (!display || display === 'none') {{\n",
       "            console.log([gd, 'removed!']);\n",
       "            Plotly.purge(gd);\n",
       "            observer.disconnect();\n",
       "        }}\n",
       "}});\n",
       "\n",
       "// Listen for the removal of the full notebook cells\n",
       "var notebookContainer = gd.closest('#notebook-container');\n",
       "if (notebookContainer) {{\n",
       "    x.observe(notebookContainer, {childList: true});\n",
       "}}\n",
       "\n",
       "// Listen for the clearing of the current output cell\n",
       "var outputEl = gd.closest('.output');\n",
       "if (outputEl) {{\n",
       "    x.observe(outputEl, {childList: true});\n",
       "}}\n",
       "\n",
       "                        })                };                });            </script>        </div>"
      ]
     },
     "metadata": {},
     "output_type": "display_data"
    }
   ],
   "source": [
    "fig5 = go.Figure()\n",
    "\n",
    "\n",
    "fig5.add_trace(\n",
    "    go.Scattergeo(\n",
    "    lon = df['reclong'],\n",
    "    lat = df['reclat'],\n",
    "    text = df['mass (g)'],\n",
    "    mode = 'markers',\n",
    "    marker = dict(\n",
    "        size = 8,\n",
    "        opacity = 0.8,\n",
    "        reversescale = True,\n",
    "        autocolorscale = False,\n",
    "        symbol = 'circle',\n",
    "        colorscale = 'electric',\n",
    "        color = df['mass (g)'],\n",
    "        colorbar = dict(\n",
    "            title=dict(\n",
    "                text = 'Meteorite Mass (g)'\n",
    "            )\n",
    "        )\n",
    "    )\n",
    "))\n",
    "fig5.update_geos(\n",
    "    projection_type = 'equirectangular',\n",
    "    showland = True, landcolor = 'lightgrey',\n",
    "    showocean = True, oceancolor = 'lightblue',\n",
    "    showlakes= True, lakecolor = 'black',\n",
    "    showrivers = True, rivercolor = 'yellow'\n",
    "\n",
    ")\n",
    "\n",
    "button1 = {\n",
    "    'args': [{'geo': {'projection': {'type':'equirectangular'}}}],\n",
    "    'label':'Map',\n",
    "    'method': 'relayout'\n",
    "}\n",
    "\n",
    "\n",
    "button2 = {\n",
    "    'args': [{'geo': {'projection': {'type':'orthographic'}}}],\n",
    "    'label':'Globe',\n",
    "    'method': 'relayout'\n",
    "}\n",
    "\n",
    "fig5.update_layout(\n",
    "    title = 'Meteorite Landings',\n",
    "    geo_scope = 'world',\n",
    "    updatemenus = [\n",
    "        dict(\n",
    "            buttons = [button1, button2],\n",
    "            direction = 'down',\n",
    "            x = 0.1,\n",
    "            xanchor = 'left',\n",
    "            y = 1.1,\n",
    "            yanchor = 'top'\n",
    "        )\n",
    "    ]\n",
    ")\n",
    "\n",
    "            \n",
    "fig5.show()"
   ]
  },
  {
   "cell_type": "code",
   "execution_count": 27,
   "id": "92765584-f027-424e-8e12-c8518dde3601",
   "metadata": {},
   "outputs": [
    {
     "data": {
      "application/vnd.plotly.v1+json": {
       "config": {
        "plotlyServerURL": "https://plot.ly"
       },
       "data": [
        {
         "type": "bar",
         "x": [
          2001,
          2004,
          1998,
          1997,
          1990,
          1979,
          1991,
          2002,
          1988,
          1979,
          1979,
          1993,
          1998,
          1890,
          1987,
          1999,
          1999,
          1988,
          1999,
          2003,
          2000,
          2004,
          1991,
          1999,
          2005,
          2004,
          1978,
          1998,
          2006,
          1974,
          1998,
          1998,
          2006,
          2003,
          2010,
          1933,
          2006,
          1829,
          2002,
          1974,
          2002,
          2011,
          2004,
          1984,
          1983,
          1979,
          2004,
          2009,
          2003,
          2004,
          1890,
          1995,
          1998,
          1974,
          1986,
          1996,
          2009,
          2009,
          1975,
          2001,
          2004,
          1999,
          1990,
          2005,
          2000,
          1866,
          2010,
          1979,
          1991,
          2003,
          2001,
          1980,
          2004,
          1987,
          1991,
          1980,
          1996,
          1998,
          1988,
          1977,
          1964,
          1997,
          2001,
          1991,
          1999,
          1990,
          1986,
          1997,
          1979,
          2003,
          2000,
          2001,
          1986,
          1940,
          2008,
          1999,
          2005,
          1986,
          1997,
          1986,
          2002,
          2001,
          2000,
          1998,
          2002,
          2003,
          1998,
          2006,
          1997,
          1998,
          2001,
          1990,
          2002,
          1986,
          1986,
          1979,
          2003,
          1877,
          1998,
          1993,
          1979,
          1980,
          1991,
          2006,
          2010,
          1986,
          2009,
          2003,
          1983,
          1991,
          1998,
          1850,
          2001,
          1998,
          2009,
          2010,
          2009,
          2004,
          2000,
          2003,
          1998,
          2009,
          2000,
          1979,
          1994,
          1997,
          2000,
          1987,
          2006,
          2003,
          1997,
          2003,
          1993,
          1990,
          1990,
          2006,
          1995,
          2009,
          1996,
          2003,
          1979,
          1986,
          1955,
          1984,
          2005,
          2009,
          2012,
          1988,
          1979,
          2006,
          2006,
          2002,
          2005,
          1873,
          2007,
          1988,
          2001,
          1967,
          1986,
          2003,
          1979,
          1964,
          1998,
          2006,
          1942,
          1988,
          2010,
          2006,
          2008,
          2001,
          1984,
          2003,
          1993,
          2005,
          2004,
          1969,
          1999,
          1986,
          1994,
          2009
         ],
         "y": [
          173,
          63,
          10.913,
          27.3,
          20.9,
          2048,
          150.1,
          13.16,
          87.49,
          3.03,
          31.03,
          1.2,
          9.217,
          1000,
          2.4,
          0.5,
          16.4,
          45.21,
          1.4,
          2.55,
          33.8,
          1.1,
          8.1,
          52.4,
          197.2,
          101.4,
          4.4,
          12.976,
          579,
          69.9,
          9.49,
          102.79,
          1.58,
          0.45,
          3879,
          5100,
          3.26,
          16300,
          3.49,
          0.54,
          17.54,
          4.6,
          613,
          48.2,
          8.6,
          24.2,
          0.74,
          8.3,
          7500,
          26.7,
          13600,
          34.1,
          45,
          56.82,
          1.59,
          8.4,
          7.3,
          1.7,
          2.09,
          74,
          495.4,
          89.6,
          420,
          849,
          208,
          8300,
          228,
          2.98,
          53.8,
          55.9,
          73,
          53,
          0.9,
          1230.8,
          587.7,
          8725,
          17.5,
          112.86,
          8.9,
          779.6,
          2250,
          3.8,
          188,
          37.1,
          86.1,
          68.4,
          3.54,
          244,
          9.97,
          12.31,
          18.7,
          78.8,
          18.2,
          4100,
          815,
          1095,
          254,
          9.2,
          31.9,
          1.48,
          165.8,
          406,
          35.8,
          86.63,
          1563.1,
          185.4,
          127.1,
          0.51,
          15.5,
          85,
          308,
          3.5,
          10175,
          11.1,
          5.9,
          3.19,
          0.56,
          30,
          11.09,
          11.9,
          29.42,
          27.8,
          92.7,
          78.36,
          111,
          62.4,
          4.7,
          144,
          23.7,
          215,
          4.93,
          500,
          1149,
          4.1,
          2.4,
          34.3,
          9.8,
          580,
          23,
          0.46,
          14.633,
          3.4,
          54,
          292.26,
          1.3,
          37.8,
          38.99,
          58.6,
          12.7,
          4.22,
          25.6,
          45.4,
          4.9,
          39.7,
          14.2,
          336,
          72.4,
          130.3,
          392.9,
          1006,
          8.14,
          10.86,
          12000,
          6.3,
          426,
          48.1,
          259,
          10.36,
          6175,
          1.33,
          4.37,
          187.5,
          27000,
          50000,
          20,
          9.5,
          1806,
          1443,
          1.22,
          1624,
          14.03,
          45000,
          5.86,
          87.7,
          2700,
          20.5,
          80.48,
          6.45,
          624,
          10.9,
          157.8,
          1788,
          2.5,
          1798.9,
          152,
          71000,
          170,
          9.13,
          5,
          4.2
         ]
        }
       ],
       "layout": {
        "autosize": true,
        "template": {
         "data": {
          "bar": [
           {
            "error_x": {
             "color": "#2a3f5f"
            },
            "error_y": {
             "color": "#2a3f5f"
            },
            "marker": {
             "line": {
              "color": "#E5ECF6",
              "width": 0.5
             },
             "pattern": {
              "fillmode": "overlay",
              "size": 10,
              "solidity": 0.2
             }
            },
            "type": "bar"
           }
          ],
          "barpolar": [
           {
            "marker": {
             "line": {
              "color": "#E5ECF6",
              "width": 0.5
             },
             "pattern": {
              "fillmode": "overlay",
              "size": 10,
              "solidity": 0.2
             }
            },
            "type": "barpolar"
           }
          ],
          "carpet": [
           {
            "aaxis": {
             "endlinecolor": "#2a3f5f",
             "gridcolor": "white",
             "linecolor": "white",
             "minorgridcolor": "white",
             "startlinecolor": "#2a3f5f"
            },
            "baxis": {
             "endlinecolor": "#2a3f5f",
             "gridcolor": "white",
             "linecolor": "white",
             "minorgridcolor": "white",
             "startlinecolor": "#2a3f5f"
            },
            "type": "carpet"
           }
          ],
          "choropleth": [
           {
            "colorbar": {
             "outlinewidth": 0,
             "ticks": ""
            },
            "type": "choropleth"
           }
          ],
          "contour": [
           {
            "colorbar": {
             "outlinewidth": 0,
             "ticks": ""
            },
            "colorscale": [
             [
              0,
              "#0d0887"
             ],
             [
              0.1111111111111111,
              "#46039f"
             ],
             [
              0.2222222222222222,
              "#7201a8"
             ],
             [
              0.3333333333333333,
              "#9c179e"
             ],
             [
              0.4444444444444444,
              "#bd3786"
             ],
             [
              0.5555555555555556,
              "#d8576b"
             ],
             [
              0.6666666666666666,
              "#ed7953"
             ],
             [
              0.7777777777777778,
              "#fb9f3a"
             ],
             [
              0.8888888888888888,
              "#fdca26"
             ],
             [
              1,
              "#f0f921"
             ]
            ],
            "type": "contour"
           }
          ],
          "contourcarpet": [
           {
            "colorbar": {
             "outlinewidth": 0,
             "ticks": ""
            },
            "type": "contourcarpet"
           }
          ],
          "heatmap": [
           {
            "colorbar": {
             "outlinewidth": 0,
             "ticks": ""
            },
            "colorscale": [
             [
              0,
              "#0d0887"
             ],
             [
              0.1111111111111111,
              "#46039f"
             ],
             [
              0.2222222222222222,
              "#7201a8"
             ],
             [
              0.3333333333333333,
              "#9c179e"
             ],
             [
              0.4444444444444444,
              "#bd3786"
             ],
             [
              0.5555555555555556,
              "#d8576b"
             ],
             [
              0.6666666666666666,
              "#ed7953"
             ],
             [
              0.7777777777777778,
              "#fb9f3a"
             ],
             [
              0.8888888888888888,
              "#fdca26"
             ],
             [
              1,
              "#f0f921"
             ]
            ],
            "type": "heatmap"
           }
          ],
          "heatmapgl": [
           {
            "colorbar": {
             "outlinewidth": 0,
             "ticks": ""
            },
            "colorscale": [
             [
              0,
              "#0d0887"
             ],
             [
              0.1111111111111111,
              "#46039f"
             ],
             [
              0.2222222222222222,
              "#7201a8"
             ],
             [
              0.3333333333333333,
              "#9c179e"
             ],
             [
              0.4444444444444444,
              "#bd3786"
             ],
             [
              0.5555555555555556,
              "#d8576b"
             ],
             [
              0.6666666666666666,
              "#ed7953"
             ],
             [
              0.7777777777777778,
              "#fb9f3a"
             ],
             [
              0.8888888888888888,
              "#fdca26"
             ],
             [
              1,
              "#f0f921"
             ]
            ],
            "type": "heatmapgl"
           }
          ],
          "histogram": [
           {
            "marker": {
             "pattern": {
              "fillmode": "overlay",
              "size": 10,
              "solidity": 0.2
             }
            },
            "type": "histogram"
           }
          ],
          "histogram2d": [
           {
            "colorbar": {
             "outlinewidth": 0,
             "ticks": ""
            },
            "colorscale": [
             [
              0,
              "#0d0887"
             ],
             [
              0.1111111111111111,
              "#46039f"
             ],
             [
              0.2222222222222222,
              "#7201a8"
             ],
             [
              0.3333333333333333,
              "#9c179e"
             ],
             [
              0.4444444444444444,
              "#bd3786"
             ],
             [
              0.5555555555555556,
              "#d8576b"
             ],
             [
              0.6666666666666666,
              "#ed7953"
             ],
             [
              0.7777777777777778,
              "#fb9f3a"
             ],
             [
              0.8888888888888888,
              "#fdca26"
             ],
             [
              1,
              "#f0f921"
             ]
            ],
            "type": "histogram2d"
           }
          ],
          "histogram2dcontour": [
           {
            "colorbar": {
             "outlinewidth": 0,
             "ticks": ""
            },
            "colorscale": [
             [
              0,
              "#0d0887"
             ],
             [
              0.1111111111111111,
              "#46039f"
             ],
             [
              0.2222222222222222,
              "#7201a8"
             ],
             [
              0.3333333333333333,
              "#9c179e"
             ],
             [
              0.4444444444444444,
              "#bd3786"
             ],
             [
              0.5555555555555556,
              "#d8576b"
             ],
             [
              0.6666666666666666,
              "#ed7953"
             ],
             [
              0.7777777777777778,
              "#fb9f3a"
             ],
             [
              0.8888888888888888,
              "#fdca26"
             ],
             [
              1,
              "#f0f921"
             ]
            ],
            "type": "histogram2dcontour"
           }
          ],
          "mesh3d": [
           {
            "colorbar": {
             "outlinewidth": 0,
             "ticks": ""
            },
            "type": "mesh3d"
           }
          ],
          "parcoords": [
           {
            "line": {
             "colorbar": {
              "outlinewidth": 0,
              "ticks": ""
             }
            },
            "type": "parcoords"
           }
          ],
          "pie": [
           {
            "automargin": true,
            "type": "pie"
           }
          ],
          "scatter": [
           {
            "fillpattern": {
             "fillmode": "overlay",
             "size": 10,
             "solidity": 0.2
            },
            "type": "scatter"
           }
          ],
          "scatter3d": [
           {
            "line": {
             "colorbar": {
              "outlinewidth": 0,
              "ticks": ""
             }
            },
            "marker": {
             "colorbar": {
              "outlinewidth": 0,
              "ticks": ""
             }
            },
            "type": "scatter3d"
           }
          ],
          "scattercarpet": [
           {
            "marker": {
             "colorbar": {
              "outlinewidth": 0,
              "ticks": ""
             }
            },
            "type": "scattercarpet"
           }
          ],
          "scattergeo": [
           {
            "marker": {
             "colorbar": {
              "outlinewidth": 0,
              "ticks": ""
             }
            },
            "type": "scattergeo"
           }
          ],
          "scattergl": [
           {
            "marker": {
             "colorbar": {
              "outlinewidth": 0,
              "ticks": ""
             }
            },
            "type": "scattergl"
           }
          ],
          "scattermapbox": [
           {
            "marker": {
             "colorbar": {
              "outlinewidth": 0,
              "ticks": ""
             }
            },
            "type": "scattermapbox"
           }
          ],
          "scatterpolar": [
           {
            "marker": {
             "colorbar": {
              "outlinewidth": 0,
              "ticks": ""
             }
            },
            "type": "scatterpolar"
           }
          ],
          "scatterpolargl": [
           {
            "marker": {
             "colorbar": {
              "outlinewidth": 0,
              "ticks": ""
             }
            },
            "type": "scatterpolargl"
           }
          ],
          "scatterternary": [
           {
            "marker": {
             "colorbar": {
              "outlinewidth": 0,
              "ticks": ""
             }
            },
            "type": "scatterternary"
           }
          ],
          "surface": [
           {
            "colorbar": {
             "outlinewidth": 0,
             "ticks": ""
            },
            "colorscale": [
             [
              0,
              "#0d0887"
             ],
             [
              0.1111111111111111,
              "#46039f"
             ],
             [
              0.2222222222222222,
              "#7201a8"
             ],
             [
              0.3333333333333333,
              "#9c179e"
             ],
             [
              0.4444444444444444,
              "#bd3786"
             ],
             [
              0.5555555555555556,
              "#d8576b"
             ],
             [
              0.6666666666666666,
              "#ed7953"
             ],
             [
              0.7777777777777778,
              "#fb9f3a"
             ],
             [
              0.8888888888888888,
              "#fdca26"
             ],
             [
              1,
              "#f0f921"
             ]
            ],
            "type": "surface"
           }
          ],
          "table": [
           {
            "cells": {
             "fill": {
              "color": "#EBF0F8"
             },
             "line": {
              "color": "white"
             }
            },
            "header": {
             "fill": {
              "color": "#C8D4E3"
             },
             "line": {
              "color": "white"
             }
            },
            "type": "table"
           }
          ]
         },
         "layout": {
          "annotationdefaults": {
           "arrowcolor": "#2a3f5f",
           "arrowhead": 0,
           "arrowwidth": 1
          },
          "autotypenumbers": "strict",
          "coloraxis": {
           "colorbar": {
            "outlinewidth": 0,
            "ticks": ""
           }
          },
          "colorscale": {
           "diverging": [
            [
             0,
             "#8e0152"
            ],
            [
             0.1,
             "#c51b7d"
            ],
            [
             0.2,
             "#de77ae"
            ],
            [
             0.3,
             "#f1b6da"
            ],
            [
             0.4,
             "#fde0ef"
            ],
            [
             0.5,
             "#f7f7f7"
            ],
            [
             0.6,
             "#e6f5d0"
            ],
            [
             0.7,
             "#b8e186"
            ],
            [
             0.8,
             "#7fbc41"
            ],
            [
             0.9,
             "#4d9221"
            ],
            [
             1,
             "#276419"
            ]
           ],
           "sequential": [
            [
             0,
             "#0d0887"
            ],
            [
             0.1111111111111111,
             "#46039f"
            ],
            [
             0.2222222222222222,
             "#7201a8"
            ],
            [
             0.3333333333333333,
             "#9c179e"
            ],
            [
             0.4444444444444444,
             "#bd3786"
            ],
            [
             0.5555555555555556,
             "#d8576b"
            ],
            [
             0.6666666666666666,
             "#ed7953"
            ],
            [
             0.7777777777777778,
             "#fb9f3a"
            ],
            [
             0.8888888888888888,
             "#fdca26"
            ],
            [
             1,
             "#f0f921"
            ]
           ],
           "sequentialminus": [
            [
             0,
             "#0d0887"
            ],
            [
             0.1111111111111111,
             "#46039f"
            ],
            [
             0.2222222222222222,
             "#7201a8"
            ],
            [
             0.3333333333333333,
             "#9c179e"
            ],
            [
             0.4444444444444444,
             "#bd3786"
            ],
            [
             0.5555555555555556,
             "#d8576b"
            ],
            [
             0.6666666666666666,
             "#ed7953"
            ],
            [
             0.7777777777777778,
             "#fb9f3a"
            ],
            [
             0.8888888888888888,
             "#fdca26"
            ],
            [
             1,
             "#f0f921"
            ]
           ]
          },
          "colorway": [
           "#636efa",
           "#EF553B",
           "#00cc96",
           "#ab63fa",
           "#FFA15A",
           "#19d3f3",
           "#FF6692",
           "#B6E880",
           "#FF97FF",
           "#FECB52"
          ],
          "font": {
           "color": "#2a3f5f"
          },
          "geo": {
           "bgcolor": "white",
           "lakecolor": "white",
           "landcolor": "#E5ECF6",
           "showlakes": true,
           "showland": true,
           "subunitcolor": "white"
          },
          "hoverlabel": {
           "align": "left"
          },
          "hovermode": "closest",
          "mapbox": {
           "style": "light"
          },
          "paper_bgcolor": "white",
          "plot_bgcolor": "#E5ECF6",
          "polar": {
           "angularaxis": {
            "gridcolor": "white",
            "linecolor": "white",
            "ticks": ""
           },
           "bgcolor": "#E5ECF6",
           "radialaxis": {
            "gridcolor": "white",
            "linecolor": "white",
            "ticks": ""
           }
          },
          "scene": {
           "xaxis": {
            "backgroundcolor": "#E5ECF6",
            "gridcolor": "white",
            "gridwidth": 2,
            "linecolor": "white",
            "showbackground": true,
            "ticks": "",
            "zerolinecolor": "white"
           },
           "yaxis": {
            "backgroundcolor": "#E5ECF6",
            "gridcolor": "white",
            "gridwidth": 2,
            "linecolor": "white",
            "showbackground": true,
            "ticks": "",
            "zerolinecolor": "white"
           },
           "zaxis": {
            "backgroundcolor": "#E5ECF6",
            "gridcolor": "white",
            "gridwidth": 2,
            "linecolor": "white",
            "showbackground": true,
            "ticks": "",
            "zerolinecolor": "white"
           }
          },
          "shapedefaults": {
           "line": {
            "color": "#2a3f5f"
           }
          },
          "ternary": {
           "aaxis": {
            "gridcolor": "white",
            "linecolor": "white",
            "ticks": ""
           },
           "baxis": {
            "gridcolor": "white",
            "linecolor": "white",
            "ticks": ""
           },
           "bgcolor": "#E5ECF6",
           "caxis": {
            "gridcolor": "white",
            "linecolor": "white",
            "ticks": ""
           }
          },
          "title": {
           "x": 0.05
          },
          "xaxis": {
           "automargin": true,
           "gridcolor": "white",
           "linecolor": "white",
           "ticks": "",
           "title": {
            "standoff": 15
           },
           "zerolinecolor": "white",
           "zerolinewidth": 2
          },
          "yaxis": {
           "automargin": true,
           "gridcolor": "white",
           "linecolor": "white",
           "ticks": "",
           "title": {
            "standoff": 15
           },
           "zerolinecolor": "white",
           "zerolinewidth": 2
          }
         }
        },
        "title": {
         "text": "Meteors' Mass by Year"
        },
        "xaxis": {
         "autorange": true,
         "range": [
          1828.5,
          2012.5
         ],
         "type": "linear"
        },
        "yaxis": {
         "autorange": true,
         "range": [
          0,
          74736.84210526316
         ],
         "type": "linear"
        }
       }
      },
      "image/png": "[encoded data removed]",
      "text/html": [
       "<div>                            <div id=\"87265a6c-6198-4d43-991c-8dd3acadad4b\" class=\"plotly-graph-div\" style=\"height:525px; width:100%;\"></div>            <script type=\"text/javascript\">                require([\"plotly\"], function(Plotly) {                    window.PLOTLYENV=window.PLOTLYENV || {};                                    if (document.getElementById(\"87265a6c-6198-4d43-991c-8dd3acadad4b\")) {                    Plotly.newPlot(                        \"87265a6c-6198-4d43-991c-8dd3acadad4b\",                        [{\"x\":[2001.0,2004.0,1998.0,1997.0,1990.0,1979.0,1991.0,2002.0,1988.0,1979.0,1979.0,1993.0,1998.0,1890.0,1987.0,1999.0,1999.0,1988.0,1999.0,2003.0,2000.0,2004.0,1991.0,1999.0,2005.0,2004.0,1978.0,1998.0,2006.0,1974.0,1998.0,1998.0,2006.0,2003.0,2010.0,1933.0,2006.0,1829.0,2002.0,1974.0,2002.0,2011.0,2004.0,1984.0,1983.0,1979.0,2004.0,2009.0,2003.0,2004.0,1890.0,1995.0,1998.0,1974.0,1986.0,1996.0,2009.0,2009.0,1975.0,2001.0,2004.0,1999.0,1990.0,2005.0,2000.0,1866.0,2010.0,1979.0,1991.0,2003.0,2001.0,1980.0,2004.0,1987.0,1991.0,1980.0,1996.0,1998.0,1988.0,1977.0,1964.0,1997.0,2001.0,1991.0,1999.0,1990.0,1986.0,1997.0,1979.0,2003.0,2000.0,2001.0,1986.0,1940.0,2008.0,1999.0,2005.0,1986.0,1997.0,1986.0,2002.0,2001.0,2000.0,1998.0,2002.0,2003.0,1998.0,2006.0,1997.0,1998.0,2001.0,1990.0,2002.0,1986.0,1986.0,1979.0,2003.0,1877.0,1998.0,1993.0,1979.0,1980.0,1991.0,2006.0,2010.0,1986.0,2009.0,2003.0,1983.0,1991.0,1998.0,1850.0,2001.0,1998.0,2009.0,2010.0,2009.0,2004.0,2000.0,2003.0,1998.0,2009.0,2000.0,1979.0,1994.0,1997.0,2000.0,1987.0,2006.0,2003.0,1997.0,2003.0,1993.0,1990.0,1990.0,2006.0,1995.0,2009.0,1996.0,2003.0,1979.0,1986.0,1955.0,1984.0,2005.0,2009.0,2012.0,1988.0,1979.0,2006.0,2006.0,2002.0,2005.0,1873.0,2007.0,1988.0,2001.0,1967.0,1986.0,2003.0,1979.0,1964.0,1998.0,2006.0,1942.0,1988.0,2010.0,2006.0,2008.0,2001.0,1984.0,2003.0,1993.0,2005.0,2004.0,1969.0,1999.0,1986.0,1994.0,2009.0],\"y\":[173.0,63.0,10.913,27.3,20.9,2048.0,150.1,13.16,87.49,3.03,31.03,1.2,9.217,1000.0,2.4,0.5,16.4,45.21,1.4,2.55,33.8,1.1,8.1,52.4,197.2,101.4,4.4,12.976,579.0,69.9,9.49,102.79,1.58,0.45,3879.0,5100.0,3.26,16300.0,3.49,0.54,17.54,4.6,613.0,48.2,8.6,24.2,0.74,8.3,7500.0,26.7,13600.0,34.1,45.0,56.82,1.59,8.4,7.3,1.7,2.09,74.0,495.4,89.6,420.0,849.0,208.0,8300.0,228.0,2.98,53.8,55.9,73.0,53.0,0.9,1230.8,587.7,8725.0,17.5,112.86,8.9,779.6,2250.0,3.8,188.0,37.1,86.1,68.4,3.54,244.0,9.97,12.31,18.7,78.8,18.2,4100.0,815.0,1095.0,254.0,9.2,31.9,1.48,165.8,406.0,35.8,86.63,1563.1,185.4,127.1,0.51,15.5,85.0,308.0,3.5,10175.0,11.1,5.9,3.19,0.56,30.0,11.09,11.9,29.42,27.8,92.7,78.36,111.0,62.4,4.7,144.0,23.7,215.0,4.93,500.0,1149.0,4.1,2.4,34.3,9.8,580.0,23.0,0.46,14.633,3.4,54.0,292.26,1.3,37.8,38.99,58.6,12.7,4.22,25.6,45.4,4.9,39.7,14.2,336.0,72.4,130.3,392.9,1006.0,8.14,10.86,12000.0,6.3,426.0,48.1,259.0,10.36,6175.0,1.33,4.37,187.5,27000.0,50000.0,20.0,9.5,1806.0,1443.0,1.22,1624.0,14.03,45000.0,5.86,87.7,2700.0,20.5,80.48,6.45,624.0,10.9,157.8,1788.0,2.5,1798.9,152.0,71000.0,170.0,9.13,5.0,4.2],\"type\":\"bar\"}],                        {\"template\":{\"data\":{\"histogram2dcontour\":[{\"type\":\"histogram2dcontour\",\"colorbar\":{\"outlinewidth\":0,\"ticks\":\"\"},\"colorscale\":[[0.0,\"#0d0887\"],[0.1111111111111111,\"#46039f\"],[0.2222222222222222,\"#7201a8\"],[0.3333333333333333,\"#9c179e\"],[0.4444444444444444,\"#bd3786\"],[0.5555555555555556,\"#d8576b\"],[0.6666666666666666,\"#ed7953\"],[0.7777777777777778,\"#fb9f3a\"],[0.8888888888888888,\"#fdca26\"],[1.0,\"#f0f921\"]]}],\"choropleth\":[{\"type\":\"choropleth\",\"colorbar\":{\"outlinewidth\":0,\"ticks\":\"\"}}],\"histogram2d\":[{\"type\":\"histogram2d\",\"colorbar\":{\"outlinewidth\":0,\"ticks\":\"\"},\"colorscale\":[[0.0,\"#0d0887\"],[0.1111111111111111,\"#46039f\"],[0.2222222222222222,\"#7201a8\"],[0.3333333333333333,\"#9c179e\"],[0.4444444444444444,\"#bd3786\"],[0.5555555555555556,\"#d8576b\"],[0.6666666666666666,\"#ed7953\"],[0.7777777777777778,\"#fb9f3a\"],[0.8888888888888888,\"#fdca26\"],[1.0,\"#f0f921\"]]}],\"heatmap\":[{\"type\":\"heatmap\",\"colorbar\":{\"outlinewidth\":0,\"ticks\":\"\"},\"colorscale\":[[0.0,\"#0d0887\"],[0.1111111111111111,\"#46039f\"],[0.2222222222222222,\"#7201a8\"],[0.3333333333333333,\"#9c179e\"],[0.4444444444444444,\"#bd3786\"],[0.5555555555555556,\"#d8576b\"],[0.6666666666666666,\"#ed7953\"],[0.7777777777777778,\"#fb9f3a\"],[0.8888888888888888,\"#fdca26\"],[1.0,\"#f0f921\"]]}],\"heatmapgl\":[{\"type\":\"heatmapgl\",\"colorbar\":{\"outlinewidth\":0,\"ticks\":\"\"},\"colorscale\":[[0.0,\"#0d0887\"],[0.1111111111111111,\"#46039f\"],[0.2222222222222222,\"#7201a8\"],[0.3333333333333333,\"#9c179e\"],[0.4444444444444444,\"#bd3786\"],[0.5555555555555556,\"#d8576b\"],[0.6666666666666666,\"#ed7953\"],[0.7777777777777778,\"#fb9f3a\"],[0.8888888888888888,\"#fdca26\"],[1.0,\"#f0f921\"]]}],\"contourcarpet\":[{\"type\":\"contourcarpet\",\"colorbar\":{\"outlinewidth\":0,\"ticks\":\"\"}}],\"contour\":[{\"type\":\"contour\",\"colorbar\":{\"outlinewidth\":0,\"ticks\":\"\"},\"colorscale\":[[0.0,\"#0d0887\"],[0.1111111111111111,\"#46039f\"],[0.2222222222222222,\"#7201a8\"],[0.3333333333333333,\"#9c179e\"],[0.4444444444444444,\"#bd3786\"],[0.5555555555555556,\"#d8576b\"],[0.6666666666666666,\"#ed7953\"],[0.7777777777777778,\"#fb9f3a\"],[0.8888888888888888,\"#fdca26\"],[1.0,\"#f0f921\"]]}],\"surface\":[{\"type\":\"surface\",\"colorbar\":{\"outlinewidth\":0,\"ticks\":\"\"},\"colorscale\":[[0.0,\"#0d0887\"],[0.1111111111111111,\"#46039f\"],[0.2222222222222222,\"#7201a8\"],[0.3333333333333333,\"#9c179e\"],[0.4444444444444444,\"#bd3786\"],[0.5555555555555556,\"#d8576b\"],[0.6666666666666666,\"#ed7953\"],[0.7777777777777778,\"#fb9f3a\"],[0.8888888888888888,\"#fdca26\"],[1.0,\"#f0f921\"]]}],\"mesh3d\":[{\"type\":\"mesh3d\",\"colorbar\":{\"outlinewidth\":0,\"ticks\":\"\"}}],\"scatter\":[{\"fillpattern\":{\"fillmode\":\"overlay\",\"size\":10,\"solidity\":0.2},\"type\":\"scatter\"}],\"parcoords\":[{\"type\":\"parcoords\",\"line\":{\"colorbar\":{\"outlinewidth\":0,\"ticks\":\"\"}}}],\"scatterpolargl\":[{\"type\":\"scatterpolargl\",\"marker\":{\"colorbar\":{\"outlinewidth\":0,\"ticks\":\"\"}}}],\"bar\":[{\"error_x\":{\"color\":\"#2a3f5f\"},\"error_y\":{\"color\":\"#2a3f5f\"},\"marker\":{\"line\":{\"color\":\"#E5ECF6\",\"width\":0.5},\"pattern\":{\"fillmode\":\"overlay\",\"size\":10,\"solidity\":0.2}},\"type\":\"bar\"}],\"scattergeo\":[{\"type\":\"scattergeo\",\"marker\":{\"colorbar\":{\"outlinewidth\":0,\"ticks\":\"\"}}}],\"scatterpolar\":[{\"type\":\"scatterpolar\",\"marker\":{\"colorbar\":{\"outlinewidth\":0,\"ticks\":\"\"}}}],\"histogram\":[{\"marker\":{\"pattern\":{\"fillmode\":\"overlay\",\"size\":10,\"solidity\":0.2}},\"type\":\"histogram\"}],\"scattergl\":[{\"type\":\"scattergl\",\"marker\":{\"colorbar\":{\"outlinewidth\":0,\"ticks\":\"\"}}}],\"scatter3d\":[{\"type\":\"scatter3d\",\"line\":{\"colorbar\":{\"outlinewidth\":0,\"ticks\":\"\"}},\"marker\":{\"colorbar\":{\"outlinewidth\":0,\"ticks\":\"\"}}}],\"scattermapbox\":[{\"type\":\"scattermapbox\",\"marker\":{\"colorbar\":{\"outlinewidth\":0,\"ticks\":\"\"}}}],\"scatterternary\":[{\"type\":\"scatterternary\",\"marker\":{\"colorbar\":{\"outlinewidth\":0,\"ticks\":\"\"}}}],\"scattercarpet\":[{\"type\":\"scattercarpet\",\"marker\":{\"colorbar\":{\"outlinewidth\":0,\"ticks\":\"\"}}}],\"carpet\":[{\"aaxis\":{\"endlinecolor\":\"#2a3f5f\",\"gridcolor\":\"white\",\"linecolor\":\"white\",\"minorgridcolor\":\"white\",\"startlinecolor\":\"#2a3f5f\"},\"baxis\":{\"endlinecolor\":\"#2a3f5f\",\"gridcolor\":\"white\",\"linecolor\":\"white\",\"minorgridcolor\":\"white\",\"startlinecolor\":\"#2a3f5f\"},\"type\":\"carpet\"}],\"table\":[{\"cells\":{\"fill\":{\"color\":\"#EBF0F8\"},\"line\":{\"color\":\"white\"}},\"header\":{\"fill\":{\"color\":\"#C8D4E3\"},\"line\":{\"color\":\"white\"}},\"type\":\"table\"}],\"barpolar\":[{\"marker\":{\"line\":{\"color\":\"#E5ECF6\",\"width\":0.5},\"pattern\":{\"fillmode\":\"overlay\",\"size\":10,\"solidity\":0.2}},\"type\":\"barpolar\"}],\"pie\":[{\"automargin\":true,\"type\":\"pie\"}]},\"layout\":{\"autotypenumbers\":\"strict\",\"colorway\":[\"#636efa\",\"#EF553B\",\"#00cc96\",\"#ab63fa\",\"#FFA15A\",\"#19d3f3\",\"#FF6692\",\"#B6E880\",\"#FF97FF\",\"#FECB52\"],\"font\":{\"color\":\"#2a3f5f\"},\"hovermode\":\"closest\",\"hoverlabel\":{\"align\":\"left\"},\"paper_bgcolor\":\"white\",\"plot_bgcolor\":\"#E5ECF6\",\"polar\":{\"bgcolor\":\"#E5ECF6\",\"angularaxis\":{\"gridcolor\":\"white\",\"linecolor\":\"white\",\"ticks\":\"\"},\"radialaxis\":{\"gridcolor\":\"white\",\"linecolor\":\"white\",\"ticks\":\"\"}},\"ternary\":{\"bgcolor\":\"#E5ECF6\",\"aaxis\":{\"gridcolor\":\"white\",\"linecolor\":\"white\",\"ticks\":\"\"},\"baxis\":{\"gridcolor\":\"white\",\"linecolor\":\"white\",\"ticks\":\"\"},\"caxis\":{\"gridcolor\":\"white\",\"linecolor\":\"white\",\"ticks\":\"\"}},\"coloraxis\":{\"colorbar\":{\"outlinewidth\":0,\"ticks\":\"\"}},\"colorscale\":{\"sequential\":[[0.0,\"#0d0887\"],[0.1111111111111111,\"#46039f\"],[0.2222222222222222,\"#7201a8\"],[0.3333333333333333,\"#9c179e\"],[0.4444444444444444,\"#bd3786\"],[0.5555555555555556,\"#d8576b\"],[0.6666666666666666,\"#ed7953\"],[0.7777777777777778,\"#fb9f3a\"],[0.8888888888888888,\"#fdca26\"],[1.0,\"#f0f921\"]],\"sequentialminus\":[[0.0,\"#0d0887\"],[0.1111111111111111,\"#46039f\"],[0.2222222222222222,\"#7201a8\"],[0.3333333333333333,\"#9c179e\"],[0.4444444444444444,\"#bd3786\"],[0.5555555555555556,\"#d8576b\"],[0.6666666666666666,\"#ed7953\"],[0.7777777777777778,\"#fb9f3a\"],[0.8888888888888888,\"#fdca26\"],[1.0,\"#f0f921\"]],\"diverging\":[[0,\"#8e0152\"],[0.1,\"#c51b7d\"],[0.2,\"#de77ae\"],[0.3,\"#f1b6da\"],[0.4,\"#fde0ef\"],[0.5,\"#f7f7f7\"],[0.6,\"#e6f5d0\"],[0.7,\"#b8e186\"],[0.8,\"#7fbc41\"],[0.9,\"#4d9221\"],[1,\"#276419\"]]},\"xaxis\":{\"gridcolor\":\"white\",\"linecolor\":\"white\",\"ticks\":\"\",\"title\":{\"standoff\":15},\"zerolinecolor\":\"white\",\"automargin\":true,\"zerolinewidth\":2},\"yaxis\":{\"gridcolor\":\"white\",\"linecolor\":\"white\",\"ticks\":\"\",\"title\":{\"standoff\":15},\"zerolinecolor\":\"white\",\"automargin\":true,\"zerolinewidth\":2},\"scene\":{\"xaxis\":{\"backgroundcolor\":\"#E5ECF6\",\"gridcolor\":\"white\",\"linecolor\":\"white\",\"showbackground\":true,\"ticks\":\"\",\"zerolinecolor\":\"white\",\"gridwidth\":2},\"yaxis\":{\"backgroundcolor\":\"#E5ECF6\",\"gridcolor\":\"white\",\"linecolor\":\"white\",\"showbackground\":true,\"ticks\":\"\",\"zerolinecolor\":\"white\",\"gridwidth\":2},\"zaxis\":{\"backgroundcolor\":\"#E5ECF6\",\"gridcolor\":\"white\",\"linecolor\":\"white\",\"showbackground\":true,\"ticks\":\"\",\"zerolinecolor\":\"white\",\"gridwidth\":2}},\"shapedefaults\":{\"line\":{\"color\":\"#2a3f5f\"}},\"annotationdefaults\":{\"arrowcolor\":\"#2a3f5f\",\"arrowhead\":0,\"arrowwidth\":1},\"geo\":{\"bgcolor\":\"white\",\"landcolor\":\"#E5ECF6\",\"subunitcolor\":\"white\",\"showland\":true,\"showlakes\":true,\"lakecolor\":\"white\"},\"title\":{\"x\":0.05},\"mapbox\":{\"style\":\"light\"}}},\"title\":{\"text\":\"Meteors' Mass by Year\"}},                        {\"responsive\": true}                    ).then(function(){\n",
       "                            \n",
       "var gd = document.getElementById('87265a6c-6198-4d43-991c-8dd3acadad4b');\n",
       "var x = new MutationObserver(function (mutations, observer) {{\n",
       "        var display = window.getComputedStyle(gd).display;\n",
       "        if (!display || display === 'none') {{\n",
       "            console.log([gd, 'removed!']);\n",
       "            Plotly.purge(gd);\n",
       "            observer.disconnect();\n",
       "        }}\n",
       "}});\n",
       "\n",
       "// Listen for the removal of the full notebook cells\n",
       "var notebookContainer = gd.closest('#notebook-container');\n",
       "if (notebookContainer) {{\n",
       "    x.observe(notebookContainer, {childList: true});\n",
       "}}\n",
       "\n",
       "// Listen for the clearing of the current output cell\n",
       "var outputEl = gd.closest('.output');\n",
       "if (outputEl) {{\n",
       "    x.observe(outputEl, {childList: true});\n",
       "}}\n",
       "\n",
       "                        })                };                });            </script>        </div>"
      ]
     },
     "metadata": {},
     "output_type": "display_data"
    }
   ],
   "source": [
    "df.columns = [col.replace(\"mass (g)\", \"mass\") for col in df. columns]\n",
    "\n",
    "fig6 = go.Figure()\n",
    "\n",
    "fig6.add_trace(\n",
    "    go.Bar(\n",
    "        x =df.year, y = df.mass\n",
    "    ))\n",
    "fig6.update_layout(\n",
    "    title_text = \"Meteors' Mass by Year\"\n",
    "    \n",
    ")\n",
    "fig6.show()"
   ]
  },
  {
   "cell_type": "code",
   "execution_count": 28,
   "id": "285590b8-9d97-4ac4-984c-695e1e329a50",
   "metadata": {},
   "outputs": [
    {
     "data": {
      "application/vnd.plotly.v1+json": {
       "config": {
        "plotlyServerURL": "https://plot.ly"
       },
       "data": [
        {
         "type": "bar",
         "x": [
          2001,
          2004,
          1998,
          1997,
          1990,
          1979,
          1991,
          2002,
          1988,
          1979,
          1979,
          1993,
          1998,
          1890,
          1987,
          1999,
          1999,
          1988,
          1999,
          2003,
          2000,
          2004,
          1991,
          1999,
          2005,
          2004,
          1978,
          1998,
          2006,
          1974,
          1998,
          1998,
          2006,
          2003,
          2010,
          1933,
          2006,
          1829,
          2002,
          1974,
          2002,
          2011,
          2004,
          1984,
          1983,
          1979,
          2004,
          2009,
          2003,
          2004,
          1890,
          1995,
          1998,
          1974,
          1986,
          1996,
          2009,
          2009,
          1975,
          2001,
          2004,
          1999,
          1990,
          2005,
          2000,
          1866,
          2010,
          1979,
          1991,
          2003,
          2001,
          1980,
          2004,
          1987,
          1991,
          1980,
          1996,
          1998,
          1988,
          1977,
          1964,
          1997,
          2001,
          1991,
          1999,
          1990,
          1986,
          1997,
          1979,
          2003,
          2000,
          2001,
          1986,
          1940,
          2008,
          1999,
          2005,
          1986,
          1997,
          1986,
          2002,
          2001,
          2000,
          1998,
          2002,
          2003,
          1998,
          2006,
          1997,
          1998,
          2001,
          1990,
          2002,
          1986,
          1986,
          1979,
          2003,
          1877,
          1998,
          1993,
          1979,
          1980,
          1991,
          2006,
          2010,
          1986,
          2009,
          2003,
          1983,
          1991,
          1998,
          1850,
          2001,
          1998,
          2009,
          2010,
          2009,
          2004,
          2000,
          2003,
          1998,
          2009,
          2000,
          1979,
          1994,
          1997,
          2000,
          1987,
          2006,
          2003,
          1997,
          2003,
          1993,
          1990,
          1990,
          2006,
          1995,
          2009,
          1996,
          2003,
          1979,
          1986,
          1955,
          1984,
          2005,
          2009,
          2012,
          1988,
          1979,
          2006,
          2006,
          2002,
          2005,
          1873,
          2007,
          1988,
          2001,
          1967,
          1986,
          2003,
          1979,
          1964,
          1998,
          2006,
          1942,
          1988,
          2010,
          2006,
          2008,
          2001,
          1984,
          2003,
          1993,
          2005,
          2004,
          1969,
          1999,
          1986,
          1994,
          2009
         ],
         "y": [
          173,
          63,
          10.913,
          27.3,
          20.9,
          2048,
          150.1,
          13.16,
          87.49,
          3.03,
          31.03,
          1.2,
          9.217,
          1000,
          2.4,
          0.5,
          16.4,
          45.21,
          1.4,
          2.55,
          33.8,
          1.1,
          8.1,
          52.4,
          197.2,
          101.4,
          4.4,
          12.976,
          579,
          69.9,
          9.49,
          102.79,
          1.58,
          0.45,
          3879,
          5100,
          3.26,
          16300,
          3.49,
          0.54,
          17.54,
          4.6,
          613,
          48.2,
          8.6,
          24.2,
          0.74,
          8.3,
          7500,
          26.7,
          13600,
          34.1,
          45,
          56.82,
          1.59,
          8.4,
          7.3,
          1.7,
          2.09,
          74,
          495.4,
          89.6,
          420,
          849,
          208,
          8300,
          228,
          2.98,
          53.8,
          55.9,
          73,
          53,
          0.9,
          1230.8,
          587.7,
          8725,
          17.5,
          112.86,
          8.9,
          779.6,
          2250,
          3.8,
          188,
          37.1,
          86.1,
          68.4,
          3.54,
          244,
          9.97,
          12.31,
          18.7,
          78.8,
          18.2,
          4100,
          815,
          1095,
          254,
          9.2,
          31.9,
          1.48,
          165.8,
          406,
          35.8,
          86.63,
          1563.1,
          185.4,
          127.1,
          0.51,
          15.5,
          85,
          308,
          3.5,
          10175,
          11.1,
          5.9,
          3.19,
          0.56,
          30,
          11.09,
          11.9,
          29.42,
          27.8,
          92.7,
          78.36,
          111,
          62.4,
          4.7,
          144,
          23.7,
          215,
          4.93,
          500,
          1149,
          4.1,
          2.4,
          34.3,
          9.8,
          580,
          23,
          0.46,
          14.633,
          3.4,
          54,
          292.26,
          1.3,
          37.8,
          38.99,
          58.6,
          12.7,
          4.22,
          25.6,
          45.4,
          4.9,
          39.7,
          14.2,
          336,
          72.4,
          130.3,
          392.9,
          1006,
          8.14,
          10.86,
          12000,
          6.3,
          426,
          48.1,
          259,
          10.36,
          6175,
          1.33,
          4.37,
          187.5,
          27000,
          50000,
          20,
          9.5,
          1806,
          1443,
          1.22,
          1624,
          14.03,
          45000,
          5.86,
          87.7,
          2700,
          20.5,
          80.48,
          6.45,
          624,
          10.9,
          157.8,
          1788,
          2.5,
          1798.9,
          152,
          71000,
          170,
          9.13,
          5,
          4.2
         ]
        }
       ],
       "layout": {
        "autosize": true,
        "template": {
         "data": {
          "bar": [
           {
            "error_x": {
             "color": "#2a3f5f"
            },
            "error_y": {
             "color": "#2a3f5f"
            },
            "marker": {
             "line": {
              "color": "#E5ECF6",
              "width": 0.5
             },
             "pattern": {
              "fillmode": "overlay",
              "size": 10,
              "solidity": 0.2
             }
            },
            "type": "bar"
           }
          ],
          "barpolar": [
           {
            "marker": {
             "line": {
              "color": "#E5ECF6",
              "width": 0.5
             },
             "pattern": {
              "fillmode": "overlay",
              "size": 10,
              "solidity": 0.2
             }
            },
            "type": "barpolar"
           }
          ],
          "carpet": [
           {
            "aaxis": {
             "endlinecolor": "#2a3f5f",
             "gridcolor": "white",
             "linecolor": "white",
             "minorgridcolor": "white",
             "startlinecolor": "#2a3f5f"
            },
            "baxis": {
             "endlinecolor": "#2a3f5f",
             "gridcolor": "white",
             "linecolor": "white",
             "minorgridcolor": "white",
             "startlinecolor": "#2a3f5f"
            },
            "type": "carpet"
           }
          ],
          "choropleth": [
           {
            "colorbar": {
             "outlinewidth": 0,
             "ticks": ""
            },
            "type": "choropleth"
           }
          ],
          "contour": [
           {
            "colorbar": {
             "outlinewidth": 0,
             "ticks": ""
            },
            "colorscale": [
             [
              0,
              "#0d0887"
             ],
             [
              0.1111111111111111,
              "#46039f"
             ],
             [
              0.2222222222222222,
              "#7201a8"
             ],
             [
              0.3333333333333333,
              "#9c179e"
             ],
             [
              0.4444444444444444,
              "#bd3786"
             ],
             [
              0.5555555555555556,
              "#d8576b"
             ],
             [
              0.6666666666666666,
              "#ed7953"
             ],
             [
              0.7777777777777778,
              "#fb9f3a"
             ],
             [
              0.8888888888888888,
              "#fdca26"
             ],
             [
              1,
              "#f0f921"
             ]
            ],
            "type": "contour"
           }
          ],
          "contourcarpet": [
           {
            "colorbar": {
             "outlinewidth": 0,
             "ticks": ""
            },
            "type": "contourcarpet"
           }
          ],
          "heatmap": [
           {
            "colorbar": {
             "outlinewidth": 0,
             "ticks": ""
            },
            "colorscale": [
             [
              0,
              "#0d0887"
             ],
             [
              0.1111111111111111,
              "#46039f"
             ],
             [
              0.2222222222222222,
              "#7201a8"
             ],
             [
              0.3333333333333333,
              "#9c179e"
             ],
             [
              0.4444444444444444,
              "#bd3786"
             ],
             [
              0.5555555555555556,
              "#d8576b"
             ],
             [
              0.6666666666666666,
              "#ed7953"
             ],
             [
              0.7777777777777778,
              "#fb9f3a"
             ],
             [
              0.8888888888888888,
              "#fdca26"
             ],
             [
              1,
              "#f0f921"
             ]
            ],
            "type": "heatmap"
           }
          ],
          "heatmapgl": [
           {
            "colorbar": {
             "outlinewidth": 0,
             "ticks": ""
            },
            "colorscale": [
             [
              0,
              "#0d0887"
             ],
             [
              0.1111111111111111,
              "#46039f"
             ],
             [
              0.2222222222222222,
              "#7201a8"
             ],
             [
              0.3333333333333333,
              "#9c179e"
             ],
             [
              0.4444444444444444,
              "#bd3786"
             ],
             [
              0.5555555555555556,
              "#d8576b"
             ],
             [
              0.6666666666666666,
              "#ed7953"
             ],
             [
              0.7777777777777778,
              "#fb9f3a"
             ],
             [
              0.8888888888888888,
              "#fdca26"
             ],
             [
              1,
              "#f0f921"
             ]
            ],
            "type": "heatmapgl"
           }
          ],
          "histogram": [
           {
            "marker": {
             "pattern": {
              "fillmode": "overlay",
              "size": 10,
              "solidity": 0.2
             }
            },
            "type": "histogram"
           }
          ],
          "histogram2d": [
           {
            "colorbar": {
             "outlinewidth": 0,
             "ticks": ""
            },
            "colorscale": [
             [
              0,
              "#0d0887"
             ],
             [
              0.1111111111111111,
              "#46039f"
             ],
             [
              0.2222222222222222,
              "#7201a8"
             ],
             [
              0.3333333333333333,
              "#9c179e"
             ],
             [
              0.4444444444444444,
              "#bd3786"
             ],
             [
              0.5555555555555556,
              "#d8576b"
             ],
             [
              0.6666666666666666,
              "#ed7953"
             ],
             [
              0.7777777777777778,
              "#fb9f3a"
             ],
             [
              0.8888888888888888,
              "#fdca26"
             ],
             [
              1,
              "#f0f921"
             ]
            ],
            "type": "histogram2d"
           }
          ],
          "histogram2dcontour": [
           {
            "colorbar": {
             "outlinewidth": 0,
             "ticks": ""
            },
            "colorscale": [
             [
              0,
              "#0d0887"
             ],
             [
              0.1111111111111111,
              "#46039f"
             ],
             [
              0.2222222222222222,
              "#7201a8"
             ],
             [
              0.3333333333333333,
              "#9c179e"
             ],
             [
              0.4444444444444444,
              "#bd3786"
             ],
             [
              0.5555555555555556,
              "#d8576b"
             ],
             [
              0.6666666666666666,
              "#ed7953"
             ],
             [
              0.7777777777777778,
              "#fb9f3a"
             ],
             [
              0.8888888888888888,
              "#fdca26"
             ],
             [
              1,
              "#f0f921"
             ]
            ],
            "type": "histogram2dcontour"
           }
          ],
          "mesh3d": [
           {
            "colorbar": {
             "outlinewidth": 0,
             "ticks": ""
            },
            "type": "mesh3d"
           }
          ],
          "parcoords": [
           {
            "line": {
             "colorbar": {
              "outlinewidth": 0,
              "ticks": ""
             }
            },
            "type": "parcoords"
           }
          ],
          "pie": [
           {
            "automargin": true,
            "type": "pie"
           }
          ],
          "scatter": [
           {
            "fillpattern": {
             "fillmode": "overlay",
             "size": 10,
             "solidity": 0.2
            },
            "type": "scatter"
           }
          ],
          "scatter3d": [
           {
            "line": {
             "colorbar": {
              "outlinewidth": 0,
              "ticks": ""
             }
            },
            "marker": {
             "colorbar": {
              "outlinewidth": 0,
              "ticks": ""
             }
            },
            "type": "scatter3d"
           }
          ],
          "scattercarpet": [
           {
            "marker": {
             "colorbar": {
              "outlinewidth": 0,
              "ticks": ""
             }
            },
            "type": "scattercarpet"
           }
          ],
          "scattergeo": [
           {
            "marker": {
             "colorbar": {
              "outlinewidth": 0,
              "ticks": ""
             }
            },
            "type": "scattergeo"
           }
          ],
          "scattergl": [
           {
            "marker": {
             "colorbar": {
              "outlinewidth": 0,
              "ticks": ""
             }
            },
            "type": "scattergl"
           }
          ],
          "scattermapbox": [
           {
            "marker": {
             "colorbar": {
              "outlinewidth": 0,
              "ticks": ""
             }
            },
            "type": "scattermapbox"
           }
          ],
          "scatterpolar": [
           {
            "marker": {
             "colorbar": {
              "outlinewidth": 0,
              "ticks": ""
             }
            },
            "type": "scatterpolar"
           }
          ],
          "scatterpolargl": [
           {
            "marker": {
             "colorbar": {
              "outlinewidth": 0,
              "ticks": ""
             }
            },
            "type": "scatterpolargl"
           }
          ],
          "scatterternary": [
           {
            "marker": {
             "colorbar": {
              "outlinewidth": 0,
              "ticks": ""
             }
            },
            "type": "scatterternary"
           }
          ],
          "surface": [
           {
            "colorbar": {
             "outlinewidth": 0,
             "ticks": ""
            },
            "colorscale": [
             [
              0,
              "#0d0887"
             ],
             [
              0.1111111111111111,
              "#46039f"
             ],
             [
              0.2222222222222222,
              "#7201a8"
             ],
             [
              0.3333333333333333,
              "#9c179e"
             ],
             [
              0.4444444444444444,
              "#bd3786"
             ],
             [
              0.5555555555555556,
              "#d8576b"
             ],
             [
              0.6666666666666666,
              "#ed7953"
             ],
             [
              0.7777777777777778,
              "#fb9f3a"
             ],
             [
              0.8888888888888888,
              "#fdca26"
             ],
             [
              1,
              "#f0f921"
             ]
            ],
            "type": "surface"
           }
          ],
          "table": [
           {
            "cells": {
             "fill": {
              "color": "#EBF0F8"
             },
             "line": {
              "color": "white"
             }
            },
            "header": {
             "fill": {
              "color": "#C8D4E3"
             },
             "line": {
              "color": "white"
             }
            },
            "type": "table"
           }
          ]
         },
         "layout": {
          "annotationdefaults": {
           "arrowcolor": "#2a3f5f",
           "arrowhead": 0,
           "arrowwidth": 1
          },
          "autotypenumbers": "strict",
          "coloraxis": {
           "colorbar": {
            "outlinewidth": 0,
            "ticks": ""
           }
          },
          "colorscale": {
           "diverging": [
            [
             0,
             "#8e0152"
            ],
            [
             0.1,
             "#c51b7d"
            ],
            [
             0.2,
             "#de77ae"
            ],
            [
             0.3,
             "#f1b6da"
            ],
            [
             0.4,
             "#fde0ef"
            ],
            [
             0.5,
             "#f7f7f7"
            ],
            [
             0.6,
             "#e6f5d0"
            ],
            [
             0.7,
             "#b8e186"
            ],
            [
             0.8,
             "#7fbc41"
            ],
            [
             0.9,
             "#4d9221"
            ],
            [
             1,
             "#276419"
            ]
           ],
           "sequential": [
            [
             0,
             "#0d0887"
            ],
            [
             0.1111111111111111,
             "#46039f"
            ],
            [
             0.2222222222222222,
             "#7201a8"
            ],
            [
             0.3333333333333333,
             "#9c179e"
            ],
            [
             0.4444444444444444,
             "#bd3786"
            ],
            [
             0.5555555555555556,
             "#d8576b"
            ],
            [
             0.6666666666666666,
             "#ed7953"
            ],
            [
             0.7777777777777778,
             "#fb9f3a"
            ],
            [
             0.8888888888888888,
             "#fdca26"
            ],
            [
             1,
             "#f0f921"
            ]
           ],
           "sequentialminus": [
            [
             0,
             "#0d0887"
            ],
            [
             0.1111111111111111,
             "#46039f"
            ],
            [
             0.2222222222222222,
             "#7201a8"
            ],
            [
             0.3333333333333333,
             "#9c179e"
            ],
            [
             0.4444444444444444,
             "#bd3786"
            ],
            [
             0.5555555555555556,
             "#d8576b"
            ],
            [
             0.6666666666666666,
             "#ed7953"
            ],
            [
             0.7777777777777778,
             "#fb9f3a"
            ],
            [
             0.8888888888888888,
             "#fdca26"
            ],
            [
             1,
             "#f0f921"
            ]
           ]
          },
          "colorway": [
           "#636efa",
           "#EF553B",
           "#00cc96",
           "#ab63fa",
           "#FFA15A",
           "#19d3f3",
           "#FF6692",
           "#B6E880",
           "#FF97FF",
           "#FECB52"
          ],
          "font": {
           "color": "#2a3f5f"
          },
          "geo": {
           "bgcolor": "white",
           "lakecolor": "white",
           "landcolor": "#E5ECF6",
           "showlakes": true,
           "showland": true,
           "subunitcolor": "white"
          },
          "hoverlabel": {
           "align": "left"
          },
          "hovermode": "closest",
          "mapbox": {
           "style": "light"
          },
          "paper_bgcolor": "white",
          "plot_bgcolor": "#E5ECF6",
          "polar": {
           "angularaxis": {
            "gridcolor": "white",
            "linecolor": "white",
            "ticks": ""
           },
           "bgcolor": "#E5ECF6",
           "radialaxis": {
            "gridcolor": "white",
            "linecolor": "white",
            "ticks": ""
           }
          },
          "scene": {
           "xaxis": {
            "backgroundcolor": "#E5ECF6",
            "gridcolor": "white",
            "gridwidth": 2,
            "linecolor": "white",
            "showbackground": true,
            "ticks": "",
            "zerolinecolor": "white"
           },
           "yaxis": {
            "backgroundcolor": "#E5ECF6",
            "gridcolor": "white",
            "gridwidth": 2,
            "linecolor": "white",
            "showbackground": true,
            "ticks": "",
            "zerolinecolor": "white"
           },
           "zaxis": {
            "backgroundcolor": "#E5ECF6",
            "gridcolor": "white",
            "gridwidth": 2,
            "linecolor": "white",
            "showbackground": true,
            "ticks": "",
            "zerolinecolor": "white"
           }
          },
          "shapedefaults": {
           "line": {
            "color": "#2a3f5f"
           }
          },
          "ternary": {
           "aaxis": {
            "gridcolor": "white",
            "linecolor": "white",
            "ticks": ""
           },
           "baxis": {
            "gridcolor": "white",
            "linecolor": "white",
            "ticks": ""
           },
           "bgcolor": "#E5ECF6",
           "caxis": {
            "gridcolor": "white",
            "linecolor": "white",
            "ticks": ""
           }
          },
          "title": {
           "x": 0.05
          },
          "xaxis": {
           "automargin": true,
           "gridcolor": "white",
           "linecolor": "white",
           "ticks": "",
           "title": {
            "standoff": 15
           },
           "zerolinecolor": "white",
           "zerolinewidth": 2
          },
          "yaxis": {
           "automargin": true,
           "gridcolor": "white",
           "linecolor": "white",
           "ticks": "",
           "title": {
            "standoff": 15
           },
           "zerolinecolor": "white",
           "zerolinewidth": 2
          }
         }
        },
        "title": {
         "text": "Meteors' Mass by Year"
        },
        "xaxis": {
         "autorange": true,
         "range": [
          "1828-07-02 12:00",
          "2012-07-01 12:00"
         ],
         "rangeslider": {
          "autorange": true,
          "range": [
           "1828-07-02 12:00",
           "2012-07-01 12:00"
          ],
          "visible": true,
          "yaxis": {
           "_template": null,
           "rangemode": "match"
          }
         },
         "type": "date"
        },
        "yaxis": {
         "autorange": true,
         "range": [
          0,
          74736.84210526316
         ],
         "type": "linear"
        }
       }
      },
      "image/png": "[encoded data removed]",
      "text/html": [
       "<div>                            <div id=\"a4f81cda-0049-4bdd-b5b4-a82efae49a1e\" class=\"plotly-graph-div\" style=\"height:525px; width:100%;\"></div>            <script type=\"text/javascript\">                require([\"plotly\"], function(Plotly) {                    window.PLOTLYENV=window.PLOTLYENV || {};                                    if (document.getElementById(\"a4f81cda-0049-4bdd-b5b4-a82efae49a1e\")) {                    Plotly.newPlot(                        \"a4f81cda-0049-4bdd-b5b4-a82efae49a1e\",                        [{\"x\":[2001.0,2004.0,1998.0,1997.0,1990.0,1979.0,1991.0,2002.0,1988.0,1979.0,1979.0,1993.0,1998.0,1890.0,1987.0,1999.0,1999.0,1988.0,1999.0,2003.0,2000.0,2004.0,1991.0,1999.0,2005.0,2004.0,1978.0,1998.0,2006.0,1974.0,1998.0,1998.0,2006.0,2003.0,2010.0,1933.0,2006.0,1829.0,2002.0,1974.0,2002.0,2011.0,2004.0,1984.0,1983.0,1979.0,2004.0,2009.0,2003.0,2004.0,1890.0,1995.0,1998.0,1974.0,1986.0,1996.0,2009.0,2009.0,1975.0,2001.0,2004.0,1999.0,1990.0,2005.0,2000.0,1866.0,2010.0,1979.0,1991.0,2003.0,2001.0,1980.0,2004.0,1987.0,1991.0,1980.0,1996.0,1998.0,1988.0,1977.0,1964.0,1997.0,2001.0,1991.0,1999.0,1990.0,1986.0,1997.0,1979.0,2003.0,2000.0,2001.0,1986.0,1940.0,2008.0,1999.0,2005.0,1986.0,1997.0,1986.0,2002.0,2001.0,2000.0,1998.0,2002.0,2003.0,1998.0,2006.0,1997.0,1998.0,2001.0,1990.0,2002.0,1986.0,1986.0,1979.0,2003.0,1877.0,1998.0,1993.0,1979.0,1980.0,1991.0,2006.0,2010.0,1986.0,2009.0,2003.0,1983.0,1991.0,1998.0,1850.0,2001.0,1998.0,2009.0,2010.0,2009.0,2004.0,2000.0,2003.0,1998.0,2009.0,2000.0,1979.0,1994.0,1997.0,2000.0,1987.0,2006.0,2003.0,1997.0,2003.0,1993.0,1990.0,1990.0,2006.0,1995.0,2009.0,1996.0,2003.0,1979.0,1986.0,1955.0,1984.0,2005.0,2009.0,2012.0,1988.0,1979.0,2006.0,2006.0,2002.0,2005.0,1873.0,2007.0,1988.0,2001.0,1967.0,1986.0,2003.0,1979.0,1964.0,1998.0,2006.0,1942.0,1988.0,2010.0,2006.0,2008.0,2001.0,1984.0,2003.0,1993.0,2005.0,2004.0,1969.0,1999.0,1986.0,1994.0,2009.0],\"y\":[173.0,63.0,10.913,27.3,20.9,2048.0,150.1,13.16,87.49,3.03,31.03,1.2,9.217,1000.0,2.4,0.5,16.4,45.21,1.4,2.55,33.8,1.1,8.1,52.4,197.2,101.4,4.4,12.976,579.0,69.9,9.49,102.79,1.58,0.45,3879.0,5100.0,3.26,16300.0,3.49,0.54,17.54,4.6,613.0,48.2,8.6,24.2,0.74,8.3,7500.0,26.7,13600.0,34.1,45.0,56.82,1.59,8.4,7.3,1.7,2.09,74.0,495.4,89.6,420.0,849.0,208.0,8300.0,228.0,2.98,53.8,55.9,73.0,53.0,0.9,1230.8,587.7,8725.0,17.5,112.86,8.9,779.6,2250.0,3.8,188.0,37.1,86.1,68.4,3.54,244.0,9.97,12.31,18.7,78.8,18.2,4100.0,815.0,1095.0,254.0,9.2,31.9,1.48,165.8,406.0,35.8,86.63,1563.1,185.4,127.1,0.51,15.5,85.0,308.0,3.5,10175.0,11.1,5.9,3.19,0.56,30.0,11.09,11.9,29.42,27.8,92.7,78.36,111.0,62.4,4.7,144.0,23.7,215.0,4.93,500.0,1149.0,4.1,2.4,34.3,9.8,580.0,23.0,0.46,14.633,3.4,54.0,292.26,1.3,37.8,38.99,58.6,12.7,4.22,25.6,45.4,4.9,39.7,14.2,336.0,72.4,130.3,392.9,1006.0,8.14,10.86,12000.0,6.3,426.0,48.1,259.0,10.36,6175.0,1.33,4.37,187.5,27000.0,50000.0,20.0,9.5,1806.0,1443.0,1.22,1624.0,14.03,45000.0,5.86,87.7,2700.0,20.5,80.48,6.45,624.0,10.9,157.8,1788.0,2.5,1798.9,152.0,71000.0,170.0,9.13,5.0,4.2],\"type\":\"bar\"}],                        {\"template\":{\"data\":{\"histogram2dcontour\":[{\"type\":\"histogram2dcontour\",\"colorbar\":{\"outlinewidth\":0,\"ticks\":\"\"},\"colorscale\":[[0.0,\"#0d0887\"],[0.1111111111111111,\"#46039f\"],[0.2222222222222222,\"#7201a8\"],[0.3333333333333333,\"#9c179e\"],[0.4444444444444444,\"#bd3786\"],[0.5555555555555556,\"#d8576b\"],[0.6666666666666666,\"#ed7953\"],[0.7777777777777778,\"#fb9f3a\"],[0.8888888888888888,\"#fdca26\"],[1.0,\"#f0f921\"]]}],\"choropleth\":[{\"type\":\"choropleth\",\"colorbar\":{\"outlinewidth\":0,\"ticks\":\"\"}}],\"histogram2d\":[{\"type\":\"histogram2d\",\"colorbar\":{\"outlinewidth\":0,\"ticks\":\"\"},\"colorscale\":[[0.0,\"#0d0887\"],[0.1111111111111111,\"#46039f\"],[0.2222222222222222,\"#7201a8\"],[0.3333333333333333,\"#9c179e\"],[0.4444444444444444,\"#bd3786\"],[0.5555555555555556,\"#d8576b\"],[0.6666666666666666,\"#ed7953\"],[0.7777777777777778,\"#fb9f3a\"],[0.8888888888888888,\"#fdca26\"],[1.0,\"#f0f921\"]]}],\"heatmap\":[{\"type\":\"heatmap\",\"colorbar\":{\"outlinewidth\":0,\"ticks\":\"\"},\"colorscale\":[[0.0,\"#0d0887\"],[0.1111111111111111,\"#46039f\"],[0.2222222222222222,\"#7201a8\"],[0.3333333333333333,\"#9c179e\"],[0.4444444444444444,\"#bd3786\"],[0.5555555555555556,\"#d8576b\"],[0.6666666666666666,\"#ed7953\"],[0.7777777777777778,\"#fb9f3a\"],[0.8888888888888888,\"#fdca26\"],[1.0,\"#f0f921\"]]}],\"heatmapgl\":[{\"type\":\"heatmapgl\",\"colorbar\":{\"outlinewidth\":0,\"ticks\":\"\"},\"colorscale\":[[0.0,\"#0d0887\"],[0.1111111111111111,\"#46039f\"],[0.2222222222222222,\"#7201a8\"],[0.3333333333333333,\"#9c179e\"],[0.4444444444444444,\"#bd3786\"],[0.5555555555555556,\"#d8576b\"],[0.6666666666666666,\"#ed7953\"],[0.7777777777777778,\"#fb9f3a\"],[0.8888888888888888,\"#fdca26\"],[1.0,\"#f0f921\"]]}],\"contourcarpet\":[{\"type\":\"contourcarpet\",\"colorbar\":{\"outlinewidth\":0,\"ticks\":\"\"}}],\"contour\":[{\"type\":\"contour\",\"colorbar\":{\"outlinewidth\":0,\"ticks\":\"\"},\"colorscale\":[[0.0,\"#0d0887\"],[0.1111111111111111,\"#46039f\"],[0.2222222222222222,\"#7201a8\"],[0.3333333333333333,\"#9c179e\"],[0.4444444444444444,\"#bd3786\"],[0.5555555555555556,\"#d8576b\"],[0.6666666666666666,\"#ed7953\"],[0.7777777777777778,\"#fb9f3a\"],[0.8888888888888888,\"#fdca26\"],[1.0,\"#f0f921\"]]}],\"surface\":[{\"type\":\"surface\",\"colorbar\":{\"outlinewidth\":0,\"ticks\":\"\"},\"colorscale\":[[0.0,\"#0d0887\"],[0.1111111111111111,\"#46039f\"],[0.2222222222222222,\"#7201a8\"],[0.3333333333333333,\"#9c179e\"],[0.4444444444444444,\"#bd3786\"],[0.5555555555555556,\"#d8576b\"],[0.6666666666666666,\"#ed7953\"],[0.7777777777777778,\"#fb9f3a\"],[0.8888888888888888,\"#fdca26\"],[1.0,\"#f0f921\"]]}],\"mesh3d\":[{\"type\":\"mesh3d\",\"colorbar\":{\"outlinewidth\":0,\"ticks\":\"\"}}],\"scatter\":[{\"fillpattern\":{\"fillmode\":\"overlay\",\"size\":10,\"solidity\":0.2},\"type\":\"scatter\"}],\"parcoords\":[{\"type\":\"parcoords\",\"line\":{\"colorbar\":{\"outlinewidth\":0,\"ticks\":\"\"}}}],\"scatterpolargl\":[{\"type\":\"scatterpolargl\",\"marker\":{\"colorbar\":{\"outlinewidth\":0,\"ticks\":\"\"}}}],\"bar\":[{\"error_x\":{\"color\":\"#2a3f5f\"},\"error_y\":{\"color\":\"#2a3f5f\"},\"marker\":{\"line\":{\"color\":\"#E5ECF6\",\"width\":0.5},\"pattern\":{\"fillmode\":\"overlay\",\"size\":10,\"solidity\":0.2}},\"type\":\"bar\"}],\"scattergeo\":[{\"type\":\"scattergeo\",\"marker\":{\"colorbar\":{\"outlinewidth\":0,\"ticks\":\"\"}}}],\"scatterpolar\":[{\"type\":\"scatterpolar\",\"marker\":{\"colorbar\":{\"outlinewidth\":0,\"ticks\":\"\"}}}],\"histogram\":[{\"marker\":{\"pattern\":{\"fillmode\":\"overlay\",\"size\":10,\"solidity\":0.2}},\"type\":\"histogram\"}],\"scattergl\":[{\"type\":\"scattergl\",\"marker\":{\"colorbar\":{\"outlinewidth\":0,\"ticks\":\"\"}}}],\"scatter3d\":[{\"type\":\"scatter3d\",\"line\":{\"colorbar\":{\"outlinewidth\":0,\"ticks\":\"\"}},\"marker\":{\"colorbar\":{\"outlinewidth\":0,\"ticks\":\"\"}}}],\"scattermapbox\":[{\"type\":\"scattermapbox\",\"marker\":{\"colorbar\":{\"outlinewidth\":0,\"ticks\":\"\"}}}],\"scatterternary\":[{\"type\":\"scatterternary\",\"marker\":{\"colorbar\":{\"outlinewidth\":0,\"ticks\":\"\"}}}],\"scattercarpet\":[{\"type\":\"scattercarpet\",\"marker\":{\"colorbar\":{\"outlinewidth\":0,\"ticks\":\"\"}}}],\"carpet\":[{\"aaxis\":{\"endlinecolor\":\"#2a3f5f\",\"gridcolor\":\"white\",\"linecolor\":\"white\",\"minorgridcolor\":\"white\",\"startlinecolor\":\"#2a3f5f\"},\"baxis\":{\"endlinecolor\":\"#2a3f5f\",\"gridcolor\":\"white\",\"linecolor\":\"white\",\"minorgridcolor\":\"white\",\"startlinecolor\":\"#2a3f5f\"},\"type\":\"carpet\"}],\"table\":[{\"cells\":{\"fill\":{\"color\":\"#EBF0F8\"},\"line\":{\"color\":\"white\"}},\"header\":{\"fill\":{\"color\":\"#C8D4E3\"},\"line\":{\"color\":\"white\"}},\"type\":\"table\"}],\"barpolar\":[{\"marker\":{\"line\":{\"color\":\"#E5ECF6\",\"width\":0.5},\"pattern\":{\"fillmode\":\"overlay\",\"size\":10,\"solidity\":0.2}},\"type\":\"barpolar\"}],\"pie\":[{\"automargin\":true,\"type\":\"pie\"}]},\"layout\":{\"autotypenumbers\":\"strict\",\"colorway\":[\"#636efa\",\"#EF553B\",\"#00cc96\",\"#ab63fa\",\"#FFA15A\",\"#19d3f3\",\"#FF6692\",\"#B6E880\",\"#FF97FF\",\"#FECB52\"],\"font\":{\"color\":\"#2a3f5f\"},\"hovermode\":\"closest\",\"hoverlabel\":{\"align\":\"left\"},\"paper_bgcolor\":\"white\",\"plot_bgcolor\":\"#E5ECF6\",\"polar\":{\"bgcolor\":\"#E5ECF6\",\"angularaxis\":{\"gridcolor\":\"white\",\"linecolor\":\"white\",\"ticks\":\"\"},\"radialaxis\":{\"gridcolor\":\"white\",\"linecolor\":\"white\",\"ticks\":\"\"}},\"ternary\":{\"bgcolor\":\"#E5ECF6\",\"aaxis\":{\"gridcolor\":\"white\",\"linecolor\":\"white\",\"ticks\":\"\"},\"baxis\":{\"gridcolor\":\"white\",\"linecolor\":\"white\",\"ticks\":\"\"},\"caxis\":{\"gridcolor\":\"white\",\"linecolor\":\"white\",\"ticks\":\"\"}},\"coloraxis\":{\"colorbar\":{\"outlinewidth\":0,\"ticks\":\"\"}},\"colorscale\":{\"sequential\":[[0.0,\"#0d0887\"],[0.1111111111111111,\"#46039f\"],[0.2222222222222222,\"#7201a8\"],[0.3333333333333333,\"#9c179e\"],[0.4444444444444444,\"#bd3786\"],[0.5555555555555556,\"#d8576b\"],[0.6666666666666666,\"#ed7953\"],[0.7777777777777778,\"#fb9f3a\"],[0.8888888888888888,\"#fdca26\"],[1.0,\"#f0f921\"]],\"sequentialminus\":[[0.0,\"#0d0887\"],[0.1111111111111111,\"#46039f\"],[0.2222222222222222,\"#7201a8\"],[0.3333333333333333,\"#9c179e\"],[0.4444444444444444,\"#bd3786\"],[0.5555555555555556,\"#d8576b\"],[0.6666666666666666,\"#ed7953\"],[0.7777777777777778,\"#fb9f3a\"],[0.8888888888888888,\"#fdca26\"],[1.0,\"#f0f921\"]],\"diverging\":[[0,\"#8e0152\"],[0.1,\"#c51b7d\"],[0.2,\"#de77ae\"],[0.3,\"#f1b6da\"],[0.4,\"#fde0ef\"],[0.5,\"#f7f7f7\"],[0.6,\"#e6f5d0\"],[0.7,\"#b8e186\"],[0.8,\"#7fbc41\"],[0.9,\"#4d9221\"],[1,\"#276419\"]]},\"xaxis\":{\"gridcolor\":\"white\",\"linecolor\":\"white\",\"ticks\":\"\",\"title\":{\"standoff\":15},\"zerolinecolor\":\"white\",\"automargin\":true,\"zerolinewidth\":2},\"yaxis\":{\"gridcolor\":\"white\",\"linecolor\":\"white\",\"ticks\":\"\",\"title\":{\"standoff\":15},\"zerolinecolor\":\"white\",\"automargin\":true,\"zerolinewidth\":2},\"scene\":{\"xaxis\":{\"backgroundcolor\":\"#E5ECF6\",\"gridcolor\":\"white\",\"linecolor\":\"white\",\"showbackground\":true,\"ticks\":\"\",\"zerolinecolor\":\"white\",\"gridwidth\":2},\"yaxis\":{\"backgroundcolor\":\"#E5ECF6\",\"gridcolor\":\"white\",\"linecolor\":\"white\",\"showbackground\":true,\"ticks\":\"\",\"zerolinecolor\":\"white\",\"gridwidth\":2},\"zaxis\":{\"backgroundcolor\":\"#E5ECF6\",\"gridcolor\":\"white\",\"linecolor\":\"white\",\"showbackground\":true,\"ticks\":\"\",\"zerolinecolor\":\"white\",\"gridwidth\":2}},\"shapedefaults\":{\"line\":{\"color\":\"#2a3f5f\"}},\"annotationdefaults\":{\"arrowcolor\":\"#2a3f5f\",\"arrowhead\":0,\"arrowwidth\":1},\"geo\":{\"bgcolor\":\"white\",\"landcolor\":\"#E5ECF6\",\"subunitcolor\":\"white\",\"showland\":true,\"showlakes\":true,\"lakecolor\":\"white\"},\"title\":{\"x\":0.05},\"mapbox\":{\"style\":\"light\"}}},\"title\":{\"text\":\"Meteors' Mass by Year\"},\"xaxis\":{\"rangeslider\":{\"visible\":true},\"type\":\"date\"}},                        {\"responsive\": true}                    ).then(function(){\n",
       "                            \n",
       "var gd = document.getElementById('a4f81cda-0049-4bdd-b5b4-a82efae49a1e');\n",
       "var x = new MutationObserver(function (mutations, observer) {{\n",
       "        var display = window.getComputedStyle(gd).display;\n",
       "        if (!display || display === 'none') {{\n",
       "            console.log([gd, 'removed!']);\n",
       "            Plotly.purge(gd);\n",
       "            observer.disconnect();\n",
       "        }}\n",
       "}});\n",
       "\n",
       "// Listen for the removal of the full notebook cells\n",
       "var notebookContainer = gd.closest('#notebook-container');\n",
       "if (notebookContainer) {{\n",
       "    x.observe(notebookContainer, {childList: true});\n",
       "}}\n",
       "\n",
       "// Listen for the clearing of the current output cell\n",
       "var outputEl = gd.closest('.output');\n",
       "if (outputEl) {{\n",
       "    x.observe(outputEl, {childList: true});\n",
       "}}\n",
       "\n",
       "                        })                };                });            </script>        </div>"
      ]
     },
     "metadata": {},
     "output_type": "display_data"
    }
   ],
   "source": [
    "fig7 = go.Figure()\n",
    "\n",
    "fig7.add_trace(\n",
    "    go.Bar(\n",
    "        x = df.year, y = df.mass\n",
    "    ))\n",
    "fig7.update_layout(\n",
    "    title_text = \"Meteors' Mass by Year\"\n",
    "    \n",
    ")\n",
    "\n",
    "fig7.update_layout(\n",
    "    xaxis = dict(\n",
    "        rangeslider = dict(\n",
    "        visible = True\n",
    "    ),\n",
    "    type = \"date\"\n",
    "    )\n",
    ")\n",
    "fig7.show()"
   ]
  },
  {
   "cell_type": "code",
   "execution_count": null,
   "id": "2207ff67-e36b-4b57-ad5b-63dab71f0abf",
   "metadata": {},
   "outputs": [],
   "source": []
  },
  {
   "cell_type": "code",
   "execution_count": null,
   "id": "d6280837-44d2-4f2b-9eef-3dddba112b65",
   "metadata": {},
   "outputs": [],
   "source": []
  }
 ],
 "metadata": {
  "kernelspec": {
   "display_name": "Python 3 (ipykernel)",
   "language": "python",
   "name": "python3"
  },
  "language_info": {
   "codemirror_mode": {
    "name": "ipython",
    "version": 3
   },
   "file_extension": ".py",
   "mimetype": "text/x-python",
   "name": "python",
   "nbconvert_exporter": "python",
   "pygments_lexer": "ipython3",
   "version": "3.12.8"
  }
 },
 "nbformat": 4,
 "nbformat_minor": 5
}
