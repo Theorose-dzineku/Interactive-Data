{
 "cells": [
  {
   "cell_type": "code",
   "execution_count": 1,
   "id": "aa82989e-aa84-441c-9cf3-371bb620e064",
   "metadata": {},
   "outputs": [],
   "source": [
    "import pandas as pd"
   ]
  },
  {
   "cell_type": "markdown",
   "id": "df111a11-d969-4688-ad9b-a8243eaccc61",
   "metadata": {},
   "source": [
    "#Import pandas as pd and create a new DataFrame that contains three columns and three rows."
   ]
  },
  {
   "cell_type": "code",
   "execution_count": 2,
   "id": "8db894b4-4275-4be1-b2be-675225e40cac",
   "metadata": {},
   "outputs": [
    {
     "name": "stdout",
     "output_type": "stream",
     "text": [
      "  Country   Drink   Color\n",
      "0   Ghana  Coffee  Yellow\n",
      "1   Niger   Asana   White\n",
      "2  Canada     Tea   Green\n",
      "3   Italy    Wine     Red\n"
     ]
    }
   ],
   "source": [
    "Sdata = {\n",
    "    'Country': ['Ghana', 'Niger', 'Canada','Italy'], \n",
    "    'Drink': ['Coffee', 'Asana', 'Tea', 'Wine'], \n",
    "    'Color': ['Yellow', 'White', 'Green','Red']\n",
    "}\n",
    "Sdf = pd.DataFrame(Sdata)\n",
    "print(Sdf)"
   ]
  },
  {
   "cell_type": "markdown",
   "id": "26381201-036f-43cd-9f93-1210605e00c0",
   "metadata": {},
   "source": [
    "#In a new code cell, view the head of the DataFrame"
   ]
  },
  {
   "cell_type": "code",
   "execution_count": 3,
   "id": "e298019d-b46e-4f7c-a792-3fd7fc8973de",
   "metadata": {},
   "outputs": [
    {
     "data": {
      "text/html": [
       "<div>\n",
       "<style scoped>\n",
       "    .dataframe tbody tr th:only-of-type {\n",
       "        vertical-align: middle;\n",
       "    }\n",
       "\n",
       "    .dataframe tbody tr th {\n",
       "        vertical-align: top;\n",
       "    }\n",
       "\n",
       "    .dataframe thead th {\n",
       "        text-align: right;\n",
       "    }\n",
       "</style>\n",
       "<table border=\"1\" class=\"dataframe\">\n",
       "  <thead>\n",
       "    <tr style=\"text-align: right;\">\n",
       "      <th></th>\n",
       "      <th>Country</th>\n",
       "      <th>Drink</th>\n",
       "      <th>Color</th>\n",
       "    </tr>\n",
       "  </thead>\n",
       "  <tbody>\n",
       "    <tr>\n",
       "      <th>0</th>\n",
       "      <td>Ghana</td>\n",
       "      <td>Coffee</td>\n",
       "      <td>Yellow</td>\n",
       "    </tr>\n",
       "    <tr>\n",
       "      <th>1</th>\n",
       "      <td>Niger</td>\n",
       "      <td>Asana</td>\n",
       "      <td>White</td>\n",
       "    </tr>\n",
       "    <tr>\n",
       "      <th>2</th>\n",
       "      <td>Canada</td>\n",
       "      <td>Tea</td>\n",
       "      <td>Green</td>\n",
       "    </tr>\n",
       "  </tbody>\n",
       "</table>\n",
       "</div>"
      ],
      "text/plain": [
       "  Country   Drink   Color\n",
       "0   Ghana  Coffee  Yellow\n",
       "1   Niger   Asana   White\n",
       "2  Canada     Tea   Green"
      ]
     },
     "execution_count": 3,
     "metadata": {},
     "output_type": "execute_result"
    }
   ],
   "source": [
    "Sdf.head(3)"
   ]
  },
  {
   "cell_type": "markdown",
   "id": "42a747b2-324e-423e-8818-fb335c273383",
   "metadata": {},
   "source": [
    "#In a new code cell, view the index of the DataFrame"
   ]
  },
  {
   "cell_type": "code",
   "execution_count": 4,
   "id": "9c42fb16-f425-4c53-96ab-17a69c731fec",
   "metadata": {},
   "outputs": [
    {
     "name": "stdout",
     "output_type": "stream",
     "text": [
      "RangeIndex(start=0, stop=4, step=1)\n"
     ]
    }
   ],
   "source": [
    "print(Sdf.index)"
   ]
  },
  {
   "cell_type": "markdown",
   "id": "fbe9765b-a966-4d22-8617-1aff4909b60b",
   "metadata": {},
   "source": [
    "#In a new code cell, select and view only the first column of the DataFrame"
   ]
  },
  {
   "cell_type": "code",
   "execution_count": 5,
   "id": "31dce908-5198-4c16-b111-bf4a2c75b9e3",
   "metadata": {},
   "outputs": [
    {
     "name": "stdout",
     "output_type": "stream",
     "text": [
      "0     Ghana\n",
      "1     Niger\n",
      "2    Canada\n",
      "3     Italy\n",
      "Name: Country, dtype: object\n"
     ]
    }
   ],
   "source": [
    "print(Sdf['Country'])"
   ]
  },
  {
   "cell_type": "markdown",
   "id": "0172a652-cc7c-4cd1-951b-142cde131f02",
   "metadata": {},
   "source": [
    "#In a new code cell, select and view only the first row of the DataFrame"
   ]
  },
  {
   "cell_type": "code",
   "execution_count": 6,
   "id": "dbf393a2-3dbf-48e4-b859-0d64ad5d1116",
   "metadata": {},
   "outputs": [
    {
     "name": "stdout",
     "output_type": "stream",
     "text": [
      "Country     Ghana\n",
      "Drink      Coffee\n",
      "Color      Yellow\n",
      "Name: 0, dtype: object\n"
     ]
    }
   ],
   "source": [
    "print(Sdf.iloc[0])"
   ]
  },
  {
   "cell_type": "code",
   "execution_count": 9,
   "id": "a6591868-dca8-418f-aece-48778be5192d",
   "metadata": {},
   "outputs": [],
   "source": [
    "#In a new code cell, create a DataFrame that contains the same information as before, but by passing a different object type to the DataFrame constructor."
   ]
  },
  {
   "cell_type": "code",
   "execution_count": 7,
   "id": "25445e58-77c5-4a61-8b8b-c317d1bc0ab2",
   "metadata": {},
   "outputs": [
    {
     "name": "stdout",
     "output_type": "stream",
     "text": [
      "    Fruit Vegetable  Snacks Local names\n",
      "0   Ghana    Coffee  Yellow         Ama\n",
      "1   Niger     Asana   White      Yussif\n",
      "2  Canada       Tea   Green       Brian\n",
      "3   Italy      Wine     Red       Camil\n",
      "4      20        30      40          50\n"
     ]
    }
   ],
   "source": [
    "Sdata = [\n",
    "    ['Ghana', 'Coffee', 'Yellow', 'Ama'], \n",
    "    ['Niger', 'Asana', 'White', 'Yussif'], \n",
    "    ['Canada', 'Tea', 'Green', 'Brian'], \n",
    "    ['Italy', 'Wine', 'Red', 'Camil'],\n",
    "      [20, 30, 40, 50]\n",
    "  \n",
    "]\n",
    "\n",
    "columns = ['Fruit', 'Vegetable', 'Snacks', 'Local names']\n",
    "\n",
    "Sdf = pd.DataFrame(Sdata, columns=columns)\n",
    "print(Sdf)"
   ]
  },
  {
   "cell_type": "code",
   "execution_count": 12,
   "id": "47ebdba5-32cb-4c9b-ae2b-edf1b93e13c3",
   "metadata": {},
   "outputs": [
    {
     "name": "stdout",
     "output_type": "stream",
     "text": [
      "  Country   Drink   Color\n",
      "0   Ghana  Coffee  Yellow\n",
      "1   Niger   Asana   White\n",
      "2  Canada     Tea   Green\n",
      "3   Italy    Wine     Red\n"
     ]
    }
   ],
   "source": [
    "# Data as a list of lists\n",
    "data = [\n",
    "    ['Ghana', 'Coffee', 'Yellow'], \n",
    "    ['Niger', 'Asana', 'White'], \n",
    "    ['Canada', 'Tea', 'Green'], \n",
    "    ['Italy', 'Wine', 'Red']\n",
    "]\n",
    "df = pd.DataFrame(data, columns=['Country','Drink','Color'])\n",
    "print(df)\n",
    "\n"
   ]
  },
  {
   "cell_type": "markdown",
   "id": "caf810de-bc2c-4f33-9a86-21034e6ef029",
   "metadata": {},
   "source": [
    "#What does the \"write/render/evaluate\" loop provide for creators of interactive data visualizations\n",
    "\n",
    "The write/render/evaluate loop allows creators to experiment with alternative mapping, tweak rules, and witness the output re-rendered."
   ]
  },
  {
   "cell_type": "markdown",
   "id": "bb1c078f-ad64-4f2c-8700-8b28355a2c51",
   "metadata": {},
   "source": [
    "#Why are dynamic, interactive data visualizations useful when communicating data?\n",
    "\n",
    "It motivates people to explore the data for themselves. Also, it is a good medium to engage an audience that may not normally be interested in the topic at hand."
   ]
  },
  {
   "cell_type": "markdown",
   "id": "58801d86-b2c3-47cc-a6e8-f04d1c1a7ae6",
   "metadata": {},
   "source": [
    "#Do you agree with Murray's claim that open-source tools that avoid proprietary software are best for publishing data visualization? In a few sentences, explain why you do or do not agree.\n",
    "\n",
    "I am partial to his claim. Some open-source tools can be useful in cases where the user wants to prioritize ease of use. However, it is also important to be transparent when using software built by others. Open-source software does not give credit to the innovator and can sometimes be overly used. "
   ]
  },
  {
   "cell_type": "code",
   "execution_count": 13,
   "id": "ad06e67c-1fde-4cca-8101-8a0dd64b69c7",
   "metadata": {},
   "outputs": [
    {
     "name": "stdout",
     "output_type": "stream",
     "text": [
      "file written to Sdf.csv\n"
     ]
    }
   ],
   "source": [
    "Raw_data = 'Sdf.csv'\n",
    "\n",
    "# WritING dataframe to a CSV file\n",
    "Sdf.to_csv(Raw_data, index=False)\n",
    "\n",
    "print(f\"file written to {Raw_data}\")"
   ]
  },
  {
   "cell_type": "code",
   "execution_count": null,
   "id": "8ee4c22a-b803-4052-b51d-c628b97d10a1",
   "metadata": {},
   "outputs": [],
   "source": []
  },
  {
   "cell_type": "code",
   "execution_count": null,
   "id": "1d130731-7e37-49f2-af59-a3cf9ca9cca0",
   "metadata": {},
   "outputs": [],
   "source": []
  },
  {
   "cell_type": "code",
   "execution_count": null,
   "id": "96091678-059a-41f7-934c-28b81e9821e7",
   "metadata": {},
   "outputs": [],
   "source": []
  },
  {
   "cell_type": "code",
   "execution_count": null,
   "id": "f69d47a5-94c7-408e-9ea7-8444bbdefcfa",
   "metadata": {},
   "outputs": [],
   "source": []
  },
  {
   "cell_type": "code",
   "execution_count": null,
   "id": "c0d71a06-d4ab-45b4-89a0-4b4fed27ee0c",
   "metadata": {},
   "outputs": [],
   "source": []
  },
  {
   "cell_type": "code",
   "execution_count": null,
   "id": "4ac8b47f-f624-4e94-96cb-d840ec86d773",
   "metadata": {},
   "outputs": [],
   "source": []
  }
 ],
 "metadata": {
  "kernelspec": {
   "display_name": "Python 3 (ipykernel)",
   "language": "python",
   "name": "python3"
  },
  "language_info": {
   "codemirror_mode": {
    "name": "ipython",
    "version": 3
   },
   "file_extension": ".py",
   "mimetype": "text/x-python",
   "name": "python",
   "nbconvert_exporter": "python",
   "pygments_lexer": "ipython3",
   "version": "3.12.8"
  }
 },
 "nbformat": 4,
 "nbformat_minor": 5
}
