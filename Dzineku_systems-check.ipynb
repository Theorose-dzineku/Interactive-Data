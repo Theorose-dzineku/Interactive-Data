{
 "cells": [
  {
   "cell_type": "markdown",
   "id": "d9561ba9-19e8-4b48-a39d-985452c17e82",
   "metadata": {},
   "source": [
    "#Systems Check \n",
    "\n",
    "##Theorose Elikplim Dzineku\n",
    "\n",
    "Homework"
   ]
  },
  {
   "cell_type": "code",
   "execution_count": 1,
   "id": "9ea651b9-7da1-4ac6-b73a-5e5db5097cc1",
   "metadata": {},
   "outputs": [],
   "source": [
    "x = 3+1"
   ]
  },
  {
   "cell_type": "code",
   "execution_count": 2,
   "id": "07315de8-e299-4ea8-b294-fd26ae7a6a3d",
   "metadata": {},
   "outputs": [
    {
     "data": {
      "text/plain": [
       "4"
      ]
     },
     "execution_count": 2,
     "metadata": {},
     "output_type": "execute_result"
    }
   ],
   "source": [
    "x"
   ]
  },
  {
   "cell_type": "code",
   "execution_count": 6,
   "id": "fc3c27a6-2a01-4116-8ba6-43eb2c68fe98",
   "metadata": {},
   "outputs": [],
   "source": [
    "x = \"'dog's\""
   ]
  },
  {
   "cell_type": "code",
   "execution_count": 7,
   "id": "fcf2fc83-45d2-484c-9756-e54019b41c6a",
   "metadata": {},
   "outputs": [
    {
     "data": {
      "text/plain": [
       "\"'dog's\""
      ]
     },
     "execution_count": 7,
     "metadata": {},
     "output_type": "execute_result"
    }
   ],
   "source": [
    "x"
   ]
  },
  {
   "cell_type": "code",
   "execution_count": 8,
   "id": "8ec8d752-feb1-491b-a137-1eb5f3ac6644",
   "metadata": {},
   "outputs": [
    {
     "data": {
      "text/plain": [
       "{'a': [2, 3, 4], 'b': ['a', 'b', 'c']}"
      ]
     },
     "execution_count": 8,
     "metadata": {},
     "output_type": "execute_result"
    }
   ],
   "source": [
    "a = {'a':[2,3,4], 'b':['a','b','c']}\n",
    "a"
   ]
  },
  {
   "cell_type": "code",
   "execution_count": 12,
   "id": "beb0cd54-cdbc-47c5-b875-8e61852b475d",
   "metadata": {},
   "outputs": [],
   "source": [
    "def give_hello():\n",
    "    return 'hello'"
   ]
  },
  {
   "cell_type": "code",
   "execution_count": 13,
   "id": "9141baa6-0ef7-4d46-8875-307266436970",
   "metadata": {},
   "outputs": [
    {
     "data": {
      "text/plain": [
       "'hello'"
      ]
     },
     "execution_count": 13,
     "metadata": {},
     "output_type": "execute_result"
    }
   ],
   "source": [
    "give_hello()"
   ]
  },
  {
   "cell_type": "code",
   "execution_count": 20,
   "id": "1375c05c-9d99-4895-bd16-37267d6b9062",
   "metadata": {},
   "outputs": [],
   "source": [
    "def say_hello():\n",
    "    print('hello')"
   ]
  },
  {
   "cell_type": "code",
   "execution_count": 21,
   "id": "eaa66085-22a3-4c66-9950-fe348872b5eb",
   "metadata": {},
   "outputs": [
    {
     "name": "stdout",
     "output_type": "stream",
     "text": [
      "hello\n"
     ]
    }
   ],
   "source": [
    "greeting = say_hello()\n",
    "greeting\n",
    "greeting2 = give_hello()"
   ]
  },
  {
   "cell_type": "code",
   "execution_count": null,
   "id": "a9b71933-ccea-45c7-ac04-d5c990a63948",
   "metadata": {},
   "outputs": [],
   "source": [
    "def give_hello():\n",
    "    return 'hello'"
   ]
  },
  {
   "cell_type": "markdown",
   "id": "ddb5ed47-ccac-441d-aa3f-e62ec3535c14",
   "metadata": {},
   "source": [
    "creating a for loop"
   ]
  },
  {
   "cell_type": "code",
   "execution_count": 22,
   "id": "176dbecf-a3b0-406d-93bc-aba3eda470c3",
   "metadata": {},
   "outputs": [
    {
     "name": "stdout",
     "output_type": "stream",
     "text": [
      "d\n",
      "o\n",
      "g\n"
     ]
    }
   ],
   "source": [
    "for x in 'dog':\n",
    "    print(x)"
   ]
  },
  {
   "cell_type": "code",
   "execution_count": 23,
   "id": "a7a08944-3b1d-4cc8-914c-fe3b59645c2b",
   "metadata": {},
   "outputs": [
    {
     "name": "stdout",
     "output_type": "stream",
     "text": [
      "4\n",
      "5\n",
      "6\n",
      "7\n",
      "8\n"
     ]
    }
   ],
   "source": [
    "for i in [1,2,3,4,5]:\n",
    "    q =3+i\n",
    "    print(q)"
   ]
  },
  {
   "cell_type": "code",
   "execution_count": null,
   "id": "19273d72-19ba-4ffe-ac13-bd6f97603a97",
   "metadata": {},
   "outputs": [],
   "source": []
  },
  {
   "cell_type": "code",
   "execution_count": null,
   "id": "68abffd0-c6c2-4cd1-ac2c-b61c465c28cd",
   "metadata": {},
   "outputs": [],
   "source": []
  },
  {
   "cell_type": "code",
   "execution_count": null,
   "id": "b61ae001-12d2-44ff-86d6-e2ba3372af38",
   "metadata": {},
   "outputs": [],
   "source": []
  },
  {
   "cell_type": "code",
   "execution_count": null,
   "id": "90329fa4-27f8-4d1e-a727-69d24dac2b85",
   "metadata": {},
   "outputs": [],
   "source": []
  },
  {
   "cell_type": "code",
   "execution_count": null,
   "id": "25c7ddc9-3d4e-4a16-804c-00d8bac9c165",
   "metadata": {},
   "outputs": [],
   "source": []
  }
 ],
 "metadata": {
  "kernelspec": {
   "display_name": "Python 3 (ipykernel)",
   "language": "python",
   "name": "python3"
  },
  "language_info": {
   "codemirror_mode": {
    "name": "ipython",
    "version": 3
   },
   "file_extension": ".py",
   "mimetype": "text/x-python",
   "name": "python",
   "nbconvert_exporter": "python",
   "pygments_lexer": "ipython3",
   "version": "3.12.8"
  }
 },
 "nbformat": 4,
 "nbformat_minor": 5
}
