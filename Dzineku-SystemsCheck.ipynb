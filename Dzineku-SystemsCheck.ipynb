{
 "cells": [
  {
   "cell_type": "code",
   "execution_count": null,
   "id": "3d946b62-e3f5-4600-bf8d-13e5be24d284",
   "metadata": {},
   "outputs": [],
   "source": []
  },
  {
   "cell_type": "markdown",
   "id": "5247dca9-dcd2-495e-88fa-b67be005a722",
   "metadata": {},
   "source": [
    "Multi-level headings\n",
    "\n",
    "#Week one assignment\n",
    "\n",
    "##Theorose Elikplim Dzineku\n",
    "\n",
    "###System Checks\n",
    "\n",
    "####Interactive Data"
   ]
  },
  {
   "cell_type": "code",
   "execution_count": 29,
   "id": "aaba3a99-9efe-441c-b9d8-f97a8ffa52f1",
   "metadata": {},
   "outputs": [
    {
     "data": {
      "text/plain": [
       "'example of multi-level headings above'"
      ]
     },
     "execution_count": 29,
     "metadata": {},
     "output_type": "execute_result"
    }
   ],
   "source": [
    "'example of multi-level headings above'"
   ]
  },
  {
   "cell_type": "markdown",
   "id": "9c5de2c6-9280-4dff-b0db-fbff6e969a01",
   "metadata": {},
   "source": [
    "Ordered Lists\n",
    "1. Theorose Elikplim Dzineku\n",
    "2. Interactive Data\n",
    "3. Assignment one"
   ]
  },
  {
   "cell_type": "code",
   "execution_count": 30,
   "id": "8f71ece6-159d-4c0a-be07-c61a564f488a",
   "metadata": {},
   "outputs": [
    {
     "data": {
      "text/plain": [
       "'example of ordered lists above'"
      ]
     },
     "execution_count": 30,
     "metadata": {},
     "output_type": "execute_result"
    }
   ],
   "source": [
    "'example of ordered lists above'"
   ]
  },
  {
   "cell_type": "markdown",
   "id": "4e497715-263b-41ec-932e-6ef8bef8f363",
   "metadata": {},
   "source": [
    "**Bold Text**\n",
    "\n",
    "I do hope the course can set me up for my future profession"
   ]
  },
  {
   "cell_type": "code",
   "execution_count": 31,
   "id": "43177d41-5eb1-4ee9-bd2a-29bbdca27229",
   "metadata": {},
   "outputs": [
    {
     "data": {
      "text/plain": [
       "'Example of bold text heading'"
      ]
     },
     "execution_count": 31,
     "metadata": {},
     "output_type": "execute_result"
    }
   ],
   "source": [
    "'Example of bold text heading'"
   ]
  },
  {
   "cell_type": "markdown",
   "id": "60e9bc5f-cad4-4adb-be3f-48e787085eab",
   "metadata": {},
   "source": [
    "*Italics text*\n",
    "\n",
    "Also, I envisage this call to be a space where my creativity shapes and builds a product"
   ]
  },
  {
   "cell_type": "code",
   "execution_count": 32,
   "id": "82eb4a7d-bbd2-42bc-9f24-2fa7166a0e22",
   "metadata": {},
   "outputs": [
    {
     "data": {
      "text/plain": [
       "'example of italicized above'"
      ]
     },
     "execution_count": 32,
     "metadata": {},
     "output_type": "execute_result"
    }
   ],
   "source": [
    "'example of italicized above'"
   ]
  },
  {
   "cell_type": "markdown",
   "id": "511f1bac-0bce-451d-bca5-35e56f579a59",
   "metadata": {},
   "source": [
    "Image\n",
    "\n",
    "My goal for this class is to be able to create a creative project with data\n",
    "\n",
    "![image](https://drive.google.com/file/d/1e2lt8hgqsLnaRMYn_VkSnK2Ka4ccg4j6/view?usp=drive_link)"
   ]
  },
  {
   "cell_type": "code",
   "execution_count": 33,
   "id": "49366412-c24c-4b2f-a8ac-c87c73864ec1",
   "metadata": {},
   "outputs": [
    {
     "data": {
      "text/plain": [
       "'uploaded image above'"
      ]
     },
     "execution_count": 33,
     "metadata": {},
     "output_type": "execute_result"
    }
   ],
   "source": [
    "'uploaded image above'"
   ]
  },
  {
   "cell_type": "markdown",
   "id": "d78cb90f-638d-45d1-89dd-09ed701c3aff",
   "metadata": {},
   "source": [
    "Variable Assignment"
   ]
  },
  {
   "cell_type": "code",
   "execution_count": 34,
   "id": "4f33e365-117f-437f-8ba0-4028b6070cb8",
   "metadata": {},
   "outputs": [
    {
     "data": {
      "text/plain": [
       "{'c': [6, 8, 10], 'f': ['x', 'y', 'z']}"
      ]
     },
     "execution_count": 34,
     "metadata": {},
     "output_type": "execute_result"
    }
   ],
   "source": [
    "c = {'c':[6,8,10], 'f':['x','y','z']}\n",
    "c"
   ]
  },
  {
   "cell_type": "markdown",
   "id": "92ee9ddb-03f2-4d5e-873d-282541a132ae",
   "metadata": {},
   "source": [
    "A for Loop"
   ]
  },
  {
   "cell_type": "code",
   "execution_count": 35,
   "id": "d1114f0c-ba7c-4855-9dc3-2d043f10381e",
   "metadata": {},
   "outputs": [
    {
     "name": "stdout",
     "output_type": "stream",
     "text": [
      "c\n",
      "l\n",
      "a\n",
      "s\n",
      "s\n"
     ]
    }
   ],
   "source": [
    "for x in 'class':\n",
    "    print(x)\n",
    "    "
   ]
  },
  {
   "cell_type": "markdown",
   "id": "a53bbbbe-cffe-4a90-a7f7-591ca33f9205",
   "metadata": {},
   "source": [
    "Print Statement"
   ]
  },
  {
   "cell_type": "code",
   "execution_count": 39,
   "id": "b22a4c1e-014f-49df-b814-d45eb7570a4d",
   "metadata": {},
   "outputs": [
    {
     "name": "stdout",
     "output_type": "stream",
     "text": [
      "hello, Theorose\n"
     ]
    }
   ],
   "source": [
    "print('hello, Theorose')"
   ]
  },
  {
   "cell_type": "markdown",
   "id": "4b5cd1cc-8f1a-49f8-b101-fd91622bace7",
   "metadata": {},
   "source": [
    "Return Statement"
   ]
  },
  {
   "cell_type": "code",
   "execution_count": 40,
   "id": "95d001fb-a69a-496a-9120-7ca2aa8fde76",
   "metadata": {},
   "outputs": [],
   "source": [
    "def give_name():\n",
    "    return 'name'"
   ]
  },
  {
   "cell_type": "code",
   "execution_count": 41,
   "id": "d5a299dc-5f3c-41ec-957a-330fd0795607",
   "metadata": {},
   "outputs": [
    {
     "data": {
      "text/plain": [
       "'name'"
      ]
     },
     "execution_count": 41,
     "metadata": {},
     "output_type": "execute_result"
    }
   ],
   "source": [
    "give_name()"
   ]
  },
  {
   "cell_type": "code",
   "execution_count": null,
   "id": "da55c912-7415-4c21-a27f-e3f135bedb07",
   "metadata": {},
   "outputs": [],
   "source": []
  }
 ],
 "metadata": {
  "kernelspec": {
   "display_name": "Python 3 (ipykernel)",
   "language": "python",
   "name": "python3"
  },
  "language_info": {
   "codemirror_mode": {
    "name": "ipython",
    "version": 3
   },
   "file_extension": ".py",
   "mimetype": "text/x-python",
   "name": "python",
   "nbconvert_exporter": "python",
   "pygments_lexer": "ipython3",
   "version": "3.12.8"
  }
 },
 "nbformat": 4,
 "nbformat_minor": 5
}
